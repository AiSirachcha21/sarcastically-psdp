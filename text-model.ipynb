{
 "cells": [
  {
   "cell_type": "code",
   "execution_count": 2,
   "metadata": {
    "collapsed": true,
    "pycharm": {
     "name": "#%%\n"
    }
   },
   "outputs": [],
   "source": [
    "import pandas as pd\n",
    "import numpy as np\n",
    "from sklearn.feature_extraction.text import TfidfVectorizer\n",
    "from sklearn.model_selection import train_test_split\n",
    "import tensorflow as tf"
   ]
  },
  {
   "cell_type": "code",
   "execution_count": 16,
   "outputs": [
    {
     "data": {
      "text/plain": "                                           utterance  speaker  \\\n0  It's just a privilege to watch your mind at work.  SHELDON   \n1  I don't think I'll be able to stop thinking ab...    PENNY   \n2  Since it's not bee season, you can have my epi...  SHELDON   \n3  Lois Lane is falling, accelerating at an initi...  SHELDON   \n4  I'm just inferring this is a couch because the...  SHELDON   \n\n                                             context  \\\n0  ['I never would have identified the fingerprin...   \n1  ['This is one of my favorite places to kick ba...   \n2  ['Here we go. Pad thai, no peanuts.', 'But doe...   \n3  ['A marathon? How many Superman movies are the...   \n4  [\"Great Caesar's ghost, look at this place.\", ...   \n\n                                    context_speakers show  sarcasm  \n0                             ['LEONARD', 'SHELDON']  BBT     True  \n1  ['HOWARD', 'PENNY', 'HOWARD', 'HOWARD', 'HOWAR...  BBT     True  \n2                   ['LEONARD', 'HOWARD', 'LEONARD']  BBT    False  \n3  ['PENNY', 'SHELDON', 'PENNY', 'SHELDON', 'SHEL...  BBT    False  \n4  ['SHELDON', 'LEONARD', 'SHELDON', 'SHELDON', '...  BBT     True  ",
      "text/html": "<div>\n<style scoped>\n    .dataframe tbody tr th:only-of-type {\n        vertical-align: middle;\n    }\n\n    .dataframe tbody tr th {\n        vertical-align: top;\n    }\n\n    .dataframe thead th {\n        text-align: right;\n    }\n</style>\n<table border=\"1\" class=\"dataframe\">\n  <thead>\n    <tr style=\"text-align: right;\">\n      <th></th>\n      <th>utterance</th>\n      <th>speaker</th>\n      <th>context</th>\n      <th>context_speakers</th>\n      <th>show</th>\n      <th>sarcasm</th>\n    </tr>\n  </thead>\n  <tbody>\n    <tr>\n      <th>0</th>\n      <td>It's just a privilege to watch your mind at work.</td>\n      <td>SHELDON</td>\n      <td>['I never would have identified the fingerprin...</td>\n      <td>['LEONARD', 'SHELDON']</td>\n      <td>BBT</td>\n      <td>True</td>\n    </tr>\n    <tr>\n      <th>1</th>\n      <td>I don't think I'll be able to stop thinking ab...</td>\n      <td>PENNY</td>\n      <td>['This is one of my favorite places to kick ba...</td>\n      <td>['HOWARD', 'PENNY', 'HOWARD', 'HOWARD', 'HOWAR...</td>\n      <td>BBT</td>\n      <td>True</td>\n    </tr>\n    <tr>\n      <th>2</th>\n      <td>Since it's not bee season, you can have my epi...</td>\n      <td>SHELDON</td>\n      <td>['Here we go. Pad thai, no peanuts.', 'But doe...</td>\n      <td>['LEONARD', 'HOWARD', 'LEONARD']</td>\n      <td>BBT</td>\n      <td>False</td>\n    </tr>\n    <tr>\n      <th>3</th>\n      <td>Lois Lane is falling, accelerating at an initi...</td>\n      <td>SHELDON</td>\n      <td>['A marathon? How many Superman movies are the...</td>\n      <td>['PENNY', 'SHELDON', 'PENNY', 'SHELDON', 'SHEL...</td>\n      <td>BBT</td>\n      <td>False</td>\n    </tr>\n    <tr>\n      <th>4</th>\n      <td>I'm just inferring this is a couch because the...</td>\n      <td>SHELDON</td>\n      <td>[\"Great Caesar's ghost, look at this place.\", ...</td>\n      <td>['SHELDON', 'LEONARD', 'SHELDON', 'SHELDON', '...</td>\n      <td>BBT</td>\n      <td>True</td>\n    </tr>\n  </tbody>\n</table>\n</div>"
     },
     "execution_count": 16,
     "metadata": {},
     "output_type": "execute_result"
    }
   ],
   "source": [
    "data = pd.read_csv('normalized_mustard_dataset.csv')\n",
    "data.head()"
   ],
   "metadata": {
    "collapsed": false,
    "pycharm": {
     "name": "#%%\n"
    }
   }
  },
  {
   "cell_type": "code",
   "execution_count": 22,
   "outputs": [],
   "source": [
    "vocab_size = 10000\n",
    "embedding_size = 16\n",
    "required_data = data[['utterance', 'sarcasm']]\n",
    "\n",
    "utterances = np.array(required_data['utterance'])\n",
    "utterance_list = utterances.tolist()\n",
    "\n",
    "sarcasm_states = np.array(required_data['sarcasm'])\n",
    "\n",
    "tfidf = TfidfVectorizer()\n",
    "X1 = tfidf.fit_transform(utterance_list)"
   ],
   "metadata": {
    "collapsed": false,
    "pycharm": {
     "name": "#%%\n"
    }
   }
  },
  {
   "cell_type": "code",
   "execution_count": 27,
   "outputs": [
    {
     "name": "stdout",
     "output_type": "stream",
     "text": [
      "<class 'pandas.core.frame.DataFrame'>\n",
      "RangeIndex: 690 entries, 0 to 689\n",
      "Data columns (total 6 columns):\n",
      " #   Column            Non-Null Count  Dtype \n",
      "---  ------            --------------  ----- \n",
      " 0   utterance         690 non-null    object\n",
      " 1   speaker           690 non-null    object\n",
      " 2   context           690 non-null    object\n",
      " 3   context_speakers  690 non-null    object\n",
      " 4   show              690 non-null    object\n",
      " 5   sarcasm           690 non-null    bool  \n",
      "dtypes: bool(1), object(5)\n",
      "memory usage: 27.8+ KB\n"
     ]
    }
   ],
   "source": [
    "data.info()"
   ],
   "metadata": {
    "collapsed": false,
    "pycharm": {
     "name": "#%%\n"
    }
   }
  },
  {
   "cell_type": "code",
   "execution_count": null,
   "outputs": [],
   "source": [
    "x_train,x_test,y_train,y_test = train_test_split(X1,sarcasm_states, test_size=0.25)\n",
    "\n",
    "model = tf.keras.Sequential([\n",
    "    tf.keras.layers.Embedding(vocab_size, embedding_size, input_length=1977),\n",
    "    tf.keras.layers.Flatten(),\n",
    "    tf.keras.layers.Dense(6, activation='relu'),\n",
    "    tf.keras.layers.Dense(1, activation=\"sigmoid\")\n",
    "])\n",
    "\n",
    "model.compile(loss=\"binary_crossentropy\", optimizer=\"adam\", metrics=['accuracy'])\n",
    "model.fit(x_train, np.array(y_train), epochs=10, validation_data=(x_test, np.array(y_test)))"
   ],
   "metadata": {
    "collapsed": false,
    "pycharm": {
     "name": "#%%\n"
    }
   }
  },
  {
   "cell_type": "code",
   "execution_count": 28,
   "outputs": [
    {
     "name": "stdout",
     "output_type": "stream",
     "text": [
      "<class 'numpy.ndarray'>\n",
      "[0.49690127]\n"
     ]
    }
   ],
   "source": [
    "user_statement = input(\"Tell me something sarcastic: \\n\")\n",
    "data = tfidf.transform([user_statement]).toarray()\n",
    "output = model.predict(data)\n",
    "print(output.flatten())"
   ],
   "metadata": {
    "collapsed": false,
    "pycharm": {
     "name": "#%%\n"
    }
   }
  },
  {
   "cell_type": "code",
   "execution_count": null,
   "outputs": [],
   "source": [],
   "metadata": {
    "collapsed": false,
    "pycharm": {
     "name": "#%%\n"
    }
   }
  }
 ],
 "metadata": {
  "kernelspec": {
   "display_name": "Python 3",
   "language": "python",
   "name": "python3"
  },
  "language_info": {
   "codemirror_mode": {
    "name": "ipython",
    "version": 2
   },
   "file_extension": ".py",
   "mimetype": "text/x-python",
   "name": "python",
   "nbconvert_exporter": "python",
   "pygments_lexer": "ipython2",
   "version": "2.7.6"
  }
 },
 "nbformat": 4,
 "nbformat_minor": 0
}