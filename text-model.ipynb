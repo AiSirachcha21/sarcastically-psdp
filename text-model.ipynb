{
 "cells": [
  {
   "cell_type": "code",
   "execution_count": 2,
   "metadata": {
    "collapsed": true,
    "pycharm": {
     "name": "#%%\n"
    }
   },
   "outputs": [],
   "source": [
    "import pandas as pd\n",
    "import numpy as np\n",
    "from sklearn.model_selection import train_test_split\n",
    "from tensorflow.keras.preprocessing.text import Tokenizer\n",
    "from tensorflow.keras.preprocessing.sequence import pad_sequences\n",
    "from tensorflow.keras.utils import to_categorical"
   ]
  },
  {
   "cell_type": "code",
   "execution_count": 3,
   "outputs": [
    {
     "data": {
      "text/plain": "   file_name                                          utterance  \\\n0   1_60.wav  It's just a privilege to watch your mind at work.   \n1   1_70.wav  I don't think I'll be able to stop thinking ab...   \n2   1_80.wav  Since it's not bee season, you can have my epi...   \n3   1_90.wav  Lois Lane is falling, accelerating at an initi...   \n4  1_105.wav  I'm just inferring this is a couch because the...   \n\n                                             context  sarcasm  \n0  ['I never would have identified the fingerprin...     True  \n1  ['This is one of my favorite places to kick ba...     True  \n2  ['Here we go. Pad thai, no peanuts.', 'But doe...    False  \n3  ['A marathon? How many Superman movies are the...    False  \n4  [\"Great Caesar's ghost, look at this place.\", ...     True  ",
      "text/html": "<div>\n<style scoped>\n    .dataframe tbody tr th:only-of-type {\n        vertical-align: middle;\n    }\n\n    .dataframe tbody tr th {\n        vertical-align: top;\n    }\n\n    .dataframe thead th {\n        text-align: right;\n    }\n</style>\n<table border=\"1\" class=\"dataframe\">\n  <thead>\n    <tr style=\"text-align: right;\">\n      <th></th>\n      <th>file_name</th>\n      <th>utterance</th>\n      <th>context</th>\n      <th>sarcasm</th>\n    </tr>\n  </thead>\n  <tbody>\n    <tr>\n      <th>0</th>\n      <td>1_60.wav</td>\n      <td>It's just a privilege to watch your mind at work.</td>\n      <td>['I never would have identified the fingerprin...</td>\n      <td>True</td>\n    </tr>\n    <tr>\n      <th>1</th>\n      <td>1_70.wav</td>\n      <td>I don't think I'll be able to stop thinking ab...</td>\n      <td>['This is one of my favorite places to kick ba...</td>\n      <td>True</td>\n    </tr>\n    <tr>\n      <th>2</th>\n      <td>1_80.wav</td>\n      <td>Since it's not bee season, you can have my epi...</td>\n      <td>['Here we go. Pad thai, no peanuts.', 'But doe...</td>\n      <td>False</td>\n    </tr>\n    <tr>\n      <th>3</th>\n      <td>1_90.wav</td>\n      <td>Lois Lane is falling, accelerating at an initi...</td>\n      <td>['A marathon? How many Superman movies are the...</td>\n      <td>False</td>\n    </tr>\n    <tr>\n      <th>4</th>\n      <td>1_105.wav</td>\n      <td>I'm just inferring this is a couch because the...</td>\n      <td>[\"Great Caesar's ghost, look at this place.\", ...</td>\n      <td>True</td>\n    </tr>\n  </tbody>\n</table>\n</div>"
     },
     "execution_count": 3,
     "metadata": {},
     "output_type": "execute_result"
    }
   ],
   "source": [
    "data = pd.read_csv('normalized_mustard_dataset.csv')\n",
    "data.head()"
   ],
   "metadata": {
    "collapsed": false,
    "pycharm": {
     "name": "#%%\n"
    }
   }
  },
  {
   "cell_type": "code",
   "execution_count": 4,
   "outputs": [],
   "source": [
    "embedding_size = 16\n",
    "max_length = 60\n",
    "padding_type = 'post'"
   ],
   "metadata": {
    "collapsed": false,
    "pycharm": {
     "name": "#%%\n"
    }
   }
  },
  {
   "cell_type": "code",
   "execution_count": 5,
   "outputs": [
    {
     "data": {
      "text/plain": "   file_name                                          utterance  \\\n0   1_60.wav  It's just a privilege to watch your mind at work.   \n1   1_70.wav  I don't think I'll be able to stop thinking ab...   \n2   1_80.wav  Since it's not bee season, you can have my epi...   \n3   1_90.wav  Lois Lane is falling, accelerating at an initi...   \n4  1_105.wav  I'm just inferring this is a couch because the...   \n\n                                             context  sarcasm  \n0  ['I never would have identified the fingerprin...        1  \n1  ['This is one of my favorite places to kick ba...        1  \n2  ['Here we go. Pad thai, no peanuts.', 'But doe...        0  \n3  ['A marathon? How many Superman movies are the...        0  \n4  [\"Great Caesar's ghost, look at this place.\", ...        1  ",
      "text/html": "<div>\n<style scoped>\n    .dataframe tbody tr th:only-of-type {\n        vertical-align: middle;\n    }\n\n    .dataframe tbody tr th {\n        vertical-align: top;\n    }\n\n    .dataframe thead th {\n        text-align: right;\n    }\n</style>\n<table border=\"1\" class=\"dataframe\">\n  <thead>\n    <tr style=\"text-align: right;\">\n      <th></th>\n      <th>file_name</th>\n      <th>utterance</th>\n      <th>context</th>\n      <th>sarcasm</th>\n    </tr>\n  </thead>\n  <tbody>\n    <tr>\n      <th>0</th>\n      <td>1_60.wav</td>\n      <td>It's just a privilege to watch your mind at work.</td>\n      <td>['I never would have identified the fingerprin...</td>\n      <td>1</td>\n    </tr>\n    <tr>\n      <th>1</th>\n      <td>1_70.wav</td>\n      <td>I don't think I'll be able to stop thinking ab...</td>\n      <td>['This is one of my favorite places to kick ba...</td>\n      <td>1</td>\n    </tr>\n    <tr>\n      <th>2</th>\n      <td>1_80.wav</td>\n      <td>Since it's not bee season, you can have my epi...</td>\n      <td>['Here we go. Pad thai, no peanuts.', 'But doe...</td>\n      <td>0</td>\n    </tr>\n    <tr>\n      <th>3</th>\n      <td>1_90.wav</td>\n      <td>Lois Lane is falling, accelerating at an initi...</td>\n      <td>['A marathon? How many Superman movies are the...</td>\n      <td>0</td>\n    </tr>\n    <tr>\n      <th>4</th>\n      <td>1_105.wav</td>\n      <td>I'm just inferring this is a couch because the...</td>\n      <td>[\"Great Caesar's ghost, look at this place.\", ...</td>\n      <td>1</td>\n    </tr>\n  </tbody>\n</table>\n</div>"
     },
     "execution_count": 5,
     "metadata": {},
     "output_type": "execute_result"
    }
   ],
   "source": [
    "data['sarcasm'].replace({True:1,False:0},inplace=True)\n",
    "data.head()"
   ],
   "metadata": {
    "collapsed": false,
    "pycharm": {
     "name": "#%%\n"
    }
   }
  },
  {
   "cell_type": "code",
   "execution_count": 5,
   "outputs": [],
   "source": [
    "utterances = data['utterance'].values\n",
    "sarcasm_states = data['sarcasm'].values"
   ],
   "metadata": {
    "collapsed": false,
    "pycharm": {
     "name": "#%%\n"
    }
   }
  },
  {
   "cell_type": "code",
   "execution_count": 6,
   "outputs": [],
   "source": [
    "tokenizer = Tokenizer()\n",
    "tokenizer.fit_on_texts(utterances)\n",
    "train = tokenizer.texts_to_sequences(utterances)\n",
    "padded_train_sequences = pad_sequences(train, maxlen=max_length, padding=padding_type)\n",
    "y_train = to_categorical(sarcasm_states, num_classes=2)\n",
    "\n",
    "vocab_size = len(tokenizer.word_index)"
   ],
   "metadata": {
    "collapsed": false,
    "pycharm": {
     "name": "#%%\n"
    }
   }
  },
  {
   "cell_type": "code",
   "execution_count": 79,
   "outputs": [
    {
     "data": {
      "text/plain": "                                             utterance  sarcasm\n685  Hes not right for the part, and if I suggest h...        1\n686  Oh yeah he has a caretaker his older brother, ...        0\n687  Is it me or the greetings gone downhill around...        1\n688  You are right, by saying nice, I am virtually ...        1\n689            Yes and we are \"very\" excited about it.        1",
      "text/html": "<div>\n<style scoped>\n    .dataframe tbody tr th:only-of-type {\n        vertical-align: middle;\n    }\n\n    .dataframe tbody tr th {\n        vertical-align: top;\n    }\n\n    .dataframe thead th {\n        text-align: right;\n    }\n</style>\n<table border=\"1\" class=\"dataframe\">\n  <thead>\n    <tr style=\"text-align: right;\">\n      <th></th>\n      <th>utterance</th>\n      <th>sarcasm</th>\n    </tr>\n  </thead>\n  <tbody>\n    <tr>\n      <th>685</th>\n      <td>Hes not right for the part, and if I suggest h...</td>\n      <td>1</td>\n    </tr>\n    <tr>\n      <th>686</th>\n      <td>Oh yeah he has a caretaker his older brother, ...</td>\n      <td>0</td>\n    </tr>\n    <tr>\n      <th>687</th>\n      <td>Is it me or the greetings gone downhill around...</td>\n      <td>1</td>\n    </tr>\n    <tr>\n      <th>688</th>\n      <td>You are right, by saying nice, I am virtually ...</td>\n      <td>1</td>\n    </tr>\n    <tr>\n      <th>689</th>\n      <td>Yes and we are \"very\" excited about it.</td>\n      <td>1</td>\n    </tr>\n  </tbody>\n</table>\n</div>"
     },
     "execution_count": 79,
     "metadata": {},
     "output_type": "execute_result"
    }
   ],
   "source": [
    "data.tail(5)"
   ],
   "metadata": {
    "collapsed": false,
    "pycharm": {
     "name": "#%%\n"
    }
   }
  },
  {
   "cell_type": "code",
   "execution_count": 7,
   "outputs": [],
   "source": [
    "x_train,x_test,y_train,y_test = train_test_split(padded_train_sequences,y_train, test_size=0.2, random_state=42)"
   ],
   "metadata": {
    "collapsed": false,
    "pycharm": {
     "name": "#%%\n"
    }
   }
  },
  {
   "cell_type": "code",
   "execution_count": 8,
   "outputs": [],
   "source": [
    "from tqdm import tqdm\n",
    "import codecs"
   ],
   "metadata": {
    "collapsed": false,
    "pycharm": {
     "name": "#%%\n"
    }
   }
  },
  {
   "cell_type": "code",
   "execution_count": 9,
   "outputs": [],
   "source": [
    "def load_fasttext_vectors2(fname):\n",
    "    embeddings_index = {}\n",
    "    f = codecs.open(fname, encoding='utf-8')\n",
    "    for line in tqdm(f):\n",
    "        values = line.rstrip().rsplit(' ')\n",
    "        ft_word = values[0]\n",
    "        coefs = np.asarray(values[1:], dtype='float32')\n",
    "        embeddings_index[ft_word] = coefs\n",
    "    f.close()\n",
    "    return embeddings_index"
   ],
   "metadata": {
    "collapsed": false,
    "pycharm": {
     "name": "#%%\n"
    }
   }
  },
  {
   "cell_type": "code",
   "execution_count": 10,
   "outputs": [
    {
     "name": "stderr",
     "output_type": "stream",
     "text": [
      "999995it [01:19, 12588.29it/s]\n"
     ]
    }
   ],
   "source": [
    "w2v_model =  load_fasttext_vectors2(\"wiki-news-300d-1M.vec\")"
   ],
   "metadata": {
    "collapsed": false,
    "pycharm": {
     "name": "#%%\n"
    }
   }
  },
  {
   "cell_type": "code",
   "execution_count": 11,
   "outputs": [],
   "source": [
    "from tensorflow.keras.layers import Dense, Flatten, LSTM, Bidirectional, Conv1D, MaxPooling1D, Input, Embedding\n",
    "from tensorflow.keras.models import Model"
   ],
   "metadata": {
    "collapsed": false,
    "pycharm": {
     "name": "#%%\n"
    }
   }
  },
  {
   "cell_type": "code",
   "execution_count": 12,
   "outputs": [],
   "source": [
    "words_not_found = []\n",
    "nb_words = len(tokenizer.word_index)\n",
    "embedding_matrix = np.zeros((nb_words + 1, 300))\n",
    "for word, i in tokenizer.word_index.items():\n",
    "    if i >= nb_words:\n",
    "        continue\n",
    "    embedding_vector = w2v_model.get(word)\n",
    "    if (embedding_vector is not None) and len(embedding_vector) > 0:\n",
    "        # words not found in embedding index will be all-zeros.\n",
    "        embedding_matrix[i] = embedding_vector\n",
    "    else:\n",
    "        words_not_found.append(word)"
   ],
   "metadata": {
    "collapsed": false,
    "pycharm": {
     "name": "#%%\n"
    }
   }
  },
  {
   "cell_type": "code",
   "execution_count": 115,
   "outputs": [
    {
     "name": "stdout",
     "output_type": "stream",
     "text": [
      "Model: \"model_6\"\n",
      "_________________________________________________________________\n",
      "Layer (type)                 Output Shape              Param #   \n",
      "=================================================================\n",
      "main_input (InputLayer)      [(None, 60)]              0         \n",
      "_________________________________________________________________\n",
      "embedding_6 (Embedding)      (None, 60, 300)           610800    \n",
      "_________________________________________________________________\n",
      "conv1d_6 (Conv1D)            (None, 57, 50)            60050     \n",
      "_________________________________________________________________\n",
      "max_pooling1d_6 (MaxPooling1 (None, 28, 50)            0         \n",
      "_________________________________________________________________\n",
      "bidirectional_6 (Bidirection (None, 28, 128)           58880     \n",
      "_________________________________________________________________\n",
      "flatten_6 (Flatten)          (None, 3584)              0         \n",
      "_________________________________________________________________\n",
      "fully_connected (Dense)      (None, 75)                268875    \n",
      "_________________________________________________________________\n",
      "dense_6 (Dense)              (None, 2)                 152       \n",
      "=================================================================\n",
      "Total params: 998,757\n",
      "Trainable params: 387,957\n",
      "Non-trainable params: 610,800\n",
      "_________________________________________________________________\n"
     ]
    }
   ],
   "source": [
    "input_data = Input(shape=(max_length,), name='main_input')\n",
    "embedding_layer = Embedding(vocab_size + 1, 300, weights=[embedding_matrix], trainable=False)(input_data)\n",
    "conv_1 = Conv1D(filters=50, kernel_size=4, activation='relu')(embedding_layer)\n",
    "max_1 = MaxPooling1D(pool_size=2)(conv_1)\n",
    "lstm_layer = Bidirectional(LSTM(64,return_sequences=True))(max_1)\n",
    "\n",
    "flatten = Flatten()(lstm_layer)\n",
    "dense = Dense(75, activation='relu', name='fully_connected')(flatten)\n",
    "out = Dense(2, activation='softmax')(dense)\n",
    "\n",
    "model = Model(inputs=[input_data], outputs=[out])\n",
    "model.summary()"
   ],
   "metadata": {
    "collapsed": false,
    "pycharm": {
     "name": "#%%\n"
    }
   }
  },
  {
   "cell_type": "code",
   "execution_count": 117,
   "outputs": [],
   "source": [
    "model.compile(loss=\"categorical_crossentropy\", optimizer='adam', metrics=['accuracy'])"
   ],
   "metadata": {
    "collapsed": false,
    "pycharm": {
     "name": "#%%\n"
    }
   }
  },
  {
   "cell_type": "code",
   "execution_count": 118,
   "outputs": [
    {
     "name": "stdout",
     "output_type": "stream",
     "text": [
      "Train on 552 samples\n",
      "Epoch 1/5\n"
     ]
    },
    {
     "name": "stderr",
     "output_type": "stream",
     "text": [
      "2022-04-29 12:45:19.790461: W tensorflow/core/grappler/optimizers/implementation_selector.cc:310] Skipping optimization due to error while loading function libraries: Invalid argument: Functions '__inference___backward_standard_lstm_326380_326865' and '__inference___backward_standard_lstm_326380_326865_specialized_for_StatefulPartitionedCall_at___inference_distributed_function_327565' both implement 'lstm_1a94dd67-dadb-4876-bd82-00b13a34fc2c' but their signatures do not match.\n"
     ]
    },
    {
     "name": "stdout",
     "output_type": "stream",
     "text": [
      "552/552 [==============================] - 5s 9ms/sample - loss: 0.6960 - accuracy: 0.5091\n",
      "Epoch 2/5\n",
      "552/552 [==============================] - 1s 2ms/sample - loss: 0.6784 - accuracy: 0.5543\n",
      "Epoch 3/5\n",
      "552/552 [==============================] - 1s 2ms/sample - loss: 0.6453 - accuracy: 0.6395\n",
      "Epoch 4/5\n",
      "552/552 [==============================] - 1s 2ms/sample - loss: 0.5970 - accuracy: 0.6866\n",
      "Epoch 5/5\n",
      "552/552 [==============================] - 1s 2ms/sample - loss: 0.4574 - accuracy: 0.7899\n"
     ]
    }
   ],
   "source": [
    "history = model.fit(x_train, y_train,  batch_size=64, epochs=5, verbose=1)"
   ],
   "metadata": {
    "collapsed": false,
    "pycharm": {
     "name": "#%%\n"
    }
   }
  },
  {
   "cell_type": "code",
   "execution_count": 119,
   "outputs": [
    {
     "name": "stderr",
     "output_type": "stream",
     "text": [
      "2022-04-29 12:45:30.697748: W tensorflow/core/grappler/optimizers/implementation_selector.cc:310] Skipping optimization due to error while loading function libraries: Invalid argument: Functions '__inference_cudnn_lstm_with_fallback_328077' and '__inference_standard_lstm_327966_specialized_for_model_6_bidirectional_6_forward_lstm_6_StatefulPartitionedCall_at___inference_distributed_function_328757' both implement 'lstm_c8d77348-87e3-41af-af44-f1fb196655d5' but their signatures do not match.\n"
     ]
    },
    {
     "name": "stdout",
     "output_type": "stream",
     "text": [
      "Non-sarcastic\n",
      "[0.8250987  0.17490135]\n"
     ]
    }
   ],
   "source": [
    "user_statement = input(\"Tell me something sarcastic: \\n\")\n",
    "tokenized_statement = tokenizer.texts_to_sequences([user_statement])\n",
    "tokenized_statement = pad_sequences(tokenized_statement, maxlen=max_length, padding=padding_type)\n",
    "output = model.predict(tokenized_statement)[0]\n",
    "\n",
    "if np.argmax(output) == 0:\n",
    "    print(\"Non-sarcastic\")\n",
    "elif np.argmax(output) == 1:\n",
    "    print(\"Sarcasm\")\n",
    "print(output)"
   ],
   "metadata": {
    "collapsed": false,
    "pycharm": {
     "name": "#%%\n"
    }
   }
  },
  {
   "cell_type": "code",
   "execution_count": 103,
   "outputs": [],
   "source": [
    "model.save(\"./models/text_model.h5\", overwrite=True, save_format='h5')"
   ],
   "metadata": {
    "collapsed": false,
    "pycharm": {
     "name": "#%%\n"
    }
   }
  }
 ],
 "metadata": {
  "kernelspec": {
   "display_name": "Python 3",
   "language": "python",
   "name": "python3"
  },
  "language_info": {
   "codemirror_mode": {
    "name": "ipython",
    "version": 2
   },
   "file_extension": ".py",
   "mimetype": "text/x-python",
   "name": "python",
   "nbconvert_exporter": "python",
   "pygments_lexer": "ipython2",
   "version": "2.7.6"
  }
 },
 "nbformat": 4,
 "nbformat_minor": 0
}