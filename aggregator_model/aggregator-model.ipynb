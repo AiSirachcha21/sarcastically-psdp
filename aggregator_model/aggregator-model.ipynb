{
 "cells": [
  {
   "cell_type": "markdown",
   "metadata": {
    "collapsed": true,
    "pycharm": {
     "name": "#%% md\n"
    }
   },
   "source": [
    "# Aggregator Model"
   ]
  },
  {
   "cell_type": "code",
   "execution_count": 9,
   "outputs": [],
   "source": [
    "import pandas as pd\n",
    "import librosa\n",
    "import numpy as np\n",
    "from keras_preprocessing.sequence import pad_sequences\n",
    "from keras_preprocessing.text import Tokenizer\n",
    "from sklearn.preprocessing import LabelEncoder\n",
    "from tensorflow.keras.models import load_model\n",
    "from tensorflow_core.python.keras.utils import to_categorical"
   ],
   "metadata": {
    "collapsed": false,
    "pycharm": {
     "name": "#%%\n"
    }
   }
  },
  {
   "cell_type": "code",
   "execution_count": 25,
   "outputs": [],
   "source": [
    "dataset = pd.read_csv(\"../normalized_mustard_dataset.csv\")\n",
    "tokenizer = Tokenizer()"
   ],
   "metadata": {
    "collapsed": false,
    "pycharm": {
     "name": "#%%\n"
    }
   }
  },
  {
   "cell_type": "code",
   "execution_count": 26,
   "outputs": [
    {
     "data": {
      "text/plain": "     file_name                                          utterance  \\\n0     1_60.wav  It's just a privilege to watch your mind at work.   \n1     1_70.wav  I don't think I'll be able to stop thinking ab...   \n2     1_80.wav  Since it's not bee season, you can have my epi...   \n3     1_90.wav  Lois Lane is falling, accelerating at an initi...   \n4    1_105.wav  I'm just inferring this is a couch because the...   \n..         ...                                                ...   \n685  2_169.wav  Hes not right for the part, and if I suggest h...   \n686  2_235.wav  Oh yeah he has a caretaker his older brother, ...   \n687   2_34.wav  Is it me or the greetings gone downhill around...   \n688  2_608.wav  You are right, by saying nice, I am virtually ...   \n689  2_524.wav            Yes and we are \"very\" excited about it.   \n\n                                               context  sarcasm  \n0    ['I never would have identified the fingerprin...     True  \n1    ['This is one of my favorite places to kick ba...     True  \n2    ['Here we go. Pad thai, no peanuts.', 'But doe...    False  \n3    ['A marathon? How many Superman movies are the...    False  \n4    [\"Great Caesar's ghost, look at this place.\", ...     True  \n..                                                 ...      ...  \n685  ['What am I gonna do now?', 'Just pass the tap...     True  \n686  ['Helo! Anybody in there order a celebrity?', ...    False  \n687                     ['Hey', 'You son of a bitch!']     True  \n688  ['Did I go to this school?', \"Hey, there's Mis...     True  \n689  [\"Anyway, if you don't feel like being alone t...     True  \n\n[690 rows x 4 columns]",
      "text/html": "<div>\n<style scoped>\n    .dataframe tbody tr th:only-of-type {\n        vertical-align: middle;\n    }\n\n    .dataframe tbody tr th {\n        vertical-align: top;\n    }\n\n    .dataframe thead th {\n        text-align: right;\n    }\n</style>\n<table border=\"1\" class=\"dataframe\">\n  <thead>\n    <tr style=\"text-align: right;\">\n      <th></th>\n      <th>file_name</th>\n      <th>utterance</th>\n      <th>context</th>\n      <th>sarcasm</th>\n    </tr>\n  </thead>\n  <tbody>\n    <tr>\n      <th>0</th>\n      <td>1_60.wav</td>\n      <td>It's just a privilege to watch your mind at work.</td>\n      <td>['I never would have identified the fingerprin...</td>\n      <td>True</td>\n    </tr>\n    <tr>\n      <th>1</th>\n      <td>1_70.wav</td>\n      <td>I don't think I'll be able to stop thinking ab...</td>\n      <td>['This is one of my favorite places to kick ba...</td>\n      <td>True</td>\n    </tr>\n    <tr>\n      <th>2</th>\n      <td>1_80.wav</td>\n      <td>Since it's not bee season, you can have my epi...</td>\n      <td>['Here we go. Pad thai, no peanuts.', 'But doe...</td>\n      <td>False</td>\n    </tr>\n    <tr>\n      <th>3</th>\n      <td>1_90.wav</td>\n      <td>Lois Lane is falling, accelerating at an initi...</td>\n      <td>['A marathon? How many Superman movies are the...</td>\n      <td>False</td>\n    </tr>\n    <tr>\n      <th>4</th>\n      <td>1_105.wav</td>\n      <td>I'm just inferring this is a couch because the...</td>\n      <td>[\"Great Caesar's ghost, look at this place.\", ...</td>\n      <td>True</td>\n    </tr>\n    <tr>\n      <th>...</th>\n      <td>...</td>\n      <td>...</td>\n      <td>...</td>\n      <td>...</td>\n    </tr>\n    <tr>\n      <th>685</th>\n      <td>2_169.wav</td>\n      <td>Hes not right for the part, and if I suggest h...</td>\n      <td>['What am I gonna do now?', 'Just pass the tap...</td>\n      <td>True</td>\n    </tr>\n    <tr>\n      <th>686</th>\n      <td>2_235.wav</td>\n      <td>Oh yeah he has a caretaker his older brother, ...</td>\n      <td>['Helo! Anybody in there order a celebrity?', ...</td>\n      <td>False</td>\n    </tr>\n    <tr>\n      <th>687</th>\n      <td>2_34.wav</td>\n      <td>Is it me or the greetings gone downhill around...</td>\n      <td>['Hey', 'You son of a bitch!']</td>\n      <td>True</td>\n    </tr>\n    <tr>\n      <th>688</th>\n      <td>2_608.wav</td>\n      <td>You are right, by saying nice, I am virtually ...</td>\n      <td>['Did I go to this school?', \"Hey, there's Mis...</td>\n      <td>True</td>\n    </tr>\n    <tr>\n      <th>689</th>\n      <td>2_524.wav</td>\n      <td>Yes and we are \"very\" excited about it.</td>\n      <td>[\"Anyway, if you don't feel like being alone t...</td>\n      <td>True</td>\n    </tr>\n  </tbody>\n</table>\n<p>690 rows × 4 columns</p>\n</div>"
     },
     "execution_count": 26,
     "metadata": {},
     "output_type": "execute_result"
    }
   ],
   "source": [
    "dataset"
   ],
   "metadata": {
    "collapsed": false,
    "pycharm": {
     "name": "#%%\n"
    }
   }
  },
  {
   "cell_type": "code",
   "execution_count": 27,
   "outputs": [],
   "source": [
    "def create_mfcc(filepath:str, n_fft:int, hop_length: int, n_mfcc:int = 13):\n",
    "    \"\"\"\n",
    "    Creates MFCC for file at filepath\n",
    "\n",
    "    :param filepath: Location of file to be used\n",
    "    :param n_fft: Number of Fast Fourier Transforms\n",
    "    :param hop_length: Number of Hops within samples\n",
    "    :param n_mfcc: Number of MFCC's to be outputted\n",
    "    :return: Array containing mean of all MFCC's\n",
    "    \"\"\"\n",
    "    signal, sample_rate = librosa.load(filepath)\n",
    "    mfccs = librosa.feature.mfcc(y=signal, sr=sample_rate, n_fft=n_fft, hop_length=hop_length, n_mfcc=n_mfcc)\n",
    "    mean_mfccs = np.mean(mfccs.T,axis=0)\n",
    "    return mean_mfccs"
   ],
   "metadata": {
    "collapsed": false,
    "pycharm": {
     "name": "#%%\n"
    }
   }
  },
  {
   "cell_type": "code",
   "execution_count": 33,
   "outputs": [],
   "source": [
    "def create_padded_text(text:str):\n",
    "    max_length = 60\n",
    "    padding_type = 'post'\n",
    "\n",
    "    tokenizer.fit_on_texts(text)\n",
    "    train = tokenizer.texts_to_sequences(text)\n",
    "    padded_train_sequences = pad_sequences(train, maxlen=max_length, padding=padding_type)\n",
    "    return padded_train_sequences"
   ],
   "metadata": {
    "collapsed": false,
    "pycharm": {
     "name": "#%%\n"
    }
   }
  },
  {
   "cell_type": "code",
   "execution_count": 34,
   "outputs": [],
   "source": [
    "feature_df = pd.DataFrame(columns=[\"audio_feature\",\"padded_utterance\", \"is_sarcastic\"])"
   ],
   "metadata": {
    "collapsed": false,
    "pycharm": {
     "name": "#%%\n"
    }
   }
  },
  {
   "cell_type": "code",
   "execution_count": 35,
   "outputs": [],
   "source": [
    "padded_utterances = create_padded_text(dataset['utterance'])"
   ],
   "metadata": {
    "collapsed": false,
    "pycharm": {
     "name": "#%%\n"
    }
   }
  },
  {
   "cell_type": "code",
   "execution_count": 36,
   "outputs": [],
   "source": [
    "sarcasm_states = dataset['sarcasm']\n",
    "label_encoder = LabelEncoder()\n",
    "y_train = to_categorical(label_encoder.fit_transform(sarcasm_states))"
   ],
   "metadata": {
    "collapsed": false,
    "pycharm": {
     "name": "#%%\n"
    }
   }
  },
  {
   "cell_type": "code",
   "execution_count": 37,
   "outputs": [],
   "source": [
    "hop_length = 512\n",
    "n_fft = 2048\n",
    "audio_data_fp = \"../mmsd_raw_data/converted_utterances\"\n",
    "\n",
    "for index,row in dataset.iterrows():\n",
    "    audio_file = row['file_name']\n",
    "    utterance = row['utterance']\n",
    "    audio_mfcc = create_mfcc(f\"{audio_data_fp}/{audio_file}\", n_fft, hop_length)\n",
    "\n",
    "    feature_df = feature_df.append({\n",
    "        \"audio_feature\": audio_mfcc,\n",
    "        \"padded_utterance\": padded_utterances[index],\n",
    "        \"is_sarcastic\": y_train[index]\n",
    "    }, ignore_index=True)"
   ],
   "metadata": {
    "collapsed": false,
    "pycharm": {
     "name": "#%%\n"
    }
   }
  },
  {
   "cell_type": "code",
   "execution_count": 38,
   "outputs": [
    {
     "data": {
      "text/plain": "                                         audio_feature  \\\n0    [-146.32887, 99.83219, -50.631638, 9.274939, -...   \n1    [-147.90367, 104.595116, -39.535, 4.108271, -2...   \n2    [-21.120022, 86.11223, -35.381474, 22.640253, ...   \n3    [-23.78374, 70.78856, -34.25742, 23.38274, -16...   \n4    [1.6350226, 82.73289, -46.96253, 14.140306, -2...   \n..                                                 ...   \n685  [-273.74615, 118.08891, -53.78213, 41.342915, ...   \n686  [-100.73689, 113.74322, -51.75491, 9.413455, -...   \n687  [-284.09775, 168.39523, -96.155045, 25.642128,...   \n688  [-142.58499, 150.03133, -44.35375, 36.23623, -...   \n689  [-219.62396, 119.88039, -35.290684, 20.442717,...   \n\n                                      padded_utterance is_sarcastic  \n0    [55, 37, 4, 744, 26, 249, 52, 361, 78, 214, 0,...   [0.0, 1.0]  \n1    [5, 45, 73, 129, 64, 362, 26, 215, 250, 62, 30...   [0.0, 1.0]  \n2    [745, 55, 49, 746, 747, 24, 71, 43, 35, 748, 0...   [1.0, 0.0]  \n3    [749, 294, 34, 468, 750, 78, 74, 751, 752, 29,...   [1.0, 0.0]  \n4    [38, 37, 768, 48, 34, 4, 365, 85, 25, 769, 770...   [0.0, 1.0]  \n..                                                 ...          ...  \n685  [2056, 49, 69, 46, 25, 435, 27, 54, 5, 489, 12...   [0.0, 1.0]  \n686  [36, 60, 65, 150, 4, 2060, 110, 2061, 648, 639...   [1.0, 0.0]  \n687  [34, 30, 40, 184, 25, 2062, 442, 2063, 193, 86...   [0.0, 1.0]  \n688  [24, 66, 69, 142, 275, 258, 5, 70, 2064, 2065,...   [0.0, 1.0]  \n689  [101, 27, 51, 66, 151, 739, 62, 30, 0, 0, 0, 0...   [0.0, 1.0]  \n\n[690 rows x 3 columns]",
      "text/html": "<div>\n<style scoped>\n    .dataframe tbody tr th:only-of-type {\n        vertical-align: middle;\n    }\n\n    .dataframe tbody tr th {\n        vertical-align: top;\n    }\n\n    .dataframe thead th {\n        text-align: right;\n    }\n</style>\n<table border=\"1\" class=\"dataframe\">\n  <thead>\n    <tr style=\"text-align: right;\">\n      <th></th>\n      <th>audio_feature</th>\n      <th>padded_utterance</th>\n      <th>is_sarcastic</th>\n    </tr>\n  </thead>\n  <tbody>\n    <tr>\n      <th>0</th>\n      <td>[-146.32887, 99.83219, -50.631638, 9.274939, -...</td>\n      <td>[55, 37, 4, 744, 26, 249, 52, 361, 78, 214, 0,...</td>\n      <td>[0.0, 1.0]</td>\n    </tr>\n    <tr>\n      <th>1</th>\n      <td>[-147.90367, 104.595116, -39.535, 4.108271, -2...</td>\n      <td>[5, 45, 73, 129, 64, 362, 26, 215, 250, 62, 30...</td>\n      <td>[0.0, 1.0]</td>\n    </tr>\n    <tr>\n      <th>2</th>\n      <td>[-21.120022, 86.11223, -35.381474, 22.640253, ...</td>\n      <td>[745, 55, 49, 746, 747, 24, 71, 43, 35, 748, 0...</td>\n      <td>[1.0, 0.0]</td>\n    </tr>\n    <tr>\n      <th>3</th>\n      <td>[-23.78374, 70.78856, -34.25742, 23.38274, -16...</td>\n      <td>[749, 294, 34, 468, 750, 78, 74, 751, 752, 29,...</td>\n      <td>[1.0, 0.0]</td>\n    </tr>\n    <tr>\n      <th>4</th>\n      <td>[1.6350226, 82.73289, -46.96253, 14.140306, -2...</td>\n      <td>[38, 37, 768, 48, 34, 4, 365, 85, 25, 769, 770...</td>\n      <td>[0.0, 1.0]</td>\n    </tr>\n    <tr>\n      <th>...</th>\n      <td>...</td>\n      <td>...</td>\n      <td>...</td>\n    </tr>\n    <tr>\n      <th>685</th>\n      <td>[-273.74615, 118.08891, -53.78213, 41.342915, ...</td>\n      <td>[2056, 49, 69, 46, 25, 435, 27, 54, 5, 489, 12...</td>\n      <td>[0.0, 1.0]</td>\n    </tr>\n    <tr>\n      <th>686</th>\n      <td>[-100.73689, 113.74322, -51.75491, 9.413455, -...</td>\n      <td>[36, 60, 65, 150, 4, 2060, 110, 2061, 648, 639...</td>\n      <td>[1.0, 0.0]</td>\n    </tr>\n    <tr>\n      <th>687</th>\n      <td>[-284.09775, 168.39523, -96.155045, 25.642128,...</td>\n      <td>[34, 30, 40, 184, 25, 2062, 442, 2063, 193, 86...</td>\n      <td>[0.0, 1.0]</td>\n    </tr>\n    <tr>\n      <th>688</th>\n      <td>[-142.58499, 150.03133, -44.35375, 36.23623, -...</td>\n      <td>[24, 66, 69, 142, 275, 258, 5, 70, 2064, 2065,...</td>\n      <td>[0.0, 1.0]</td>\n    </tr>\n    <tr>\n      <th>689</th>\n      <td>[-219.62396, 119.88039, -35.290684, 20.442717,...</td>\n      <td>[101, 27, 51, 66, 151, 739, 62, 30, 0, 0, 0, 0...</td>\n      <td>[0.0, 1.0]</td>\n    </tr>\n  </tbody>\n</table>\n<p>690 rows × 3 columns</p>\n</div>"
     },
     "execution_count": 38,
     "metadata": {},
     "output_type": "execute_result"
    }
   ],
   "source": [
    "feature_df"
   ],
   "metadata": {
    "collapsed": false,
    "pycharm": {
     "name": "#%%\n"
    }
   }
  },
  {
   "cell_type": "code",
   "execution_count": null,
   "outputs": [],
   "source": [],
   "metadata": {
    "collapsed": false,
    "pycharm": {
     "name": "#%%\n"
    }
   }
  }
 ],
 "metadata": {
  "kernelspec": {
   "display_name": "Python 3",
   "language": "python",
   "name": "python3"
  },
  "language_info": {
   "codemirror_mode": {
    "name": "ipython",
    "version": 2
   },
   "file_extension": ".py",
   "mimetype": "text/x-python",
   "name": "python",
   "nbconvert_exporter": "python",
   "pygments_lexer": "ipython2",
   "version": "2.7.6"
  }
 },
 "nbformat": 4,
 "nbformat_minor": 0
}