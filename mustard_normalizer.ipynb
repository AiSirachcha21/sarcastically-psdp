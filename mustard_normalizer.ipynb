{
 "cells": [
  {
   "cell_type": "code",
   "execution_count": 7,
   "outputs": [],
   "source": [
    "import pandas as pd\n",
    "import json"
   ],
   "metadata": {
    "collapsed": false,
    "pycharm": {
     "name": "#%%\n"
    }
   }
  },
  {
   "cell_type": "markdown",
   "source": [
    "## Original Dataset Normalizer (without audio file names)"
   ],
   "metadata": {
    "collapsed": false,
    "pycharm": {
     "name": "#%% md\n"
    }
   }
  },
  {
   "cell_type": "code",
   "execution_count": 44,
   "outputs": [],
   "source": [
    "data = json.load(open(\"mustard_dataset.json\"))\n",
    "nested_data = json.dumps(pd.json_normalize(data, max_level=0).values.flatten().tolist())\n",
    "nested_data_df = pd.read_json(nested_data)\n",
    "nested_data_df.to_csv(\"normalized_mustard_dataset_original.csv\",index=False)"
   ],
   "metadata": {
    "collapsed": false,
    "pycharm": {
     "name": "#%%\n"
    }
   }
  },
  {
   "cell_type": "markdown",
   "source": [
    "## Updated Dataset Normalizer (including audio file names)"
   ],
   "metadata": {
    "collapsed": false
   }
  },
  {
   "cell_type": "code",
   "execution_count": 70,
   "outputs": [],
   "source": [
    "loadedJson = json.load(open(\"mustard_dataset.json\"))\n",
    "\n",
    "table = pd.DataFrame(columns=[\"file_name\",\"utterance\",\"context\",\"sarcasm\"])\n",
    "\n",
    "for key, val in loadedJson.items():\n",
    "    table = table.append({\n",
    "        \"file_name\": f\"{key}.wav\",\n",
    "        \"utterance\":val[\"utterance\"],\n",
    "        \"context\":val[\"context\"],\n",
    "        \"sarcasm\":val[\"sarcasm\"]\n",
    "    }, ignore_index=True)\n",
    "\n",
    "table.head()\n",
    "table.to_csv(\"normalized_mustard_dataset.csv\",index=False)"
   ],
   "metadata": {
    "collapsed": false,
    "pycharm": {
     "name": "#%%\n"
    }
   }
  }
 ],
 "metadata": {
  "kernelspec": {
   "display_name": "Python 3",
   "language": "python",
   "name": "python3"
  },
  "language_info": {
   "codemirror_mode": {
    "name": "ipython",
    "version": 2
   },
   "file_extension": ".py",
   "mimetype": "text/x-python",
   "name": "python",
   "nbconvert_exporter": "python",
   "pygments_lexer": "ipython2",
   "version": "2.7.6"
  }
 },
 "nbformat": 4,
 "nbformat_minor": 0
}