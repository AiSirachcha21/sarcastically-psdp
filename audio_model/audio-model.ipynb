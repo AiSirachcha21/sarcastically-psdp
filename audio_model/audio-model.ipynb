{
 "cells": [
  {
   "cell_type": "markdown",
   "metadata": {
    "collapsed": true,
    "pycharm": {
     "name": "#%% md\n"
    }
   },
   "source": [
    "# Audio Model"
   ]
  },
  {
   "cell_type": "code",
   "execution_count": 2,
   "outputs": [],
   "source": [
    "import librosa\n",
    "import numpy as np\n",
    "import pandas as pd\n",
    "from tqdm import tqdm\n",
    "\n",
    "from sklearn.model_selection import train_test_split\n",
    "from tensorflow.keras.models import Sequential\n",
    "from tensorflow.keras.layers import Dense, Dropout, Activation, Flatten\n",
    "from tensorflow.keras.callbacks import ModelCheckpoint\n",
    "from tensorflow.keras.utils import to_categorical\n",
    "from sklearn.preprocessing import LabelEncoder\n",
    "from common.metrics import f1_m, recall_m, precision_m"
   ],
   "metadata": {
    "collapsed": false,
    "pycharm": {
     "name": "#%%\n"
    }
   }
  },
  {
   "cell_type": "code",
   "execution_count": 3,
   "outputs": [],
   "source": [
    "audio_data_fp = \"../mmsd_raw_data/converted_utterances\"\n",
    "dataset_csv_path = \"../normalized_mustard_dataset.csv\""
   ],
   "metadata": {
    "collapsed": false,
    "pycharm": {
     "name": "#%%\n"
    }
   }
  },
  {
   "cell_type": "code",
   "execution_count": 4,
   "outputs": [],
   "source": [
    "def create_mfcc(filepath:str, n_fft:int, hop_length: int, n_mfcc:int = 13):\n",
    "    \"\"\"\n",
    "    Creates MFCC for file at filepath\n",
    "\n",
    "    :param filepath: Location of file to be used\n",
    "    :param n_fft: Number of Fast Fourier Transforms\n",
    "    :param hop_length: Number of Hops within samples\n",
    "    :param n_mfcc: Number of MFCC's to be outputted\n",
    "    :return: Array containing mean of all MFCC's\n",
    "    \"\"\"\n",
    "    signal, sample_rate = librosa.load(filepath)\n",
    "    mfccs = librosa.feature.mfcc(y=signal, sr=sample_rate, n_fft=n_fft, hop_length=hop_length, n_mfcc=n_mfcc)\n",
    "    mean_mfccs = np.mean(mfccs.T,axis=0)\n",
    "    return mean_mfccs"
   ],
   "metadata": {
    "collapsed": false,
    "pycharm": {
     "name": "#%%\n"
    }
   }
  },
  {
   "cell_type": "code",
   "execution_count": 5,
   "outputs": [],
   "source": [
    "def create_mfcc_features(data):\n",
    "    \"\"\"\n",
    "    Creates a list of Mel-Frequency Co-Efficients\n",
    "    :param data: Pandas Dataframe of Input Data\n",
    "    \"\"\"\n",
    "    hop_length = 512\n",
    "    n_fft = 2048\n",
    "\n",
    "    _mfcc_df = pd.DataFrame(columns=[\"features\", \"sarcasm_state\"])\n",
    "\n",
    "    tqdm_data = tqdm(zip(data[\"file_name\"], data[\"sarcasm\"]))\n",
    "\n",
    "    for file_name,sarcasm_state in tqdm_data:\n",
    "        tqdm_data.set_description(f\"Creating MFCC for {file_name}\")\n",
    "        fp = f\"{audio_data_fp}/{str(file_name)}\"\n",
    "        mean_mfccs = create_mfcc(fp, n_fft, hop_length)\n",
    "        _mfcc_df = _mfcc_df.append({\n",
    "            \"features\": mean_mfccs,\n",
    "            \"sarcasm_state\": sarcasm_state\n",
    "        }, ignore_index=True)\n",
    "\n",
    "    return _mfcc_df"
   ],
   "metadata": {
    "collapsed": false,
    "pycharm": {
     "name": "#%%\n"
    }
   }
  },
  {
   "cell_type": "code",
   "execution_count": 6,
   "outputs": [
    {
     "name": "stderr",
     "output_type": "stream",
     "text": [
      "Creating MFCC for 2_524.wav: : 690it [02:42,  4.25it/s]  \n"
     ]
    }
   ],
   "source": [
    "dataset_df = pd.read_csv(dataset_csv_path)\n",
    "mfcc_df = create_mfcc_features(dataset_df)"
   ],
   "metadata": {
    "collapsed": false,
    "pycharm": {
     "name": "#%%\n"
    }
   }
  },
  {
   "cell_type": "code",
   "execution_count": 7,
   "outputs": [
    {
     "data": {
      "text/plain": "                                            features sarcasm_state\n0  [-146.32887, 99.83219, -50.631638, 9.274939, -...          True\n1  [-147.90367, 104.595116, -39.535, 4.108271, -2...          True\n2  [-21.120022, 86.11223, -35.381474, 22.640253, ...         False\n3  [-23.78374, 70.78856, -34.25742, 23.38274, -16...         False\n4  [1.6350226, 82.73289, -46.96253, 14.140306, -2...          True",
      "text/html": "<div>\n<style scoped>\n    .dataframe tbody tr th:only-of-type {\n        vertical-align: middle;\n    }\n\n    .dataframe tbody tr th {\n        vertical-align: top;\n    }\n\n    .dataframe thead th {\n        text-align: right;\n    }\n</style>\n<table border=\"1\" class=\"dataframe\">\n  <thead>\n    <tr style=\"text-align: right;\">\n      <th></th>\n      <th>features</th>\n      <th>sarcasm_state</th>\n    </tr>\n  </thead>\n  <tbody>\n    <tr>\n      <th>0</th>\n      <td>[-146.32887, 99.83219, -50.631638, 9.274939, -...</td>\n      <td>True</td>\n    </tr>\n    <tr>\n      <th>1</th>\n      <td>[-147.90367, 104.595116, -39.535, 4.108271, -2...</td>\n      <td>True</td>\n    </tr>\n    <tr>\n      <th>2</th>\n      <td>[-21.120022, 86.11223, -35.381474, 22.640253, ...</td>\n      <td>False</td>\n    </tr>\n    <tr>\n      <th>3</th>\n      <td>[-23.78374, 70.78856, -34.25742, 23.38274, -16...</td>\n      <td>False</td>\n    </tr>\n    <tr>\n      <th>4</th>\n      <td>[1.6350226, 82.73289, -46.96253, 14.140306, -2...</td>\n      <td>True</td>\n    </tr>\n  </tbody>\n</table>\n</div>"
     },
     "execution_count": 7,
     "metadata": {},
     "output_type": "execute_result"
    }
   ],
   "source": [
    "mfcc_df.head()"
   ],
   "metadata": {
    "collapsed": false,
    "pycharm": {
     "name": "#%%\n"
    }
   }
  },
  {
   "cell_type": "code",
   "execution_count": 8,
   "outputs": [],
   "source": [
    "X = np.array(mfcc_df['features'].tolist())\n",
    "y = np.array(mfcc_df['sarcasm_state'].tolist())"
   ],
   "metadata": {
    "collapsed": false,
    "pycharm": {
     "name": "#%%\n"
    }
   }
  },
  {
   "cell_type": "code",
   "execution_count": 9,
   "outputs": [
    {
     "data": {
      "text/plain": "(690, 13)"
     },
     "execution_count": 9,
     "metadata": {},
     "output_type": "execute_result"
    }
   ],
   "source": [
    "X.shape"
   ],
   "metadata": {
    "collapsed": false,
    "pycharm": {
     "name": "#%%\n"
    }
   }
  },
  {
   "cell_type": "code",
   "execution_count": 10,
   "outputs": [],
   "source": [
    "# Label Encoder for getting sarcasm state\n",
    "label_encoder = LabelEncoder()\n",
    "y = to_categorical(label_encoder.fit_transform(y))"
   ],
   "metadata": {
    "collapsed": false,
    "pycharm": {
     "name": "#%%\n"
    }
   }
  },
  {
   "cell_type": "code",
   "execution_count": 11,
   "outputs": [
    {
     "data": {
      "text/plain": "(690, 2)"
     },
     "execution_count": 11,
     "metadata": {},
     "output_type": "execute_result"
    }
   ],
   "source": [
    "y.shape"
   ],
   "metadata": {
    "collapsed": false,
    "pycharm": {
     "name": "#%%\n"
    }
   }
  },
  {
   "cell_type": "code",
   "execution_count": 12,
   "outputs": [],
   "source": [
    "X_audio_train, X_audio_test, y_audio_train, y_audio_test = train_test_split(X, y, test_size=0.2, random_state=0)"
   ],
   "metadata": {
    "collapsed": false,
    "pycharm": {
     "name": "#%%\n"
    }
   }
  },
  {
   "cell_type": "code",
   "execution_count": 13,
   "outputs": [],
   "source": [
    "# Number of Classes\n",
    "label_count = y.shape[1]"
   ],
   "metadata": {
    "collapsed": false,
    "pycharm": {
     "name": "#%%\n"
    }
   }
  },
  {
   "cell_type": "code",
   "execution_count": 14,
   "outputs": [
    {
     "name": "stderr",
     "output_type": "stream",
     "text": [
      "2022-05-03 00:13:44.804497: I tensorflow/core/platform/cpu_feature_guard.cc:145] This TensorFlow binary is optimized with Intel(R) MKL-DNN to use the following CPU instructions in performance critical operations:  SSE4.1 SSE4.2 AVX AVX2 AVX512F FMA\n",
      "To enable them in non-MKL-DNN operations, rebuild TensorFlow with the appropriate compiler flags.\n",
      "2022-05-03 00:13:44.806501: I tensorflow/core/common_runtime/process_util.cc:115] Creating new thread pool with default inter op setting: 8. Tune using inter_op_parallelism_threads for best performance.\n"
     ]
    },
    {
     "name": "stdout",
     "output_type": "stream",
     "text": [
      "Model: \"sequential\"\n",
      "_________________________________________________________________\n",
      "Layer (type)                 Output Shape              Param #   \n",
      "=================================================================\n",
      "dense (Dense)                (None, 100)               1400      \n",
      "_________________________________________________________________\n",
      "activation (Activation)      (None, 100)               0         \n",
      "_________________________________________________________________\n",
      "dropout (Dropout)            (None, 100)               0         \n",
      "_________________________________________________________________\n",
      "dense_1 (Dense)              (None, 200)               20200     \n",
      "_________________________________________________________________\n",
      "activation_1 (Activation)    (None, 200)               0         \n",
      "_________________________________________________________________\n",
      "dropout_1 (Dropout)          (None, 200)               0         \n",
      "_________________________________________________________________\n",
      "dense_2 (Dense)              (None, 100)               20100     \n",
      "_________________________________________________________________\n",
      "activation_2 (Activation)    (None, 100)               0         \n",
      "_________________________________________________________________\n",
      "dropout_2 (Dropout)          (None, 100)               0         \n",
      "_________________________________________________________________\n",
      "dense_3 (Dense)              (None, 2)                 202       \n",
      "_________________________________________________________________\n",
      "activation_3 (Activation)    (None, 2)                 0         \n",
      "=================================================================\n",
      "Total params: 41,902\n",
      "Trainable params: 41,902\n",
      "Non-trainable params: 0\n",
      "_________________________________________________________________\n"
     ]
    }
   ],
   "source": [
    "model = Sequential()\n",
    "model.add(Dense(100, input_shape=(13,)))\n",
    "model.add(Activation('relu'))\n",
    "model.add(Dropout(0.5))\n",
    "\n",
    "model.add(Dense(200))\n",
    "model.add(Activation('relu'))\n",
    "model.add(Dropout(0.5))\n",
    "\n",
    "model.add(Dense(100))\n",
    "model.add(Activation('relu'))\n",
    "model.add(Dropout(0.5))\n",
    "\n",
    "model.add(Dense(label_count))\n",
    "model.add(Activation('softmax'))\n",
    "\n",
    "model.summary()"
   ],
   "metadata": {
    "collapsed": false,
    "pycharm": {
     "name": "#%%\n"
    }
   }
  },
  {
   "cell_type": "code",
   "execution_count": 15,
   "outputs": [],
   "source": [
    "model.compile(loss=\"categorical_crossentropy\", metrics=['accuracy',f1_m, precision_m, recall_m], optimizer='adam')"
   ],
   "metadata": {
    "collapsed": false,
    "pycharm": {
     "name": "#%%\n"
    }
   }
  },
  {
   "cell_type": "code",
   "execution_count": 16,
   "outputs": [
    {
     "name": "stdout",
     "output_type": "stream",
     "text": [
      "Train on 552 samples\n",
      "Epoch 1/100\n",
      "288/552 [==============>...............] - ETA: 1s - loss: 35.4816 - accuracy: 0.4688 - f1_m: 0.4687 - precision_m: 0.4688 - recall_m: 0.4688 WARNING:tensorflow:Can save best model only with val_loss available, skipping.\n",
      "552/552 [==============================] - 1s 3ms/sample - loss: 29.9158 - accuracy: 0.5000 - f1_m: 0.5052 - precision_m: 0.5052 - recall_m: 0.5052\n",
      "Epoch 2/100\n",
      "352/552 [==================>...........] - ETA: 0s - loss: 19.2400 - accuracy: 0.5312 - f1_m: 0.5312 - precision_m: 0.5312 - recall_m: 0.5312WARNING:tensorflow:Can save best model only with val_loss available, skipping.\n",
      "552/552 [==============================] - 0s 187us/sample - loss: 17.6933 - accuracy: 0.5272 - f1_m: 0.5260 - precision_m: 0.5260 - recall_m: 0.5260\n",
      "Epoch 3/100\n",
      "352/552 [==================>...........] - ETA: 0s - loss: 12.7197 - accuracy: 0.5341 - f1_m: 0.5341 - precision_m: 0.5341 - recall_m: 0.5341WARNING:tensorflow:Can save best model only with val_loss available, skipping.\n",
      "552/552 [==============================] - 0s 177us/sample - loss: 12.1201 - accuracy: 0.5254 - f1_m: 0.5347 - precision_m: 0.5347 - recall_m: 0.5347\n",
      "Epoch 4/100\n",
      "352/552 [==================>...........] - ETA: 0s - loss: 9.9051 - accuracy: 0.4773 - f1_m: 0.4773 - precision_m: 0.4773 - recall_m: 0.4773WARNING:tensorflow:Can save best model only with val_loss available, skipping.\n",
      "552/552 [==============================] - 0s 177us/sample - loss: 8.8699 - accuracy: 0.4909 - f1_m: 0.5017 - precision_m: 0.5017 - recall_m: 0.5017\n",
      "Epoch 5/100\n",
      "352/552 [==================>...........] - ETA: 0s - loss: 6.3402 - accuracy: 0.5682 - f1_m: 0.5682 - precision_m: 0.5682 - recall_m: 0.5682WARNING:tensorflow:Can save best model only with val_loss available, skipping.\n",
      "552/552 [==============================] - 0s 176us/sample - loss: 6.0611 - accuracy: 0.5562 - f1_m: 0.5590 - precision_m: 0.5590 - recall_m: 0.5590\n",
      "Epoch 6/100\n",
      "352/552 [==================>...........] - ETA: 0s - loss: 5.1861 - accuracy: 0.5256 - f1_m: 0.5256 - precision_m: 0.5256 - recall_m: 0.5256WARNING:tensorflow:Can save best model only with val_loss available, skipping.\n",
      "552/552 [==============================] - 0s 185us/sample - loss: 5.1719 - accuracy: 0.5417 - f1_m: 0.5347 - precision_m: 0.5347 - recall_m: 0.5347\n",
      "Epoch 7/100\n",
      "352/552 [==================>...........] - ETA: 0s - loss: 4.2466 - accuracy: 0.5938 - f1_m: 0.5937 - precision_m: 0.5938 - recall_m: 0.5938WARNING:tensorflow:Can save best model only with val_loss available, skipping.\n",
      "552/552 [==============================] - 0s 181us/sample - loss: 4.2006 - accuracy: 0.5815 - f1_m: 0.5781 - precision_m: 0.5781 - recall_m: 0.5781\n",
      "Epoch 8/100\n",
      "352/552 [==================>...........] - ETA: 0s - loss: 3.9259 - accuracy: 0.5369 - f1_m: 0.5369 - precision_m: 0.5369 - recall_m: 0.5369WARNING:tensorflow:Can save best model only with val_loss available, skipping.\n",
      "552/552 [==============================] - 0s 179us/sample - loss: 3.6137 - accuracy: 0.5399 - f1_m: 0.5434 - precision_m: 0.5434 - recall_m: 0.5434\n",
      "Epoch 9/100\n",
      "352/552 [==================>...........] - ETA: 0s - loss: 3.4159 - accuracy: 0.5653 - f1_m: 0.5653 - precision_m: 0.5653 - recall_m: 0.5653WARNING:tensorflow:Can save best model only with val_loss available, skipping.\n",
      "552/552 [==============================] - 0s 178us/sample - loss: 3.3384 - accuracy: 0.5580 - f1_m: 0.5660 - precision_m: 0.5660 - recall_m: 0.5660\n",
      "Epoch 10/100\n",
      "352/552 [==================>...........] - ETA: 0s - loss: 2.9504 - accuracy: 0.5483 - f1_m: 0.5483 - precision_m: 0.5483 - recall_m: 0.5483WARNING:tensorflow:Can save best model only with val_loss available, skipping.\n",
      "552/552 [==============================] - 0s 184us/sample - loss: 2.9617 - accuracy: 0.5489 - f1_m: 0.5469 - precision_m: 0.5469 - recall_m: 0.5469\n",
      "Epoch 11/100\n",
      "352/552 [==================>...........] - ETA: 0s - loss: 2.6407 - accuracy: 0.5540 - f1_m: 0.5540 - precision_m: 0.5540 - recall_m: 0.5540WARNING:tensorflow:Can save best model only with val_loss available, skipping.\n",
      "552/552 [==============================] - 0s 186us/sample - loss: 2.5545 - accuracy: 0.5199 - f1_m: 0.5243 - precision_m: 0.5243 - recall_m: 0.5243\n",
      "Epoch 12/100\n",
      "352/552 [==================>...........] - ETA: 0s - loss: 2.0371 - accuracy: 0.5568 - f1_m: 0.5568 - precision_m: 0.5568 - recall_m: 0.5568WARNING:tensorflow:Can save best model only with val_loss available, skipping.\n",
      "552/552 [==============================] - 0s 187us/sample - loss: 2.0426 - accuracy: 0.5380 - f1_m: 0.5260 - precision_m: 0.5260 - recall_m: 0.5260\n",
      "Epoch 13/100\n",
      "352/552 [==================>...........] - ETA: 0s - loss: 1.8990 - accuracy: 0.5767 - f1_m: 0.5767 - precision_m: 0.5767 - recall_m: 0.5767WARNING:tensorflow:Can save best model only with val_loss available, skipping.\n",
      "552/552 [==============================] - 0s 193us/sample - loss: 1.8143 - accuracy: 0.5851 - f1_m: 0.5816 - precision_m: 0.5816 - recall_m: 0.5816\n",
      "Epoch 14/100\n",
      "352/552 [==================>...........] - ETA: 0s - loss: 1.4492 - accuracy: 0.6193 - f1_m: 0.6193 - precision_m: 0.6193 - recall_m: 0.6193WARNING:tensorflow:Can save best model only with val_loss available, skipping.\n",
      "552/552 [==============================] - 0s 183us/sample - loss: 1.5076 - accuracy: 0.5942 - f1_m: 0.6059 - precision_m: 0.6059 - recall_m: 0.6059\n",
      "Epoch 15/100\n",
      "352/552 [==================>...........] - ETA: 0s - loss: 1.6042 - accuracy: 0.5909 - f1_m: 0.5909 - precision_m: 0.5909 - recall_m: 0.5909WARNING:tensorflow:Can save best model only with val_loss available, skipping.\n",
      "552/552 [==============================] - 0s 175us/sample - loss: 1.6221 - accuracy: 0.5707 - f1_m: 0.5625 - precision_m: 0.5625 - recall_m: 0.5625\n",
      "Epoch 16/100\n",
      "352/552 [==================>...........] - ETA: 0s - loss: 1.4385 - accuracy: 0.4943 - f1_m: 0.4943 - precision_m: 0.4943 - recall_m: 0.4943WARNING:tensorflow:Can save best model only with val_loss available, skipping.\n",
      "552/552 [==============================] - 0s 176us/sample - loss: 1.4990 - accuracy: 0.5109 - f1_m: 0.5156 - precision_m: 0.5156 - recall_m: 0.5156\n",
      "Epoch 17/100\n",
      "384/552 [===================>..........] - ETA: 0s - loss: 1.3515 - accuracy: 0.5339 - f1_m: 0.5339 - precision_m: 0.5339 - recall_m: 0.5339WARNING:tensorflow:Can save best model only with val_loss available, skipping.\n",
      "552/552 [==============================] - 0s 174us/sample - loss: 1.2535 - accuracy: 0.5507 - f1_m: 0.5590 - precision_m: 0.5590 - recall_m: 0.5590\n",
      "Epoch 18/100\n",
      "352/552 [==================>...........] - ETA: 0s - loss: 1.4241 - accuracy: 0.5199 - f1_m: 0.5199 - precision_m: 0.5199 - recall_m: 0.5199WARNING:tensorflow:Can save best model only with val_loss available, skipping.\n",
      "552/552 [==============================] - 0s 184us/sample - loss: 1.3438 - accuracy: 0.5525 - f1_m: 0.5399 - precision_m: 0.5399 - recall_m: 0.5399\n",
      "Epoch 19/100\n",
      "320/552 [================>.............] - ETA: 0s - loss: 1.3810 - accuracy: 0.5156 - f1_m: 0.5156 - precision_m: 0.5156 - recall_m: 0.5156WARNING:tensorflow:Can save best model only with val_loss available, skipping.\n",
      "552/552 [==============================] - 0s 207us/sample - loss: 1.2598 - accuracy: 0.5435 - f1_m: 0.5312 - precision_m: 0.5312 - recall_m: 0.5312\n",
      "Epoch 20/100\n",
      "352/552 [==================>...........] - ETA: 0s - loss: 1.0799 - accuracy: 0.5511 - f1_m: 0.5511 - precision_m: 0.5511 - recall_m: 0.5511WARNING:tensorflow:Can save best model only with val_loss available, skipping.\n",
      "552/552 [==============================] - 0s 181us/sample - loss: 1.0267 - accuracy: 0.5543 - f1_m: 0.5573 - precision_m: 0.5573 - recall_m: 0.5573\n",
      "Epoch 21/100\n",
      "352/552 [==================>...........] - ETA: 0s - loss: 0.9491 - accuracy: 0.5710 - f1_m: 0.5710 - precision_m: 0.5710 - recall_m: 0.5710WARNING:tensorflow:Can save best model only with val_loss available, skipping.\n",
      "552/552 [==============================] - 0s 188us/sample - loss: 1.0159 - accuracy: 0.5562 - f1_m: 0.5486 - precision_m: 0.5486 - recall_m: 0.5486\n",
      "Epoch 22/100\n",
      "352/552 [==================>...........] - ETA: 0s - loss: 1.0835 - accuracy: 0.5398 - f1_m: 0.5398 - precision_m: 0.5398 - recall_m: 0.5398WARNING:tensorflow:Can save best model only with val_loss available, skipping.\n",
      "552/552 [==============================] - 0s 178us/sample - loss: 1.0048 - accuracy: 0.5471 - f1_m: 0.5451 - precision_m: 0.5451 - recall_m: 0.5451\n",
      "Epoch 23/100\n",
      "320/552 [================>.............] - ETA: 0s - loss: 0.8541 - accuracy: 0.5875 - f1_m: 0.5875 - precision_m: 0.5875 - recall_m: 0.5875WARNING:tensorflow:Can save best model only with val_loss available, skipping.\n",
      "552/552 [==============================] - 0s 200us/sample - loss: 0.8545 - accuracy: 0.5851 - f1_m: 0.5868 - precision_m: 0.5868 - recall_m: 0.5868\n",
      "Epoch 24/100\n",
      "352/552 [==================>...........] - ETA: 0s - loss: 1.0221 - accuracy: 0.5142 - f1_m: 0.5142 - precision_m: 0.5142 - recall_m: 0.5142WARNING:tensorflow:Can save best model only with val_loss available, skipping.\n",
      "552/552 [==============================] - 0s 187us/sample - loss: 0.9331 - accuracy: 0.5399 - f1_m: 0.5590 - precision_m: 0.5590 - recall_m: 0.5590\n",
      "Epoch 25/100\n",
      "320/552 [================>.............] - ETA: 0s - loss: 0.8683 - accuracy: 0.5813 - f1_m: 0.5812 - precision_m: 0.5813 - recall_m: 0.5813WARNING:tensorflow:Can save best model only with val_loss available, skipping.\n",
      "552/552 [==============================] - 0s 192us/sample - loss: 0.8805 - accuracy: 0.5598 - f1_m: 0.5417 - precision_m: 0.5417 - recall_m: 0.5417\n",
      "Epoch 26/100\n",
      "352/552 [==================>...........] - ETA: 0s - loss: 0.8143 - accuracy: 0.6051 - f1_m: 0.6051 - precision_m: 0.6051 - recall_m: 0.6051WARNING:tensorflow:Can save best model only with val_loss available, skipping.\n",
      "552/552 [==============================] - 0s 187us/sample - loss: 0.8234 - accuracy: 0.5888 - f1_m: 0.5851 - precision_m: 0.5851 - recall_m: 0.5851\n",
      "Epoch 27/100\n",
      "320/552 [================>.............] - ETA: 0s - loss: 0.8764 - accuracy: 0.5656 - f1_m: 0.5656 - precision_m: 0.5656 - recall_m: 0.5656WARNING:tensorflow:Can save best model only with val_loss available, skipping.\n",
      "552/552 [==============================] - 0s 189us/sample - loss: 0.8698 - accuracy: 0.5670 - f1_m: 0.5642 - precision_m: 0.5642 - recall_m: 0.5642\n",
      "Epoch 28/100\n",
      "352/552 [==================>...........] - ETA: 0s - loss: 0.8072 - accuracy: 0.5653 - f1_m: 0.5653 - precision_m: 0.5653 - recall_m: 0.5653WARNING:tensorflow:Can save best model only with val_loss available, skipping.\n",
      "552/552 [==============================] - 0s 187us/sample - loss: 0.7831 - accuracy: 0.5743 - f1_m: 0.5764 - precision_m: 0.5764 - recall_m: 0.5764\n",
      "Epoch 29/100\n",
      "352/552 [==================>...........] - ETA: 0s - loss: 0.7976 - accuracy: 0.5682 - f1_m: 0.5682 - precision_m: 0.5682 - recall_m: 0.5682WARNING:tensorflow:Can save best model only with val_loss available, skipping.\n",
      "552/552 [==============================] - 0s 186us/sample - loss: 0.7826 - accuracy: 0.5833 - f1_m: 0.5903 - precision_m: 0.5903 - recall_m: 0.5903\n",
      "Epoch 30/100\n",
      "352/552 [==================>...........] - ETA: 0s - loss: 0.7984 - accuracy: 0.5966 - f1_m: 0.5966 - precision_m: 0.5966 - recall_m: 0.5966WARNING:tensorflow:Can save best model only with val_loss available, skipping.\n",
      "552/552 [==============================] - 0s 189us/sample - loss: 0.7863 - accuracy: 0.5707 - f1_m: 0.5677 - precision_m: 0.5677 - recall_m: 0.5677\n",
      "Epoch 31/100\n",
      "352/552 [==================>...........] - ETA: 0s - loss: 0.7971 - accuracy: 0.5653 - f1_m: 0.5653 - precision_m: 0.5653 - recall_m: 0.5653WARNING:tensorflow:Can save best model only with val_loss available, skipping.\n",
      "552/552 [==============================] - 0s 186us/sample - loss: 0.7808 - accuracy: 0.5598 - f1_m: 0.5625 - precision_m: 0.5625 - recall_m: 0.5625\n",
      "Epoch 32/100\n",
      "352/552 [==================>...........] - ETA: 0s - loss: 0.6933 - accuracy: 0.6250 - f1_m: 0.6250 - precision_m: 0.6250 - recall_m: 0.6250WARNING:tensorflow:Can save best model only with val_loss available, skipping.\n",
      "552/552 [==============================] - 0s 189us/sample - loss: 0.6718 - accuracy: 0.6232 - f1_m: 0.6285 - precision_m: 0.6285 - recall_m: 0.6285\n",
      "Epoch 33/100\n",
      "320/552 [================>.............] - ETA: 0s - loss: 0.7602 - accuracy: 0.5969 - f1_m: 0.5969 - precision_m: 0.5969 - recall_m: 0.5969WARNING:tensorflow:Can save best model only with val_loss available, skipping.\n",
      "552/552 [==============================] - 0s 190us/sample - loss: 0.7447 - accuracy: 0.6033 - f1_m: 0.6094 - precision_m: 0.6094 - recall_m: 0.6094\n",
      "Epoch 34/100\n",
      "352/552 [==================>...........] - ETA: 0s - loss: 0.7782 - accuracy: 0.5170 - f1_m: 0.5170 - precision_m: 0.5170 - recall_m: 0.5170WARNING:tensorflow:Can save best model only with val_loss available, skipping.\n",
      "552/552 [==============================] - 0s 190us/sample - loss: 0.7787 - accuracy: 0.5254 - f1_m: 0.5243 - precision_m: 0.5243 - recall_m: 0.5243\n",
      "Epoch 35/100\n",
      "352/552 [==================>...........] - ETA: 0s - loss: 0.7505 - accuracy: 0.5881 - f1_m: 0.5881 - precision_m: 0.5881 - recall_m: 0.5881WARNING:tensorflow:Can save best model only with val_loss available, skipping.\n",
      "552/552 [==============================] - 0s 189us/sample - loss: 0.7433 - accuracy: 0.5888 - f1_m: 0.5851 - precision_m: 0.5851 - recall_m: 0.5851\n",
      "Epoch 36/100\n",
      "320/552 [================>.............] - ETA: 0s - loss: 0.6440 - accuracy: 0.6500 - f1_m: 0.6500 - precision_m: 0.6500 - recall_m: 0.6500WARNING:tensorflow:Can save best model only with val_loss available, skipping.\n",
      "552/552 [==============================] - 0s 190us/sample - loss: 0.6951 - accuracy: 0.6286 - f1_m: 0.6285 - precision_m: 0.6285 - recall_m: 0.6285\n",
      "Epoch 37/100\n",
      "320/552 [================>.............] - ETA: 0s - loss: 0.7597 - accuracy: 0.5906 - f1_m: 0.5906 - precision_m: 0.5906 - recall_m: 0.5906WARNING:tensorflow:Can save best model only with val_loss available, skipping.\n",
      "552/552 [==============================] - 0s 198us/sample - loss: 0.7395 - accuracy: 0.5743 - f1_m: 0.5816 - precision_m: 0.5816 - recall_m: 0.5816\n",
      "Epoch 38/100\n",
      "320/552 [================>.............] - ETA: 0s - loss: 0.7945 - accuracy: 0.5594 - f1_m: 0.5594 - precision_m: 0.5594 - recall_m: 0.5594WARNING:tensorflow:Can save best model only with val_loss available, skipping.\n",
      "552/552 [==============================] - 0s 199us/sample - loss: 0.7550 - accuracy: 0.5761 - f1_m: 0.5729 - precision_m: 0.5729 - recall_m: 0.5729\n",
      "Epoch 39/100\n",
      "544/552 [============================>.] - ETA: 0s - loss: 0.7369 - accuracy: 0.5809 - f1_m: 0.5809 - precision_m: 0.5809 - recall_m: 0.5809WARNING:tensorflow:Can save best model only with val_loss available, skipping.\n",
      "552/552 [==============================] - 0s 235us/sample - loss: 0.7378 - accuracy: 0.5761 - f1_m: 0.5625 - precision_m: 0.5625 - recall_m: 0.5625\n",
      "Epoch 40/100\n",
      "320/552 [================>.............] - ETA: 0s - loss: 0.7275 - accuracy: 0.5781 - f1_m: 0.5781 - precision_m: 0.5781 - recall_m: 0.5781WARNING:tensorflow:Can save best model only with val_loss available, skipping.\n",
      "552/552 [==============================] - 0s 207us/sample - loss: 0.7376 - accuracy: 0.5707 - f1_m: 0.5781 - precision_m: 0.5781 - recall_m: 0.5781\n",
      "Epoch 41/100\n",
      "320/552 [================>.............] - ETA: 0s - loss: 0.7190 - accuracy: 0.6062 - f1_m: 0.6062 - precision_m: 0.6062 - recall_m: 0.6062WARNING:tensorflow:Can save best model only with val_loss available, skipping.\n",
      "552/552 [==============================] - 0s 199us/sample - loss: 0.7181 - accuracy: 0.5924 - f1_m: 0.5885 - precision_m: 0.5885 - recall_m: 0.5885\n",
      "Epoch 42/100\n",
      "320/552 [================>.............] - ETA: 0s - loss: 0.7221 - accuracy: 0.5625 - f1_m: 0.5625 - precision_m: 0.5625 - recall_m: 0.5625WARNING:tensorflow:Can save best model only with val_loss available, skipping.\n",
      "552/552 [==============================] - 0s 192us/sample - loss: 0.7405 - accuracy: 0.5688 - f1_m: 0.5660 - precision_m: 0.5660 - recall_m: 0.5660\n",
      "Epoch 43/100\n",
      "352/552 [==================>...........] - ETA: 0s - loss: 0.6890 - accuracy: 0.6222 - f1_m: 0.6222 - precision_m: 0.6222 - recall_m: 0.6222WARNING:tensorflow:Can save best model only with val_loss available, skipping.\n",
      "552/552 [==============================] - 0s 181us/sample - loss: 0.6965 - accuracy: 0.5996 - f1_m: 0.6111 - precision_m: 0.6111 - recall_m: 0.6111\n",
      "Epoch 44/100\n",
      "352/552 [==================>...........] - ETA: 0s - loss: 0.6965 - accuracy: 0.6193 - f1_m: 0.6193 - precision_m: 0.6193 - recall_m: 0.6193WARNING:tensorflow:Can save best model only with val_loss available, skipping.\n",
      "552/552 [==============================] - 0s 180us/sample - loss: 0.6896 - accuracy: 0.6123 - f1_m: 0.6024 - precision_m: 0.6024 - recall_m: 0.6024\n",
      "Epoch 45/100\n",
      "448/552 [=======================>......] - ETA: 0s - loss: 0.6809 - accuracy: 0.5692 - f1_m: 0.5692 - precision_m: 0.5692 - recall_m: 0.5692WARNING:tensorflow:Can save best model only with val_loss available, skipping.\n",
      "552/552 [==============================] - 0s 247us/sample - loss: 0.7043 - accuracy: 0.5743 - f1_m: 0.5764 - precision_m: 0.5764 - recall_m: 0.5764\n",
      "Epoch 46/100\n",
      "320/552 [================>.............] - ETA: 0s - loss: 0.6933 - accuracy: 0.5906 - f1_m: 0.5906 - precision_m: 0.5906 - recall_m: 0.5906WARNING:tensorflow:Can save best model only with val_loss available, skipping.\n",
      "552/552 [==============================] - 0s 202us/sample - loss: 0.7095 - accuracy: 0.5942 - f1_m: 0.5851 - precision_m: 0.5851 - recall_m: 0.5851\n",
      "Epoch 47/100\n",
      "320/552 [================>.............] - ETA: 0s - loss: 0.7103 - accuracy: 0.5531 - f1_m: 0.5531 - precision_m: 0.5531 - recall_m: 0.5531WARNING:tensorflow:Can save best model only with val_loss available, skipping.\n",
      "552/552 [==============================] - 0s 192us/sample - loss: 0.7074 - accuracy: 0.5453 - f1_m: 0.5486 - precision_m: 0.5486 - recall_m: 0.5486\n",
      "Epoch 48/100\n",
      "416/552 [=====================>........] - ETA: 0s - loss: 0.7183 - accuracy: 0.6034 - f1_m: 0.6034 - precision_m: 0.6034 - recall_m: 0.6034WARNING:tensorflow:Can save best model only with val_loss available, skipping.\n",
      "552/552 [==============================] - 0s 294us/sample - loss: 0.7140 - accuracy: 0.6069 - f1_m: 0.6128 - precision_m: 0.6128 - recall_m: 0.6128\n",
      "Epoch 49/100\n",
      "288/552 [==============>...............] - ETA: 0s - loss: 0.7477 - accuracy: 0.5382 - f1_m: 0.5382 - precision_m: 0.5382 - recall_m: 0.5382WARNING:tensorflow:Can save best model only with val_loss available, skipping.\n",
      "552/552 [==============================] - 0s 211us/sample - loss: 0.6817 - accuracy: 0.5815 - f1_m: 0.5937 - precision_m: 0.5938 - recall_m: 0.5938\n",
      "Epoch 50/100\n",
      "320/552 [================>.............] - ETA: 0s - loss: 0.6875 - accuracy: 0.5469 - f1_m: 0.5469 - precision_m: 0.5469 - recall_m: 0.5469WARNING:tensorflow:Can save best model only with val_loss available, skipping.\n",
      "552/552 [==============================] - 0s 192us/sample - loss: 0.6624 - accuracy: 0.5707 - f1_m: 0.5781 - precision_m: 0.5781 - recall_m: 0.5781\n",
      "Epoch 51/100\n",
      "512/552 [==========================>...] - ETA: 0s - loss: 0.6849 - accuracy: 0.5723 - f1_m: 0.5723 - precision_m: 0.5723 - recall_m: 0.5723WARNING:tensorflow:Can save best model only with val_loss available, skipping.\n",
      "552/552 [==============================] - 0s 297us/sample - loss: 0.6964 - accuracy: 0.5779 - f1_m: 0.5851 - precision_m: 0.5851 - recall_m: 0.5851\n",
      "Epoch 52/100\n",
      "544/552 [============================>.] - ETA: 0s - loss: 0.6931 - accuracy: 0.6176 - f1_m: 0.6176 - precision_m: 0.6176 - recall_m: 0.6176WARNING:tensorflow:Can save best model only with val_loss available, skipping.\n",
      "552/552 [==============================] - 0s 234us/sample - loss: 0.6977 - accuracy: 0.6159 - f1_m: 0.6111 - precision_m: 0.6111 - recall_m: 0.6111\n",
      "Epoch 53/100\n",
      "352/552 [==================>...........] - ETA: 0s - loss: 0.6930 - accuracy: 0.5767 - f1_m: 0.5767 - precision_m: 0.5767 - recall_m: 0.5767WARNING:tensorflow:Can save best model only with val_loss available, skipping.\n",
      "552/552 [==============================] - 0s 184us/sample - loss: 0.6941 - accuracy: 0.5562 - f1_m: 0.5538 - precision_m: 0.5538 - recall_m: 0.5538\n",
      "Epoch 54/100\n",
      "352/552 [==================>...........] - ETA: 0s - loss: 0.6725 - accuracy: 0.6108 - f1_m: 0.6108 - precision_m: 0.6108 - recall_m: 0.6108WARNING:tensorflow:Can save best model only with val_loss available, skipping.\n",
      "552/552 [==============================] - 0s 180us/sample - loss: 0.6760 - accuracy: 0.5924 - f1_m: 0.5990 - precision_m: 0.5990 - recall_m: 0.5990\n",
      "Epoch 55/100\n",
      "352/552 [==================>...........] - ETA: 0s - loss: 0.6633 - accuracy: 0.6193 - f1_m: 0.6193 - precision_m: 0.6193 - recall_m: 0.6193WARNING:tensorflow:Can save best model only with val_loss available, skipping.\n",
      "552/552 [==============================] - 0s 176us/sample - loss: 0.6751 - accuracy: 0.6141 - f1_m: 0.6094 - precision_m: 0.6094 - recall_m: 0.6094\n",
      "Epoch 56/100\n",
      "352/552 [==================>...........] - ETA: 0s - loss: 0.6528 - accuracy: 0.6477 - f1_m: 0.6477 - precision_m: 0.6477 - recall_m: 0.6477WARNING:tensorflow:Can save best model only with val_loss available, skipping.\n",
      "552/552 [==============================] - 0s 182us/sample - loss: 0.6472 - accuracy: 0.6377 - f1_m: 0.6476 - precision_m: 0.6476 - recall_m: 0.6476\n",
      "Epoch 57/100\n",
      "352/552 [==================>...........] - ETA: 0s - loss: 0.6544 - accuracy: 0.6477 - f1_m: 0.6477 - precision_m: 0.6477 - recall_m: 0.6477WARNING:tensorflow:Can save best model only with val_loss available, skipping.\n",
      "552/552 [==============================] - 0s 192us/sample - loss: 0.6568 - accuracy: 0.6196 - f1_m: 0.6198 - precision_m: 0.6198 - recall_m: 0.6198\n",
      "Epoch 58/100\n",
      "320/552 [================>.............] - ETA: 0s - loss: 0.6773 - accuracy: 0.6375 - f1_m: 0.6375 - precision_m: 0.6375 - recall_m: 0.6375WARNING:tensorflow:Can save best model only with val_loss available, skipping.\n",
      "552/552 [==============================] - 0s 195us/sample - loss: 0.6695 - accuracy: 0.6178 - f1_m: 0.6285 - precision_m: 0.6285 - recall_m: 0.6285\n",
      "Epoch 59/100\n",
      "352/552 [==================>...........] - ETA: 0s - loss: 0.7077 - accuracy: 0.5852 - f1_m: 0.5852 - precision_m: 0.5852 - recall_m: 0.5852WARNING:tensorflow:Can save best model only with val_loss available, skipping.\n",
      "552/552 [==============================] - 0s 190us/sample - loss: 0.7079 - accuracy: 0.5779 - f1_m: 0.5642 - precision_m: 0.5642 - recall_m: 0.5642\n",
      "Epoch 60/100\n",
      "320/552 [================>.............] - ETA: 0s - loss: 0.6842 - accuracy: 0.6187 - f1_m: 0.6187 - precision_m: 0.6187 - recall_m: 0.6187WARNING:tensorflow:Can save best model only with val_loss available, skipping.\n",
      "552/552 [==============================] - 0s 192us/sample - loss: 0.6842 - accuracy: 0.5906 - f1_m: 0.5868 - precision_m: 0.5868 - recall_m: 0.5868\n",
      "Epoch 61/100\n",
      "352/552 [==================>...........] - ETA: 0s - loss: 0.6358 - accuracy: 0.6278 - f1_m: 0.6278 - precision_m: 0.6278 - recall_m: 0.6278WARNING:tensorflow:Can save best model only with val_loss available, skipping.\n",
      "552/552 [==============================] - 0s 190us/sample - loss: 0.6459 - accuracy: 0.6178 - f1_m: 0.6181 - precision_m: 0.6181 - recall_m: 0.6181\n",
      "Epoch 62/100\n",
      "320/552 [================>.............] - ETA: 0s - loss: 0.6752 - accuracy: 0.5813 - f1_m: 0.5812 - precision_m: 0.5813 - recall_m: 0.5813WARNING:tensorflow:Can save best model only with val_loss available, skipping.\n",
      "552/552 [==============================] - 0s 188us/sample - loss: 0.6769 - accuracy: 0.5942 - f1_m: 0.5851 - precision_m: 0.5851 - recall_m: 0.5851\n",
      "Epoch 63/100\n",
      "352/552 [==================>...........] - ETA: 0s - loss: 0.6527 - accuracy: 0.6420 - f1_m: 0.6420 - precision_m: 0.6420 - recall_m: 0.6420WARNING:tensorflow:Can save best model only with val_loss available, skipping.\n",
      "552/552 [==============================] - 0s 192us/sample - loss: 0.6561 - accuracy: 0.6250 - f1_m: 0.6250 - precision_m: 0.6250 - recall_m: 0.6250\n",
      "Epoch 64/100\n",
      "320/552 [================>.............] - ETA: 0s - loss: 0.6374 - accuracy: 0.6156 - f1_m: 0.6156 - precision_m: 0.6156 - recall_m: 0.6156WARNING:tensorflow:Can save best model only with val_loss available, skipping.\n",
      "552/552 [==============================] - 0s 193us/sample - loss: 0.6424 - accuracy: 0.6141 - f1_m: 0.6094 - precision_m: 0.6094 - recall_m: 0.6094\n",
      "Epoch 65/100\n",
      "352/552 [==================>...........] - ETA: 0s - loss: 0.6217 - accuracy: 0.6193 - f1_m: 0.6193 - precision_m: 0.6193 - recall_m: 0.6193WARNING:tensorflow:Can save best model only with val_loss available, skipping.\n",
      "552/552 [==============================] - 0s 178us/sample - loss: 0.6410 - accuracy: 0.6359 - f1_m: 0.6198 - precision_m: 0.6198 - recall_m: 0.6198\n",
      "Epoch 66/100\n",
      "352/552 [==================>...........] - ETA: 0s - loss: 0.7137 - accuracy: 0.6108 - f1_m: 0.6108 - precision_m: 0.6108 - recall_m: 0.6108WARNING:tensorflow:Can save best model only with val_loss available, skipping.\n",
      "552/552 [==============================] - 0s 186us/sample - loss: 0.6896 - accuracy: 0.6033 - f1_m: 0.6042 - precision_m: 0.6042 - recall_m: 0.6042\n",
      "Epoch 67/100\n",
      "352/552 [==================>...........] - ETA: 0s - loss: 0.6777 - accuracy: 0.5881 - f1_m: 0.5881 - precision_m: 0.5881 - recall_m: 0.5881WARNING:tensorflow:Can save best model only with val_loss available, skipping.\n",
      "552/552 [==============================] - 0s 188us/sample - loss: 0.6703 - accuracy: 0.5960 - f1_m: 0.5920 - precision_m: 0.5920 - recall_m: 0.5920\n",
      "Epoch 68/100\n",
      "352/552 [==================>...........] - ETA: 0s - loss: 0.6687 - accuracy: 0.5994 - f1_m: 0.5994 - precision_m: 0.5994 - recall_m: 0.5994WARNING:tensorflow:Can save best model only with val_loss available, skipping.\n",
      "552/552 [==============================] - 0s 182us/sample - loss: 0.6611 - accuracy: 0.6159 - f1_m: 0.6163 - precision_m: 0.6163 - recall_m: 0.6163\n",
      "Epoch 69/100\n",
      "352/552 [==================>...........] - ETA: 0s - loss: 0.6666 - accuracy: 0.6307 - f1_m: 0.6307 - precision_m: 0.6307 - recall_m: 0.6307WARNING:tensorflow:Can save best model only with val_loss available, skipping.\n",
      "552/552 [==============================] - 0s 181us/sample - loss: 0.6535 - accuracy: 0.6304 - f1_m: 0.6250 - precision_m: 0.6250 - recall_m: 0.6250\n",
      "Epoch 70/100\n",
      "352/552 [==================>...........] - ETA: 0s - loss: 0.6722 - accuracy: 0.5625 - f1_m: 0.5625 - precision_m: 0.5625 - recall_m: 0.5625WARNING:tensorflow:Can save best model only with val_loss available, skipping.\n",
      "552/552 [==============================] - 0s 177us/sample - loss: 0.6682 - accuracy: 0.5670 - f1_m: 0.5642 - precision_m: 0.5642 - recall_m: 0.5642\n",
      "Epoch 71/100\n",
      "352/552 [==================>...........] - ETA: 0s - loss: 0.6415 - accuracy: 0.6364 - f1_m: 0.6364 - precision_m: 0.6364 - recall_m: 0.6364WARNING:tensorflow:Can save best model only with val_loss available, skipping.\n",
      "552/552 [==============================] - 0s 184us/sample - loss: 0.6461 - accuracy: 0.6286 - f1_m: 0.6285 - precision_m: 0.6285 - recall_m: 0.6285\n",
      "Epoch 72/100\n",
      "352/552 [==================>...........] - ETA: 0s - loss: 0.6316 - accuracy: 0.6250 - f1_m: 0.6250 - precision_m: 0.6250 - recall_m: 0.6250WARNING:tensorflow:Can save best model only with val_loss available, skipping.\n",
      "552/552 [==============================] - 0s 180us/sample - loss: 0.6450 - accuracy: 0.6214 - f1_m: 0.6267 - precision_m: 0.6267 - recall_m: 0.6267\n",
      "Epoch 73/100\n",
      "352/552 [==================>...........] - ETA: 0s - loss: 0.6552 - accuracy: 0.5852 - f1_m: 0.5852 - precision_m: 0.5852 - recall_m: 0.5852WARNING:tensorflow:Can save best model only with val_loss available, skipping.\n",
      "552/552 [==============================] - 0s 177us/sample - loss: 0.6485 - accuracy: 0.5942 - f1_m: 0.5955 - precision_m: 0.5955 - recall_m: 0.5955\n",
      "Epoch 74/100\n",
      "352/552 [==================>...........] - ETA: 0s - loss: 0.6873 - accuracy: 0.5739 - f1_m: 0.5739 - precision_m: 0.5739 - recall_m: 0.5739WARNING:tensorflow:Can save best model only with val_loss available, skipping.\n",
      "552/552 [==============================] - 0s 179us/sample - loss: 0.6740 - accuracy: 0.5978 - f1_m: 0.5990 - precision_m: 0.5990 - recall_m: 0.5990\n",
      "Epoch 75/100\n",
      "352/552 [==================>...........] - ETA: 0s - loss: 0.6480 - accuracy: 0.6506 - f1_m: 0.6506 - precision_m: 0.6506 - recall_m: 0.6506WARNING:tensorflow:Can save best model only with val_loss available, skipping.\n",
      "552/552 [==============================] - 0s 179us/sample - loss: 0.6690 - accuracy: 0.6250 - f1_m: 0.6198 - precision_m: 0.6198 - recall_m: 0.6198\n",
      "Epoch 76/100\n",
      "352/552 [==================>...........] - ETA: 0s - loss: 0.6219 - accuracy: 0.6307 - f1_m: 0.6307 - precision_m: 0.6307 - recall_m: 0.6307WARNING:tensorflow:Can save best model only with val_loss available, skipping.\n",
      "552/552 [==============================] - 0s 186us/sample - loss: 0.6410 - accuracy: 0.6250 - f1_m: 0.6250 - precision_m: 0.6250 - recall_m: 0.6250\n",
      "Epoch 77/100\n",
      "352/552 [==================>...........] - ETA: 0s - loss: 0.6268 - accuracy: 0.6676 - f1_m: 0.6676 - precision_m: 0.6676 - recall_m: 0.6676WARNING:tensorflow:Can save best model only with val_loss available, skipping.\n",
      "552/552 [==============================] - 0s 184us/sample - loss: 0.6244 - accuracy: 0.6667 - f1_m: 0.6701 - precision_m: 0.6701 - recall_m: 0.6701\n",
      "Epoch 78/100\n",
      "352/552 [==================>...........] - ETA: 0s - loss: 0.7097 - accuracy: 0.5824 - f1_m: 0.5824 - precision_m: 0.5824 - recall_m: 0.5824WARNING:tensorflow:Can save best model only with val_loss available, skipping.\n",
      "552/552 [==============================] - 0s 185us/sample - loss: 0.6920 - accuracy: 0.5833 - f1_m: 0.5799 - precision_m: 0.5799 - recall_m: 0.5799\n",
      "Epoch 79/100\n",
      "320/552 [================>.............] - ETA: 0s - loss: 0.6170 - accuracy: 0.6469 - f1_m: 0.6469 - precision_m: 0.6469 - recall_m: 0.6469WARNING:tensorflow:Can save best model only with val_loss available, skipping.\n",
      "552/552 [==============================] - 0s 192us/sample - loss: 0.6260 - accuracy: 0.6522 - f1_m: 0.6510 - precision_m: 0.6510 - recall_m: 0.6510\n",
      "Epoch 80/100\n",
      "352/552 [==================>...........] - ETA: 0s - loss: 0.6246 - accuracy: 0.6534 - f1_m: 0.6534 - precision_m: 0.6534 - recall_m: 0.6534WARNING:tensorflow:Can save best model only with val_loss available, skipping.\n",
      "552/552 [==============================] - 0s 187us/sample - loss: 0.6582 - accuracy: 0.6250 - f1_m: 0.6198 - precision_m: 0.6198 - recall_m: 0.6198\n",
      "Epoch 81/100\n",
      "320/552 [================>.............] - ETA: 0s - loss: 0.6374 - accuracy: 0.6219 - f1_m: 0.6219 - precision_m: 0.6219 - recall_m: 0.6219WARNING:tensorflow:Can save best model only with val_loss available, skipping.\n",
      "552/552 [==============================] - 0s 196us/sample - loss: 0.6470 - accuracy: 0.6087 - f1_m: 0.5990 - precision_m: 0.5990 - recall_m: 0.5990\n",
      "Epoch 82/100\n",
      "352/552 [==================>...........] - ETA: 0s - loss: 0.6370 - accuracy: 0.6392 - f1_m: 0.6392 - precision_m: 0.6392 - recall_m: 0.6392WARNING:tensorflow:Can save best model only with val_loss available, skipping.\n",
      "552/552 [==============================] - 0s 184us/sample - loss: 0.6346 - accuracy: 0.6377 - f1_m: 0.6319 - precision_m: 0.6319 - recall_m: 0.6319\n",
      "Epoch 83/100\n",
      "352/552 [==================>...........] - ETA: 0s - loss: 0.6526 - accuracy: 0.5994 - f1_m: 0.5994 - precision_m: 0.5994 - recall_m: 0.5994WARNING:tensorflow:Can save best model only with val_loss available, skipping.\n",
      "552/552 [==============================] - 0s 178us/sample - loss: 0.6566 - accuracy: 0.6141 - f1_m: 0.5990 - precision_m: 0.5990 - recall_m: 0.5990\n",
      "Epoch 84/100\n",
      "352/552 [==================>...........] - ETA: 0s - loss: 0.6359 - accuracy: 0.6449 - f1_m: 0.6449 - precision_m: 0.6449 - recall_m: 0.6449WARNING:tensorflow:Can save best model only with val_loss available, skipping.\n",
      "552/552 [==============================] - 0s 179us/sample - loss: 0.6301 - accuracy: 0.6286 - f1_m: 0.6389 - precision_m: 0.6389 - recall_m: 0.6389\n",
      "Epoch 85/100\n",
      "352/552 [==================>...........] - ETA: 0s - loss: 0.6429 - accuracy: 0.6080 - f1_m: 0.6080 - precision_m: 0.6080 - recall_m: 0.6080WARNING:tensorflow:Can save best model only with val_loss available, skipping.\n",
      "552/552 [==============================] - 0s 179us/sample - loss: 0.6557 - accuracy: 0.6178 - f1_m: 0.6181 - precision_m: 0.6181 - recall_m: 0.6181\n",
      "Epoch 86/100\n",
      "352/552 [==================>...........] - ETA: 0s - loss: 0.6670 - accuracy: 0.5795 - f1_m: 0.5795 - precision_m: 0.5795 - recall_m: 0.5795WARNING:tensorflow:Can save best model only with val_loss available, skipping.\n",
      "552/552 [==============================] - 0s 184us/sample - loss: 0.6603 - accuracy: 0.5797 - f1_m: 0.5660 - precision_m: 0.5660 - recall_m: 0.5660\n",
      "Epoch 87/100\n",
      "352/552 [==================>...........] - ETA: 0s - loss: 0.6215 - accuracy: 0.6108 - f1_m: 0.6108 - precision_m: 0.6108 - recall_m: 0.6108WARNING:tensorflow:Can save best model only with val_loss available, skipping.\n",
      "552/552 [==============================] - 0s 182us/sample - loss: 0.6364 - accuracy: 0.6123 - f1_m: 0.6128 - precision_m: 0.6128 - recall_m: 0.6128\n",
      "Epoch 88/100\n",
      "352/552 [==================>...........] - ETA: 0s - loss: 0.6422 - accuracy: 0.6562 - f1_m: 0.6562 - precision_m: 0.6562 - recall_m: 0.6562WARNING:tensorflow:Can save best model only with val_loss available, skipping.\n",
      "552/552 [==============================] - 0s 180us/sample - loss: 0.6519 - accuracy: 0.6377 - f1_m: 0.6424 - precision_m: 0.6424 - recall_m: 0.6424\n",
      "Epoch 89/100\n",
      "320/552 [================>.............] - ETA: 0s - loss: 0.6222 - accuracy: 0.5969 - f1_m: 0.5969 - precision_m: 0.5969 - recall_m: 0.5969WARNING:tensorflow:Can save best model only with val_loss available, skipping.\n",
      "552/552 [==============================] - 0s 194us/sample - loss: 0.6271 - accuracy: 0.6087 - f1_m: 0.5937 - precision_m: 0.5938 - recall_m: 0.5938\n",
      "Epoch 90/100\n",
      "352/552 [==================>...........] - ETA: 0s - loss: 0.6419 - accuracy: 0.6080 - f1_m: 0.6080 - precision_m: 0.6080 - recall_m: 0.6080WARNING:tensorflow:Can save best model only with val_loss available, skipping.\n",
      "552/552 [==============================] - 0s 203us/sample - loss: 0.6394 - accuracy: 0.6141 - f1_m: 0.6094 - precision_m: 0.6094 - recall_m: 0.6094\n",
      "Epoch 91/100\n",
      "320/552 [================>.............] - ETA: 0s - loss: 0.6224 - accuracy: 0.6313 - f1_m: 0.6312 - precision_m: 0.6313 - recall_m: 0.6313WARNING:tensorflow:Can save best model only with val_loss available, skipping.\n",
      "552/552 [==============================] - 0s 197us/sample - loss: 0.6281 - accuracy: 0.6141 - f1_m: 0.6146 - precision_m: 0.6146 - recall_m: 0.6146\n",
      "Epoch 92/100\n",
      "320/552 [================>.............] - ETA: 0s - loss: 0.6347 - accuracy: 0.6531 - f1_m: 0.6531 - precision_m: 0.6531 - recall_m: 0.6531WARNING:tensorflow:Can save best model only with val_loss available, skipping.\n",
      "552/552 [==============================] - 0s 192us/sample - loss: 0.6216 - accuracy: 0.6558 - f1_m: 0.6597 - precision_m: 0.6597 - recall_m: 0.6597\n",
      "Epoch 93/100\n",
      "352/552 [==================>...........] - ETA: 0s - loss: 0.6516 - accuracy: 0.5966 - f1_m: 0.5966 - precision_m: 0.5966 - recall_m: 0.5966WARNING:tensorflow:Can save best model only with val_loss available, skipping.\n",
      "552/552 [==============================] - 0s 191us/sample - loss: 0.6450 - accuracy: 0.6141 - f1_m: 0.6198 - precision_m: 0.6198 - recall_m: 0.6198\n",
      "Epoch 94/100\n",
      "352/552 [==================>...........] - ETA: 0s - loss: 0.6658 - accuracy: 0.5994 - f1_m: 0.5994 - precision_m: 0.5994 - recall_m: 0.5994WARNING:tensorflow:Can save best model only with val_loss available, skipping.\n",
      "552/552 [==============================] - 0s 189us/sample - loss: 0.6417 - accuracy: 0.6214 - f1_m: 0.6372 - precision_m: 0.6372 - recall_m: 0.6372\n",
      "Epoch 95/100\n",
      "320/552 [================>.............] - ETA: 0s - loss: 0.6391 - accuracy: 0.6375 - f1_m: 0.6375 - precision_m: 0.6375 - recall_m: 0.6375WARNING:tensorflow:Can save best model only with val_loss available, skipping.\n",
      "552/552 [==============================] - 0s 195us/sample - loss: 0.6518 - accuracy: 0.6250 - f1_m: 0.6302 - precision_m: 0.6302 - recall_m: 0.6302\n",
      "Epoch 96/100\n",
      "320/552 [================>.............] - ETA: 0s - loss: 0.6414 - accuracy: 0.6344 - f1_m: 0.6344 - precision_m: 0.6344 - recall_m: 0.6344WARNING:tensorflow:Can save best model only with val_loss available, skipping.\n",
      "552/552 [==============================] - 0s 193us/sample - loss: 0.6426 - accuracy: 0.6141 - f1_m: 0.6146 - precision_m: 0.6146 - recall_m: 0.6146\n",
      "Epoch 97/100\n",
      "352/552 [==================>...........] - ETA: 0s - loss: 0.6504 - accuracy: 0.6307 - f1_m: 0.6307 - precision_m: 0.6307 - recall_m: 0.6307WARNING:tensorflow:Can save best model only with val_loss available, skipping.\n",
      "552/552 [==============================] - 0s 190us/sample - loss: 0.6605 - accuracy: 0.6359 - f1_m: 0.6406 - precision_m: 0.6406 - recall_m: 0.6406\n",
      "Epoch 98/100\n",
      "320/552 [================>.............] - ETA: 0s - loss: 0.6682 - accuracy: 0.6156 - f1_m: 0.6156 - precision_m: 0.6156 - recall_m: 0.6156WARNING:tensorflow:Can save best model only with val_loss available, skipping.\n",
      "552/552 [==============================] - 0s 194us/sample - loss: 0.6575 - accuracy: 0.6178 - f1_m: 0.6233 - precision_m: 0.6233 - recall_m: 0.6233\n",
      "Epoch 99/100\n",
      "320/552 [================>.............] - ETA: 0s - loss: 0.6366 - accuracy: 0.6281 - f1_m: 0.6281 - precision_m: 0.6281 - recall_m: 0.6281WARNING:tensorflow:Can save best model only with val_loss available, skipping.\n",
      "552/552 [==============================] - 0s 190us/sample - loss: 0.6482 - accuracy: 0.6214 - f1_m: 0.6215 - precision_m: 0.6215 - recall_m: 0.6215\n",
      "Epoch 100/100\n",
      "320/552 [================>.............] - ETA: 0s - loss: 0.6518 - accuracy: 0.6156 - f1_m: 0.6156 - precision_m: 0.6156 - recall_m: 0.6156WARNING:tensorflow:Can save best model only with val_loss available, skipping.\n",
      "552/552 [==============================] - 0s 216us/sample - loss: 0.6556 - accuracy: 0.6178 - f1_m: 0.6233 - precision_m: 0.6233 - recall_m: 0.6233\n"
     ]
    },
    {
     "data": {
      "text/plain": "<tensorflow.python.keras.callbacks.History at 0x7fc29f2f4310>"
     },
     "execution_count": 16,
     "metadata": {},
     "output_type": "execute_result"
    }
   ],
   "source": [
    "num_epochs = 100\n",
    "num_batch_size = 32\n",
    "\n",
    "checkpointer = ModelCheckpoint(filepath=\"../models/audio_model.h5\", verbose=True, save_best_only=True)\n",
    "\n",
    "model.fit(X_audio_train, y_audio_train, batch_size=num_batch_size, epochs=num_epochs, callbacks=[checkpointer])"
   ],
   "metadata": {
    "collapsed": false,
    "pycharm": {
     "name": "#%%\n"
    }
   }
  },
  {
   "cell_type": "markdown",
   "source": [
    "## Audio Model Testing"
   ],
   "metadata": {
    "collapsed": false,
    "pycharm": {
     "name": "#%% md\n"
    }
   }
  },
  {
   "cell_type": "code",
   "execution_count": 17,
   "outputs": [
    {
     "name": "stdout",
     "output_type": "stream",
     "text": [
      "loss: 0.6340242900710175\n",
      "accuracy:0.6159420013427734\n",
      "f1_score:0.6274999380111694\n",
      "precision:0.6274999976158142\n",
      "recall:0.6274999976158142\n"
     ]
    }
   ],
   "source": [
    "loss, accuracy, f1_score, precision, recall = model.evaluate(X_audio_test, y_audio_test, verbose=0)\n",
    "print(f\"loss: {loss}\\naccuracy:{accuracy}\\nf1_score:{f1_score}\\nprecision:{precision}\\nrecall:{recall}\")"
   ],
   "metadata": {
    "collapsed": false,
    "pycharm": {
     "name": "#%%\n"
    }
   }
  },
  {
   "cell_type": "code",
   "execution_count": 18,
   "outputs": [],
   "source": [
    "test_file_path = \"../mmsd_raw_data/converted_utterances/2_626.wav\"\n",
    "audio, sample_rate = librosa.load(test_file_path)\n",
    "mfcc_features = librosa.feature.mfcc(y=audio, sr=sample_rate, n_mfcc=13)\n",
    "mfcc_scaled_features = np.mean(mfcc_features.T, axis=0)\n",
    "\n",
    "mfcc_scaled_features = mfcc_scaled_features.reshape(1, -1)"
   ],
   "metadata": {
    "collapsed": false,
    "pycharm": {
     "name": "#%%\n"
    }
   }
  },
  {
   "cell_type": "code",
   "execution_count": 19,
   "outputs": [
    {
     "name": "stdout",
     "output_type": "stream",
     "text": [
      "Sarcastic: False\n"
     ]
    }
   ],
   "source": [
    "predicted_label = model.predict_classes(mfcc_scaled_features)\n",
    "predicted_class = label_encoder.inverse_transform(predicted_label)\n",
    "print(f\"Sarcastic: {predicted_class[0]}\")"
   ],
   "metadata": {
    "collapsed": false,
    "pycharm": {
     "name": "#%%\n"
    }
   }
  },
  {
   "cell_type": "code",
   "execution_count": 19,
   "outputs": [],
   "source": [],
   "metadata": {
    "collapsed": false,
    "pycharm": {
     "name": "#%%\n"
    }
   }
  }
 ],
 "metadata": {
  "kernelspec": {
   "display_name": "Python 3",
   "language": "python",
   "name": "python3"
  },
  "language_info": {
   "codemirror_mode": {
    "name": "ipython",
    "version": 2
   },
   "file_extension": ".py",
   "mimetype": "text/x-python",
   "name": "python",
   "nbconvert_exporter": "python",
   "pygments_lexer": "ipython2",
   "version": "2.7.6"
  }
 },
 "nbformat": 4,
 "nbformat_minor": 0
}