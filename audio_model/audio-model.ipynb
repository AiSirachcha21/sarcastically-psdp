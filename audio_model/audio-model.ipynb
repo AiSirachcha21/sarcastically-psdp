{
 "cells": [
  {
   "cell_type": "markdown",
   "metadata": {
    "collapsed": true,
    "pycharm": {
     "name": "#%% md\n"
    }
   },
   "source": [
    "# Audio Model"
   ]
  },
  {
   "cell_type": "code",
   "execution_count": 66,
   "outputs": [],
   "source": [
    "import librosa\n",
    "import numpy as np\n",
    "import pandas as pd\n",
    "from tqdm import tqdm\n",
    "\n",
    "from sklearn.model_selection import train_test_split\n",
    "from tensorflow.keras.models import Sequential\n",
    "from tensorflow.keras.layers import Dense, Dropout, Activation, Flatten\n",
    "from tensorflow.keras.callbacks import ModelCheckpoint\n",
    "from tensorflow.keras.utils import to_categorical\n",
    "from sklearn.preprocessing import LabelEncoder"
   ],
   "metadata": {
    "collapsed": false,
    "pycharm": {
     "name": "#%%\n"
    }
   }
  },
  {
   "cell_type": "code",
   "execution_count": 50,
   "outputs": [],
   "source": [
    "audio_data_fp = \"../mmsd_raw_data/converted_utterances\"\n",
    "dataset_csv_path = \"../normalized_mustard_dataset.csv\""
   ],
   "metadata": {
    "collapsed": false,
    "pycharm": {
     "name": "#%%\n"
    }
   }
  },
  {
   "cell_type": "code",
   "execution_count": 77,
   "outputs": [],
   "source": [
    "def create_mfcc(filepath:str, n_fft:int, hop_length: int, n_mfcc:int = 13):\n",
    "    \"\"\"\n",
    "    Creates MFCC for file at filepath\n",
    "\n",
    "    :param filepath: Location of file to be used\n",
    "    :param n_fft: Number of Fast Fourier Transforms\n",
    "    :param hop_length: Number of Hops within samples\n",
    "    :param n_mfcc: Number of MFCC's to be outputted\n",
    "    :return: Array containing mean of all MFCC's\n",
    "    \"\"\"\n",
    "    signal, sample_rate = librosa.load(filepath)\n",
    "    mfccs = librosa.feature.mfcc(y=signal, sr=sample_rate, n_fft=n_fft, hop_length=hop_length, n_mfcc=n_mfcc)\n",
    "    mean_mfccs = np.mean(mfccs.T,axis=0)\n",
    "    return mean_mfccs"
   ],
   "metadata": {
    "collapsed": false,
    "pycharm": {
     "name": "#%%\n"
    }
   }
  },
  {
   "cell_type": "code",
   "execution_count": 51,
   "outputs": [],
   "source": [
    "def create_mfcc_features(data):\n",
    "    \"\"\"\n",
    "    Creates a list of Mel-Frequency Co-Efficients\n",
    "    \"\"\"\n",
    "    hop_length = 512\n",
    "    n_fft = 2048\n",
    "\n",
    "    _mfcc_df = pd.DataFrame(columns=[\"features\", \"sarcasm_state\"])\n",
    "\n",
    "    tqdm_data = tqdm(zip(data[\"file_name\"], data[\"sarcasm\"]))\n",
    "\n",
    "    for file_name,sarcasm_state in tqdm_data:\n",
    "        tqdm_data.set_description(f\"Creating MFCC for {file_name}\")\n",
    "        fp = f\"{audio_data_fp}/{str(file_name)}\"\n",
    "        mean_mfccs = create_mfcc(fp, n_fft, hop_length)\n",
    "        _mfcc_df = _mfcc_df.append({\n",
    "            \"features\": mean_mfccs,\n",
    "            \"sarcasm_state\": sarcasm_state\n",
    "        }, ignore_index=True)\n",
    "\n",
    "    return _mfcc_df"
   ],
   "metadata": {
    "collapsed": false,
    "pycharm": {
     "name": "#%%\n"
    }
   }
  },
  {
   "cell_type": "code",
   "execution_count": 38,
   "outputs": [
    {
     "name": "stderr",
     "output_type": "stream",
     "text": [
      "Creating MFCC for 2_524.wav: : 690it [02:44,  4.19it/s]  \n"
     ]
    }
   ],
   "source": [
    "dataset_df = pd.read_csv(dataset_csv_path)\n",
    "mfcc_df = create_mfcc_features(dataset_df)"
   ],
   "metadata": {
    "collapsed": false,
    "pycharm": {
     "name": "#%%\n"
    }
   }
  },
  {
   "cell_type": "code",
   "execution_count": 71,
   "outputs": [
    {
     "data": {
      "text/plain": "                                            features sarcasm_state\n0  [-146.32887, 99.83219, -50.631638, 9.274939, -...          True\n1  [-147.90367, 104.595116, -39.535, 4.108271, -2...          True\n2  [-21.120022, 86.11223, -35.381474, 22.640253, ...         False\n3  [-23.78374, 70.78856, -34.25742, 23.38274, -16...         False\n4  [1.6350226, 82.73289, -46.96253, 14.140306, -2...          True",
      "text/html": "<div>\n<style scoped>\n    .dataframe tbody tr th:only-of-type {\n        vertical-align: middle;\n    }\n\n    .dataframe tbody tr th {\n        vertical-align: top;\n    }\n\n    .dataframe thead th {\n        text-align: right;\n    }\n</style>\n<table border=\"1\" class=\"dataframe\">\n  <thead>\n    <tr style=\"text-align: right;\">\n      <th></th>\n      <th>features</th>\n      <th>sarcasm_state</th>\n    </tr>\n  </thead>\n  <tbody>\n    <tr>\n      <th>0</th>\n      <td>[-146.32887, 99.83219, -50.631638, 9.274939, -...</td>\n      <td>True</td>\n    </tr>\n    <tr>\n      <th>1</th>\n      <td>[-147.90367, 104.595116, -39.535, 4.108271, -2...</td>\n      <td>True</td>\n    </tr>\n    <tr>\n      <th>2</th>\n      <td>[-21.120022, 86.11223, -35.381474, 22.640253, ...</td>\n      <td>False</td>\n    </tr>\n    <tr>\n      <th>3</th>\n      <td>[-23.78374, 70.78856, -34.25742, 23.38274, -16...</td>\n      <td>False</td>\n    </tr>\n    <tr>\n      <th>4</th>\n      <td>[1.6350226, 82.73289, -46.96253, 14.140306, -2...</td>\n      <td>True</td>\n    </tr>\n  </tbody>\n</table>\n</div>"
     },
     "execution_count": 71,
     "metadata": {},
     "output_type": "execute_result"
    }
   ],
   "source": [
    "mfcc_df.head()"
   ],
   "metadata": {
    "collapsed": false,
    "pycharm": {
     "name": "#%%\n"
    }
   }
  },
  {
   "cell_type": "code",
   "execution_count": 72,
   "outputs": [],
   "source": [
    "X = np.array(mfcc_df['features'].tolist())\n",
    "y = np.array(mfcc_df['sarcasm_state'].tolist())"
   ],
   "metadata": {
    "collapsed": false,
    "pycharm": {
     "name": "#%%\n"
    }
   }
  },
  {
   "cell_type": "code",
   "execution_count": 73,
   "outputs": [
    {
     "data": {
      "text/plain": "(690, 13)"
     },
     "execution_count": 73,
     "metadata": {},
     "output_type": "execute_result"
    }
   ],
   "source": [
    "X.shape"
   ],
   "metadata": {
    "collapsed": false,
    "pycharm": {
     "name": "#%%\n"
    }
   }
  },
  {
   "cell_type": "code",
   "execution_count": 75,
   "outputs": [],
   "source": [
    "# Label Encoder for getting sarcasm state\n",
    "label_encoder = LabelEncoder()\n",
    "y = to_categorical(label_encoder.fit_transform(y))"
   ],
   "metadata": {
    "collapsed": false,
    "pycharm": {
     "name": "#%%\n"
    }
   }
  },
  {
   "cell_type": "code",
   "execution_count": 76,
   "outputs": [
    {
     "data": {
      "text/plain": "(690, 2)"
     },
     "execution_count": 76,
     "metadata": {},
     "output_type": "execute_result"
    }
   ],
   "source": [
    "y.shape"
   ],
   "metadata": {
    "collapsed": false,
    "pycharm": {
     "name": "#%%\n"
    }
   }
  },
  {
   "cell_type": "code",
   "execution_count": 57,
   "outputs": [],
   "source": [
    "X_train, X_test, y_train, y_test = train_test_split(X,y, test_size=0.2,random_state=0)"
   ],
   "metadata": {
    "collapsed": false,
    "pycharm": {
     "name": "#%%\n"
    }
   }
  },
  {
   "cell_type": "code",
   "execution_count": 60,
   "outputs": [],
   "source": [
    "# Number of Classes\n",
    "label_count = y.shape[1]"
   ],
   "metadata": {
    "collapsed": false,
    "pycharm": {
     "name": "#%%\n"
    }
   }
  },
  {
   "cell_type": "code",
   "execution_count": 61,
   "outputs": [
    {
     "name": "stdout",
     "output_type": "stream",
     "text": [
      "Model: \"sequential\"\n",
      "_________________________________________________________________\n",
      "Layer (type)                 Output Shape              Param #   \n",
      "=================================================================\n",
      "dense (Dense)                (None, 100)               1400      \n",
      "_________________________________________________________________\n",
      "activation (Activation)      (None, 100)               0         \n",
      "_________________________________________________________________\n",
      "dropout (Dropout)            (None, 100)               0         \n",
      "_________________________________________________________________\n",
      "dense_1 (Dense)              (None, 200)               20200     \n",
      "_________________________________________________________________\n",
      "activation_1 (Activation)    (None, 200)               0         \n",
      "_________________________________________________________________\n",
      "dropout_1 (Dropout)          (None, 200)               0         \n",
      "_________________________________________________________________\n",
      "dense_2 (Dense)              (None, 100)               20100     \n",
      "_________________________________________________________________\n",
      "activation_2 (Activation)    (None, 100)               0         \n",
      "_________________________________________________________________\n",
      "dropout_2 (Dropout)          (None, 100)               0         \n",
      "_________________________________________________________________\n",
      "dense_3 (Dense)              (None, 2)                 202       \n",
      "_________________________________________________________________\n",
      "activation_3 (Activation)    (None, 2)                 0         \n",
      "=================================================================\n",
      "Total params: 41,902\n",
      "Trainable params: 41,902\n",
      "Non-trainable params: 0\n",
      "_________________________________________________________________\n"
     ]
    },
    {
     "name": "stderr",
     "output_type": "stream",
     "text": [
      "2022-05-02 02:56:46.760287: I tensorflow/core/platform/cpu_feature_guard.cc:145] This TensorFlow binary is optimized with Intel(R) MKL-DNN to use the following CPU instructions in performance critical operations:  SSE4.1 SSE4.2 AVX AVX2 AVX512F FMA\n",
      "To enable them in non-MKL-DNN operations, rebuild TensorFlow with the appropriate compiler flags.\n",
      "2022-05-02 02:56:46.760689: I tensorflow/core/common_runtime/process_util.cc:115] Creating new thread pool with default inter op setting: 8. Tune using inter_op_parallelism_threads for best performance.\n"
     ]
    }
   ],
   "source": [
    "model = Sequential()\n",
    "model.add(Dense(100, input_shape=(13,)))\n",
    "model.add(Activation('relu'))\n",
    "model.add(Dropout(0.5))\n",
    "\n",
    "model.add(Dense(200))\n",
    "model.add(Activation('relu'))\n",
    "model.add(Dropout(0.5))\n",
    "\n",
    "model.add(Dense(100))\n",
    "model.add(Activation('relu'))\n",
    "model.add(Dropout(0.5))\n",
    "\n",
    "model.add(Dense(label_count))\n",
    "model.add(Activation('softmax'))\n",
    "\n",
    "model.summary()"
   ],
   "metadata": {
    "collapsed": false,
    "pycharm": {
     "name": "#%%\n"
    }
   }
  },
  {
   "cell_type": "code",
   "execution_count": 62,
   "outputs": [],
   "source": [
    "model.compile(loss=\"categorical_crossentropy\", metrics=['accuracy'], optimizer='adam')"
   ],
   "metadata": {
    "collapsed": false,
    "pycharm": {
     "name": "#%%\n"
    }
   }
  },
  {
   "cell_type": "code",
   "execution_count": 87,
   "outputs": [
    {
     "name": "stdout",
     "output_type": "stream",
     "text": [
      "Train on 552 samples\n",
      "Epoch 1/100\n",
      "320/552 [================>.............] - ETA: 0s - loss: 0.5570 - accuracy: 0.6781WARNING:tensorflow:Can save best model only with val_loss available, skipping.\n",
      "552/552 [==============================] - 0s 277us/sample - loss: 0.5776 - accuracy: 0.6721\n",
      "Epoch 2/100\n",
      "320/552 [================>.............] - ETA: 0s - loss: 0.6220 - accuracy: 0.6375WARNING:tensorflow:Can save best model only with val_loss available, skipping.\n",
      "552/552 [==============================] - 0s 190us/sample - loss: 0.5937 - accuracy: 0.6685\n",
      "Epoch 3/100\n",
      "320/552 [================>.............] - ETA: 0s - loss: 0.5995 - accuracy: 0.6438WARNING:tensorflow:Can save best model only with val_loss available, skipping.\n",
      "552/552 [==============================] - 0s 198us/sample - loss: 0.5946 - accuracy: 0.6649\n",
      "Epoch 4/100\n",
      "320/552 [================>.............] - ETA: 0s - loss: 0.5886 - accuracy: 0.6500WARNING:tensorflow:Can save best model only with val_loss available, skipping.\n",
      "552/552 [==============================] - 0s 192us/sample - loss: 0.5812 - accuracy: 0.6721\n",
      "Epoch 5/100\n",
      "320/552 [================>.............] - ETA: 0s - loss: 0.5840 - accuracy: 0.6656WARNING:tensorflow:Can save best model only with val_loss available, skipping.\n",
      "552/552 [==============================] - 0s 185us/sample - loss: 0.5768 - accuracy: 0.6721\n",
      "Epoch 6/100\n",
      "544/552 [============================>.] - ETA: 0s - loss: 0.5700 - accuracy: 0.6673WARNING:tensorflow:Can save best model only with val_loss available, skipping.\n",
      "552/552 [==============================] - 0s 215us/sample - loss: 0.5692 - accuracy: 0.6685\n",
      "Epoch 7/100\n",
      "288/552 [==============>...............] - ETA: 0s - loss: 0.5800 - accuracy: 0.6806WARNING:tensorflow:Can save best model only with val_loss available, skipping.\n",
      "552/552 [==============================] - 0s 198us/sample - loss: 0.5949 - accuracy: 0.6685\n",
      "Epoch 8/100\n",
      "352/552 [==================>...........] - ETA: 0s - loss: 0.5930 - accuracy: 0.6705WARNING:tensorflow:Can save best model only with val_loss available, skipping.\n",
      "552/552 [==============================] - 0s 174us/sample - loss: 0.5951 - accuracy: 0.6721\n",
      "Epoch 9/100\n",
      "352/552 [==================>...........] - ETA: 0s - loss: 0.5973 - accuracy: 0.6705WARNING:tensorflow:Can save best model only with val_loss available, skipping.\n",
      "552/552 [==============================] - 0s 182us/sample - loss: 0.5745 - accuracy: 0.6902\n",
      "Epoch 10/100\n",
      "352/552 [==================>...........] - ETA: 0s - loss: 0.5910 - accuracy: 0.6733WARNING:tensorflow:Can save best model only with val_loss available, skipping.\n",
      "552/552 [==============================] - 0s 180us/sample - loss: 0.5962 - accuracy: 0.6775\n",
      "Epoch 11/100\n",
      "320/552 [================>.............] - ETA: 0s - loss: 0.5965 - accuracy: 0.6656WARNING:tensorflow:Can save best model only with val_loss available, skipping.\n",
      "552/552 [==============================] - 0s 193us/sample - loss: 0.5864 - accuracy: 0.6703\n",
      "Epoch 12/100\n",
      "352/552 [==================>...........] - ETA: 0s - loss: 0.5991 - accuracy: 0.6705WARNING:tensorflow:Can save best model only with val_loss available, skipping.\n",
      "552/552 [==============================] - 0s 177us/sample - loss: 0.5913 - accuracy: 0.6739\n",
      "Epoch 13/100\n",
      "352/552 [==================>...........] - ETA: 0s - loss: 0.5845 - accuracy: 0.6932WARNING:tensorflow:Can save best model only with val_loss available, skipping.\n",
      "552/552 [==============================] - 0s 181us/sample - loss: 0.5919 - accuracy: 0.6793\n",
      "Epoch 14/100\n",
      "320/552 [================>.............] - ETA: 0s - loss: 0.5999 - accuracy: 0.6500WARNING:tensorflow:Can save best model only with val_loss available, skipping.\n",
      "552/552 [==============================] - 0s 191us/sample - loss: 0.5976 - accuracy: 0.6576\n",
      "Epoch 15/100\n",
      "352/552 [==================>...........] - ETA: 0s - loss: 0.6159 - accuracy: 0.6506WARNING:tensorflow:Can save best model only with val_loss available, skipping.\n",
      "552/552 [==============================] - 0s 180us/sample - loss: 0.5999 - accuracy: 0.6504\n",
      "Epoch 16/100\n",
      "352/552 [==================>...........] - ETA: 0s - loss: 0.6096 - accuracy: 0.6790WARNING:tensorflow:Can save best model only with val_loss available, skipping.\n",
      "552/552 [==============================] - 0s 175us/sample - loss: 0.5970 - accuracy: 0.6793\n",
      "Epoch 17/100\n",
      "352/552 [==================>...........] - ETA: 0s - loss: 0.6169 - accuracy: 0.6705WARNING:tensorflow:Can save best model only with val_loss available, skipping.\n",
      "552/552 [==============================] - 0s 176us/sample - loss: 0.6006 - accuracy: 0.6884\n",
      "Epoch 18/100\n",
      "352/552 [==================>...........] - ETA: 0s - loss: 0.6162 - accuracy: 0.6534WARNING:tensorflow:Can save best model only with val_loss available, skipping.\n",
      "552/552 [==============================] - 0s 175us/sample - loss: 0.5998 - accuracy: 0.6667\n",
      "Epoch 19/100\n",
      "352/552 [==================>...........] - ETA: 0s - loss: 0.5685 - accuracy: 0.6960WARNING:tensorflow:Can save best model only with val_loss available, skipping.\n",
      "552/552 [==============================] - 0s 176us/sample - loss: 0.5943 - accuracy: 0.6866\n",
      "Epoch 20/100\n",
      "320/552 [================>.............] - ETA: 0s - loss: 0.6089 - accuracy: 0.6469WARNING:tensorflow:Can save best model only with val_loss available, skipping.\n",
      "552/552 [==============================] - 0s 185us/sample - loss: 0.5967 - accuracy: 0.6757\n",
      "Epoch 21/100\n",
      "352/552 [==================>...........] - ETA: 0s - loss: 0.5832 - accuracy: 0.6847WARNING:tensorflow:Can save best model only with val_loss available, skipping.\n",
      "552/552 [==============================] - 0s 179us/sample - loss: 0.5929 - accuracy: 0.6739\n",
      "Epoch 22/100\n",
      "352/552 [==================>...........] - ETA: 0s - loss: 0.5709 - accuracy: 0.6847WARNING:tensorflow:Can save best model only with val_loss available, skipping.\n",
      "552/552 [==============================] - 0s 176us/sample - loss: 0.5746 - accuracy: 0.6757\n",
      "Epoch 23/100\n",
      "352/552 [==================>...........] - ETA: 0s - loss: 0.5902 - accuracy: 0.6591WARNING:tensorflow:Can save best model only with val_loss available, skipping.\n",
      "552/552 [==============================] - 0s 178us/sample - loss: 0.5808 - accuracy: 0.6775\n",
      "Epoch 24/100\n",
      "352/552 [==================>...........] - ETA: 0s - loss: 0.5932 - accuracy: 0.6761WARNING:tensorflow:Can save best model only with val_loss available, skipping.\n",
      "552/552 [==============================] - 0s 177us/sample - loss: 0.5773 - accuracy: 0.6884\n",
      "Epoch 25/100\n",
      "352/552 [==================>...........] - ETA: 0s - loss: 0.5863 - accuracy: 0.6591WARNING:tensorflow:Can save best model only with val_loss available, skipping.\n",
      "552/552 [==============================] - 0s 173us/sample - loss: 0.5831 - accuracy: 0.6667\n",
      "Epoch 26/100\n",
      "352/552 [==================>...........] - ETA: 0s - loss: 0.5748 - accuracy: 0.7131WARNING:tensorflow:Can save best model only with val_loss available, skipping.\n",
      "552/552 [==============================] - 0s 175us/sample - loss: 0.5901 - accuracy: 0.6775\n",
      "Epoch 27/100\n",
      "352/552 [==================>...........] - ETA: 0s - loss: 0.5776 - accuracy: 0.7045WARNING:tensorflow:Can save best model only with val_loss available, skipping.\n",
      "552/552 [==============================] - 0s 176us/sample - loss: 0.5803 - accuracy: 0.6902\n",
      "Epoch 28/100\n",
      "352/552 [==================>...........] - ETA: 0s - loss: 0.5808 - accuracy: 0.6477WARNING:tensorflow:Can save best model only with val_loss available, skipping.\n",
      "552/552 [==============================] - 0s 174us/sample - loss: 0.5853 - accuracy: 0.6594\n",
      "Epoch 29/100\n",
      "352/552 [==================>...........] - ETA: 0s - loss: 0.5740 - accuracy: 0.6903WARNING:tensorflow:Can save best model only with val_loss available, skipping.\n",
      "552/552 [==============================] - 0s 175us/sample - loss: 0.5798 - accuracy: 0.6848\n",
      "Epoch 30/100\n",
      "352/552 [==================>...........] - ETA: 0s - loss: 0.6475 - accuracy: 0.6562WARNING:tensorflow:Can save best model only with val_loss available, skipping.\n",
      "552/552 [==============================] - 0s 175us/sample - loss: 0.6052 - accuracy: 0.6848\n",
      "Epoch 31/100\n",
      "352/552 [==================>...........] - ETA: 0s - loss: 0.5839 - accuracy: 0.6790WARNING:tensorflow:Can save best model only with val_loss available, skipping.\n",
      "552/552 [==============================] - 0s 188us/sample - loss: 0.5957 - accuracy: 0.6721\n",
      "Epoch 32/100\n",
      "352/552 [==================>...........] - ETA: 0s - loss: 0.5741 - accuracy: 0.6790WARNING:tensorflow:Can save best model only with val_loss available, skipping.\n",
      "552/552 [==============================] - 0s 175us/sample - loss: 0.5857 - accuracy: 0.6739\n",
      "Epoch 33/100\n",
      "352/552 [==================>...........] - ETA: 0s - loss: 0.5901 - accuracy: 0.6761WARNING:tensorflow:Can save best model only with val_loss available, skipping.\n",
      "552/552 [==============================] - 0s 177us/sample - loss: 0.5853 - accuracy: 0.6830\n",
      "Epoch 34/100\n",
      "320/552 [================>.............] - ETA: 0s - loss: 0.6074 - accuracy: 0.6469WARNING:tensorflow:Can save best model only with val_loss available, skipping.\n",
      "552/552 [==============================] - 0s 182us/sample - loss: 0.5863 - accuracy: 0.6848\n",
      "Epoch 35/100\n",
      "352/552 [==================>...........] - ETA: 0s - loss: 0.5786 - accuracy: 0.6733WARNING:tensorflow:Can save best model only with val_loss available, skipping.\n",
      "552/552 [==============================] - 0s 178us/sample - loss: 0.5683 - accuracy: 0.6775\n",
      "Epoch 36/100\n",
      "352/552 [==================>...........] - ETA: 0s - loss: 0.5869 - accuracy: 0.6648WARNING:tensorflow:Can save best model only with val_loss available, skipping.\n",
      "552/552 [==============================] - 0s 178us/sample - loss: 0.5740 - accuracy: 0.6703\n",
      "Epoch 37/100\n",
      "352/552 [==================>...........] - ETA: 0s - loss: 0.5763 - accuracy: 0.6875WARNING:tensorflow:Can save best model only with val_loss available, skipping.\n",
      "552/552 [==============================] - 0s 176us/sample - loss: 0.5729 - accuracy: 0.6957\n",
      "Epoch 38/100\n",
      "352/552 [==================>...........] - ETA: 0s - loss: 0.5738 - accuracy: 0.6790WARNING:tensorflow:Can save best model only with val_loss available, skipping.\n",
      "552/552 [==============================] - 0s 176us/sample - loss: 0.5673 - accuracy: 0.6775\n",
      "Epoch 39/100\n",
      "352/552 [==================>...........] - ETA: 0s - loss: 0.5332 - accuracy: 0.7188WARNING:tensorflow:Can save best model only with val_loss available, skipping.\n",
      "552/552 [==============================] - 0s 176us/sample - loss: 0.5714 - accuracy: 0.6848\n",
      "Epoch 40/100\n",
      "352/552 [==================>...........] - ETA: 0s - loss: 0.6011 - accuracy: 0.6619WARNING:tensorflow:Can save best model only with val_loss available, skipping.\n",
      "552/552 [==============================] - 0s 180us/sample - loss: 0.5817 - accuracy: 0.6884\n",
      "Epoch 41/100\n",
      "352/552 [==================>...........] - ETA: 0s - loss: 0.5870 - accuracy: 0.6818WARNING:tensorflow:Can save best model only with val_loss available, skipping.\n",
      "552/552 [==============================] - 0s 180us/sample - loss: 0.5839 - accuracy: 0.6920\n",
      "Epoch 42/100\n",
      "352/552 [==================>...........] - ETA: 0s - loss: 0.5525 - accuracy: 0.7045WARNING:tensorflow:Can save best model only with val_loss available, skipping.\n",
      "552/552 [==============================] - 0s 177us/sample - loss: 0.5855 - accuracy: 0.6812\n",
      "Epoch 43/100\n",
      "352/552 [==================>...........] - ETA: 0s - loss: 0.5952 - accuracy: 0.6648WARNING:tensorflow:Can save best model only with val_loss available, skipping.\n",
      "552/552 [==============================] - 0s 176us/sample - loss: 0.5785 - accuracy: 0.6757\n",
      "Epoch 44/100\n",
      "352/552 [==================>...........] - ETA: 0s - loss: 0.5785 - accuracy: 0.6875WARNING:tensorflow:Can save best model only with val_loss available, skipping.\n",
      "552/552 [==============================] - 0s 175us/sample - loss: 0.5871 - accuracy: 0.6739\n",
      "Epoch 45/100\n",
      "352/552 [==================>...........] - ETA: 0s - loss: 0.5870 - accuracy: 0.6591WARNING:tensorflow:Can save best model only with val_loss available, skipping.\n",
      "552/552 [==============================] - 0s 177us/sample - loss: 0.5663 - accuracy: 0.6812\n",
      "Epoch 46/100\n",
      "352/552 [==================>...........] - ETA: 0s - loss: 0.5643 - accuracy: 0.7017WARNING:tensorflow:Can save best model only with val_loss available, skipping.\n",
      "552/552 [==============================] - 0s 176us/sample - loss: 0.5661 - accuracy: 0.6830\n",
      "Epoch 47/100\n",
      "352/552 [==================>...........] - ETA: 0s - loss: 0.5658 - accuracy: 0.7131WARNING:tensorflow:Can save best model only with val_loss available, skipping.\n",
      "552/552 [==============================] - 0s 176us/sample - loss: 0.5759 - accuracy: 0.6920\n",
      "Epoch 48/100\n",
      "352/552 [==================>...........] - ETA: 0s - loss: 0.5609 - accuracy: 0.6875WARNING:tensorflow:Can save best model only with val_loss available, skipping.\n",
      "552/552 [==============================] - 0s 176us/sample - loss: 0.5739 - accuracy: 0.6739\n",
      "Epoch 49/100\n",
      "352/552 [==================>...........] - ETA: 0s - loss: 0.5967 - accuracy: 0.6790WARNING:tensorflow:Can save best model only with val_loss available, skipping.\n",
      "552/552 [==============================] - 0s 175us/sample - loss: 0.5852 - accuracy: 0.6884\n",
      "Epoch 50/100\n",
      "352/552 [==================>...........] - ETA: 0s - loss: 0.5640 - accuracy: 0.6989WARNING:tensorflow:Can save best model only with val_loss available, skipping.\n",
      "552/552 [==============================] - 0s 178us/sample - loss: 0.5599 - accuracy: 0.6938\n",
      "Epoch 51/100\n",
      "352/552 [==================>...........] - ETA: 0s - loss: 0.6070 - accuracy: 0.6960WARNING:tensorflow:Can save best model only with val_loss available, skipping.\n",
      "552/552 [==============================] - 0s 175us/sample - loss: 0.6060 - accuracy: 0.6993\n",
      "Epoch 52/100\n",
      "352/552 [==================>...........] - ETA: 0s - loss: 0.5740 - accuracy: 0.7045WARNING:tensorflow:Can save best model only with val_loss available, skipping.\n",
      "552/552 [==============================] - 0s 177us/sample - loss: 0.5690 - accuracy: 0.6975\n",
      "Epoch 53/100\n",
      "352/552 [==================>...........] - ETA: 0s - loss: 0.5789 - accuracy: 0.6818WARNING:tensorflow:Can save best model only with val_loss available, skipping.\n",
      "552/552 [==============================] - 0s 178us/sample - loss: 0.5808 - accuracy: 0.6739\n",
      "Epoch 54/100\n",
      "352/552 [==================>...........] - ETA: 0s - loss: 0.5682 - accuracy: 0.6875WARNING:tensorflow:Can save best model only with val_loss available, skipping.\n",
      "552/552 [==============================] - 0s 176us/sample - loss: 0.5833 - accuracy: 0.6884\n",
      "Epoch 55/100\n",
      "352/552 [==================>...........] - ETA: 0s - loss: 0.5495 - accuracy: 0.7102WARNING:tensorflow:Can save best model only with val_loss available, skipping.\n",
      "552/552 [==============================] - 0s 179us/sample - loss: 0.5580 - accuracy: 0.7065\n",
      "Epoch 56/100\n",
      "352/552 [==================>...........] - ETA: 0s - loss: 0.5698 - accuracy: 0.6847WARNING:tensorflow:Can save best model only with val_loss available, skipping.\n",
      "552/552 [==============================] - 0s 177us/sample - loss: 0.5773 - accuracy: 0.6902\n",
      "Epoch 57/100\n",
      "352/552 [==================>...........] - ETA: 0s - loss: 0.5528 - accuracy: 0.7301WARNING:tensorflow:Can save best model only with val_loss available, skipping.\n",
      "552/552 [==============================] - 0s 179us/sample - loss: 0.5716 - accuracy: 0.6975\n",
      "Epoch 58/100\n",
      "352/552 [==================>...........] - ETA: 0s - loss: 0.5515 - accuracy: 0.7045WARNING:tensorflow:Can save best model only with val_loss available, skipping.\n",
      "552/552 [==============================] - 0s 186us/sample - loss: 0.5686 - accuracy: 0.6757\n",
      "Epoch 59/100\n",
      "320/552 [================>.............] - ETA: 0s - loss: 0.5792 - accuracy: 0.6625WARNING:tensorflow:Can save best model only with val_loss available, skipping.\n",
      "552/552 [==============================] - 0s 190us/sample - loss: 0.5657 - accuracy: 0.6685\n",
      "Epoch 60/100\n",
      "320/552 [================>.............] - ETA: 0s - loss: 0.5784 - accuracy: 0.6938WARNING:tensorflow:Can save best model only with val_loss available, skipping.\n",
      "552/552 [==============================] - 0s 191us/sample - loss: 0.5661 - accuracy: 0.6830\n",
      "Epoch 61/100\n",
      "320/552 [================>.............] - ETA: 0s - loss: 0.5836 - accuracy: 0.6844WARNING:tensorflow:Can save best model only with val_loss available, skipping.\n",
      "552/552 [==============================] - 0s 187us/sample - loss: 0.5957 - accuracy: 0.6866\n",
      "Epoch 62/100\n",
      "320/552 [================>.............] - ETA: 0s - loss: 0.5969 - accuracy: 0.6656WARNING:tensorflow:Can save best model only with val_loss available, skipping.\n",
      "552/552 [==============================] - 0s 189us/sample - loss: 0.5956 - accuracy: 0.6757\n",
      "Epoch 63/100\n",
      "352/552 [==================>...........] - ETA: 0s - loss: 0.5647 - accuracy: 0.7188WARNING:tensorflow:Can save best model only with val_loss available, skipping.\n",
      "552/552 [==============================] - 0s 182us/sample - loss: 0.5815 - accuracy: 0.6902\n",
      "Epoch 64/100\n",
      "320/552 [================>.............] - ETA: 0s - loss: 0.5379 - accuracy: 0.6719WARNING:tensorflow:Can save best model only with val_loss available, skipping.\n",
      "552/552 [==============================] - 0s 185us/sample - loss: 0.5605 - accuracy: 0.6757\n",
      "Epoch 65/100\n",
      "320/552 [================>.............] - ETA: 0s - loss: 0.5638 - accuracy: 0.7031WARNING:tensorflow:Can save best model only with val_loss available, skipping.\n",
      "552/552 [==============================] - 0s 183us/sample - loss: 0.5795 - accuracy: 0.6866\n",
      "Epoch 66/100\n",
      "320/552 [================>.............] - ETA: 0s - loss: 0.5728 - accuracy: 0.7188WARNING:tensorflow:Can save best model only with val_loss available, skipping.\n",
      "552/552 [==============================] - 0s 189us/sample - loss: 0.5606 - accuracy: 0.7174\n",
      "Epoch 67/100\n",
      "320/552 [================>.............] - ETA: 0s - loss: 0.6004 - accuracy: 0.7000WARNING:tensorflow:Can save best model only with val_loss available, skipping.\n",
      "552/552 [==============================] - 0s 187us/sample - loss: 0.5688 - accuracy: 0.7174\n",
      "Epoch 68/100\n",
      "352/552 [==================>...........] - ETA: 0s - loss: 0.5516 - accuracy: 0.6790WARNING:tensorflow:Can save best model only with val_loss available, skipping.\n",
      "552/552 [==============================] - 0s 184us/sample - loss: 0.5483 - accuracy: 0.7029\n",
      "Epoch 69/100\n",
      "352/552 [==================>...........] - ETA: 0s - loss: 0.5663 - accuracy: 0.7074WARNING:tensorflow:Can save best model only with val_loss available, skipping.\n",
      "552/552 [==============================] - 0s 185us/sample - loss: 0.5789 - accuracy: 0.6975\n",
      "Epoch 70/100\n",
      "320/552 [================>.............] - ETA: 0s - loss: 0.5574 - accuracy: 0.6750WARNING:tensorflow:Can save best model only with val_loss available, skipping.\n",
      "552/552 [==============================] - 0s 187us/sample - loss: 0.5634 - accuracy: 0.6848\n",
      "Epoch 71/100\n",
      "352/552 [==================>...........] - ETA: 0s - loss: 0.5380 - accuracy: 0.7131WARNING:tensorflow:Can save best model only with val_loss available, skipping.\n",
      "552/552 [==============================] - 0s 194us/sample - loss: 0.5493 - accuracy: 0.6957\n",
      "Epoch 72/100\n",
      "320/552 [================>.............] - ETA: 0s - loss: 0.5410 - accuracy: 0.6938WARNING:tensorflow:Can save best model only with val_loss available, skipping.\n",
      "552/552 [==============================] - 0s 191us/sample - loss: 0.5442 - accuracy: 0.7011\n",
      "Epoch 73/100\n",
      "320/552 [================>.............] - ETA: 0s - loss: 0.5484 - accuracy: 0.6906WARNING:tensorflow:Can save best model only with val_loss available, skipping.\n",
      "552/552 [==============================] - 0s 193us/sample - loss: 0.5759 - accuracy: 0.6830\n",
      "Epoch 74/100\n",
      "320/552 [================>.............] - ETA: 0s - loss: 0.5320 - accuracy: 0.7250WARNING:tensorflow:Can save best model only with val_loss available, skipping.\n",
      "552/552 [==============================] - 0s 194us/sample - loss: 0.5631 - accuracy: 0.7029\n",
      "Epoch 75/100\n",
      "320/552 [================>.............] - ETA: 0s - loss: 0.5725 - accuracy: 0.6906WARNING:tensorflow:Can save best model only with val_loss available, skipping.\n",
      "552/552 [==============================] - 0s 191us/sample - loss: 0.5687 - accuracy: 0.6975\n",
      "Epoch 76/100\n",
      "320/552 [================>.............] - ETA: 0s - loss: 0.5694 - accuracy: 0.6875WARNING:tensorflow:Can save best model only with val_loss available, skipping.\n",
      "552/552 [==============================] - 0s 198us/sample - loss: 0.5518 - accuracy: 0.7120\n",
      "Epoch 77/100\n",
      "320/552 [================>.............] - ETA: 0s - loss: 0.5498 - accuracy: 0.7031WARNING:tensorflow:Can save best model only with val_loss available, skipping.\n",
      "552/552 [==============================] - 0s 196us/sample - loss: 0.5650 - accuracy: 0.7065\n",
      "Epoch 78/100\n",
      "320/552 [================>.............] - ETA: 0s - loss: 0.5649 - accuracy: 0.6875WARNING:tensorflow:Can save best model only with val_loss available, skipping.\n",
      "552/552 [==============================] - 0s 187us/sample - loss: 0.5447 - accuracy: 0.7029\n",
      "Epoch 79/100\n",
      "320/552 [================>.............] - ETA: 0s - loss: 0.5770 - accuracy: 0.7031WARNING:tensorflow:Can save best model only with val_loss available, skipping.\n",
      "552/552 [==============================] - 0s 191us/sample - loss: 0.5648 - accuracy: 0.7083\n",
      "Epoch 80/100\n",
      "320/552 [================>.............] - ETA: 0s - loss: 0.5590 - accuracy: 0.7000WARNING:tensorflow:Can save best model only with val_loss available, skipping.\n",
      "552/552 [==============================] - 0s 193us/sample - loss: 0.5448 - accuracy: 0.7174\n",
      "Epoch 81/100\n",
      "320/552 [================>.............] - ETA: 0s - loss: 0.5444 - accuracy: 0.7344WARNING:tensorflow:Can save best model only with val_loss available, skipping.\n",
      "552/552 [==============================] - 0s 186us/sample - loss: 0.5708 - accuracy: 0.7047\n",
      "Epoch 82/100\n",
      "320/552 [================>.............] - ETA: 0s - loss: 0.5688 - accuracy: 0.7188WARNING:tensorflow:Can save best model only with val_loss available, skipping.\n",
      "552/552 [==============================] - 0s 189us/sample - loss: 0.5607 - accuracy: 0.7120\n",
      "Epoch 83/100\n",
      "320/552 [================>.............] - ETA: 0s - loss: 0.5505 - accuracy: 0.7031WARNING:tensorflow:Can save best model only with val_loss available, skipping.\n",
      "552/552 [==============================] - 0s 191us/sample - loss: 0.5432 - accuracy: 0.7246\n",
      "Epoch 84/100\n",
      "320/552 [================>.............] - ETA: 0s - loss: 0.5505 - accuracy: 0.7375WARNING:tensorflow:Can save best model only with val_loss available, skipping.\n",
      "552/552 [==============================] - 0s 188us/sample - loss: 0.5722 - accuracy: 0.7264\n",
      "Epoch 85/100\n",
      "320/552 [================>.............] - ETA: 0s - loss: 0.6086 - accuracy: 0.6656WARNING:tensorflow:Can save best model only with val_loss available, skipping.\n",
      "552/552 [==============================] - 0s 191us/sample - loss: 0.5754 - accuracy: 0.6757\n",
      "Epoch 86/100\n",
      "320/552 [================>.............] - ETA: 0s - loss: 0.5653 - accuracy: 0.6906WARNING:tensorflow:Can save best model only with val_loss available, skipping.\n",
      "552/552 [==============================] - 0s 188us/sample - loss: 0.5524 - accuracy: 0.7083\n",
      "Epoch 87/100\n",
      "320/552 [================>.............] - ETA: 0s - loss: 0.5750 - accuracy: 0.6938WARNING:tensorflow:Can save best model only with val_loss available, skipping.\n",
      "552/552 [==============================] - 0s 187us/sample - loss: 0.5595 - accuracy: 0.6975\n",
      "Epoch 88/100\n",
      "320/552 [================>.............] - ETA: 0s - loss: 0.5576 - accuracy: 0.7094WARNING:tensorflow:Can save best model only with val_loss available, skipping.\n",
      "552/552 [==============================] - 0s 192us/sample - loss: 0.5685 - accuracy: 0.7011\n",
      "Epoch 89/100\n",
      "480/552 [=========================>....] - ETA: 0s - loss: 0.5695 - accuracy: 0.6646WARNING:tensorflow:Can save best model only with val_loss available, skipping.\n",
      "552/552 [==============================] - 0s 231us/sample - loss: 0.5645 - accuracy: 0.6703\n",
      "Epoch 90/100\n",
      "288/552 [==============>...............] - ETA: 0s - loss: 0.5413 - accuracy: 0.6979WARNING:tensorflow:Can save best model only with val_loss available, skipping.\n",
      "552/552 [==============================] - 0s 214us/sample - loss: 0.5631 - accuracy: 0.6830\n",
      "Epoch 91/100\n",
      "544/552 [============================>.] - ETA: 0s - loss: 0.5509 - accuracy: 0.7188WARNING:tensorflow:Can save best model only with val_loss available, skipping.\n",
      "552/552 [==============================] - 0s 218us/sample - loss: 0.5533 - accuracy: 0.7174\n",
      "Epoch 92/100\n",
      "512/552 [==========================>...] - ETA: 0s - loss: 0.5494 - accuracy: 0.7109WARNING:tensorflow:Can save best model only with val_loss available, skipping.\n",
      "552/552 [==============================] - 0s 273us/sample - loss: 0.5557 - accuracy: 0.7120\n",
      "Epoch 93/100\n",
      "544/552 [============================>.] - ETA: 0s - loss: 0.5403 - accuracy: 0.7096WARNING:tensorflow:Can save best model only with val_loss available, skipping.\n",
      "552/552 [==============================] - 0s 214us/sample - loss: 0.5390 - accuracy: 0.7083\n",
      "Epoch 94/100\n",
      "544/552 [============================>.] - ETA: 0s - loss: 0.5540 - accuracy: 0.6949WARNING:tensorflow:Can save best model only with val_loss available, skipping.\n",
      "552/552 [==============================] - 0s 219us/sample - loss: 0.5524 - accuracy: 0.6975\n",
      "Epoch 95/100\n",
      "288/552 [==============>...............] - ETA: 0s - loss: 0.5205 - accuracy: 0.7118WARNING:tensorflow:Can save best model only with val_loss available, skipping.\n",
      "552/552 [==============================] - 0s 210us/sample - loss: 0.5496 - accuracy: 0.6812\n",
      "Epoch 96/100\n",
      "320/552 [================>.............] - ETA: 0s - loss: 0.5669 - accuracy: 0.6844WARNING:tensorflow:Can save best model only with val_loss available, skipping.\n",
      "552/552 [==============================] - 0s 196us/sample - loss: 0.5637 - accuracy: 0.7029\n",
      "Epoch 97/100\n",
      "288/552 [==============>...............] - ETA: 0s - loss: 0.5755 - accuracy: 0.6771WARNING:tensorflow:Can save best model only with val_loss available, skipping.\n",
      "552/552 [==============================] - 0s 202us/sample - loss: 0.5764 - accuracy: 0.6920\n",
      "Epoch 98/100\n",
      "320/552 [================>.............] - ETA: 0s - loss: 0.5448 - accuracy: 0.7344WARNING:tensorflow:Can save best model only with val_loss available, skipping.\n",
      "552/552 [==============================] - 0s 193us/sample - loss: 0.5425 - accuracy: 0.7156\n",
      "Epoch 99/100\n",
      "320/552 [================>.............] - ETA: 0s - loss: 0.5467 - accuracy: 0.6875WARNING:tensorflow:Can save best model only with val_loss available, skipping.\n",
      "552/552 [==============================] - 0s 198us/sample - loss: 0.5470 - accuracy: 0.7029\n",
      "Epoch 100/100\n",
      "320/552 [================>.............] - ETA: 0s - loss: 0.5217 - accuracy: 0.7125WARNING:tensorflow:Can save best model only with val_loss available, skipping.\n",
      "552/552 [==============================] - 0s 193us/sample - loss: 0.5494 - accuracy: 0.7029\n"
     ]
    },
    {
     "data": {
      "text/plain": "<tensorflow.python.keras.callbacks.History at 0x7fecc4664850>"
     },
     "execution_count": 87,
     "metadata": {},
     "output_type": "execute_result"
    }
   ],
   "source": [
    "num_epochs = 100\n",
    "num_batch_size = 32\n",
    "\n",
    "checkpointer = ModelCheckpoint(filepath=\"../models/audio_model.h5\", verbose=True, save_best_only=True)\n",
    "\n",
    "model.fit(X_train, y_train, batch_size=num_batch_size, epochs=num_epochs, callbacks=[checkpointer])"
   ],
   "metadata": {
    "collapsed": false,
    "pycharm": {
     "name": "#%%\n"
    }
   }
  },
  {
   "cell_type": "markdown",
   "source": [
    "## Testing Model"
   ],
   "metadata": {
    "collapsed": false,
    "pycharm": {
     "name": "#%% md\n"
    }
   }
  },
  {
   "cell_type": "code",
   "execution_count": 85,
   "outputs": [],
   "source": [
    "test_file_path = \"../mmsd_raw_data/converted_utterances/2_626.wav\"\n",
    "audio, sample_rate = librosa.load(test_file_path)\n",
    "mfcc_features = librosa.feature.mfcc(y=audio, sr=sample_rate, n_mfcc=13)\n",
    "mfcc_scaled_features = np.mean(mfcc_features.T, axis=0)\n",
    "\n",
    "mfcc_scaled_features = mfcc_scaled_features.reshape(1, -1)"
   ],
   "metadata": {
    "collapsed": false,
    "pycharm": {
     "name": "#%%\n"
    }
   }
  },
  {
   "cell_type": "code",
   "execution_count": 90,
   "outputs": [
    {
     "name": "stdout",
     "output_type": "stream",
     "text": [
      "Sarcastic: False\n"
     ]
    }
   ],
   "source": [
    "predicted_label = model.predict_classes(mfcc_scaled_features)\n",
    "predicted_class = label_encoder.inverse_transform(predicted_label)\n",
    "print(f\"Sarcastic: {predicted_class[0]}\")"
   ],
   "metadata": {
    "collapsed": false,
    "pycharm": {
     "name": "#%%\n"
    }
   }
  }
 ],
 "metadata": {
  "kernelspec": {
   "display_name": "Python 3",
   "language": "python",
   "name": "python3"
  },
  "language_info": {
   "codemirror_mode": {
    "name": "ipython",
    "version": 2
   },
   "file_extension": ".py",
   "mimetype": "text/x-python",
   "name": "python",
   "nbconvert_exporter": "python",
   "pygments_lexer": "ipython2",
   "version": "2.7.6"
  }
 },
 "nbformat": 4,
 "nbformat_minor": 0
}