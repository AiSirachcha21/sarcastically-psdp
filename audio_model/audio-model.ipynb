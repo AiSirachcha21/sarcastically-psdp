{
 "cells": [
  {
   "cell_type": "markdown",
   "metadata": {
    "collapsed": true,
    "pycharm": {
     "name": "#%% md\n"
    }
   },
   "source": [
    "# Audio Model"
   ]
  },
  {
   "cell_type": "code",
   "execution_count": 89,
   "outputs": [],
   "source": [
    "import librosa\n",
    "import numpy as np\n",
    "import pandas as pd\n",
    "from tqdm import tqdm\n",
    "\n",
    "from sklearn.model_selection import train_test_split\n",
    "from tensorflow.keras.models import Sequential\n",
    "from tensorflow.keras.layers import Dense, Dropout, Activation, Flatten\n",
    "from tensorflow.keras.callbacks import ModelCheckpoint\n",
    "from tensorflow.keras.utils import to_categorical\n",
    "from sklearn.preprocessing import LabelEncoder\n",
    "from tensorflow.keras import backend as K"
   ],
   "metadata": {
    "collapsed": false,
    "pycharm": {
     "name": "#%%\n"
    }
   }
  },
  {
   "cell_type": "code",
   "execution_count": 50,
   "outputs": [],
   "source": [
    "audio_data_fp = \"../mmsd_raw_data/converted_utterances\"\n",
    "dataset_csv_path = \"../normalized_mustard_dataset.csv\""
   ],
   "metadata": {
    "collapsed": false,
    "pycharm": {
     "name": "#%%\n"
    }
   }
  },
  {
   "cell_type": "code",
   "execution_count": 90,
   "outputs": [],
   "source": [
    "\"\"\"\n",
    "From https://datascience.stackexchange.com/questions/45165/how-to-get-accuracy-f1-precision-and-recall-for-a-keras-model\n",
    "\"\"\"\n",
    "def recall_m(y_true, y_pred):\n",
    "    true_positives = K.sum(K.round(K.clip(y_true * y_pred, 0, 1)))\n",
    "    possible_positives = K.sum(K.round(K.clip(y_true, 0, 1)))\n",
    "    recall = true_positives / (possible_positives + K.epsilon())\n",
    "    return recall\n",
    "\n",
    "def precision_m(y_true, y_pred):\n",
    "    true_positives = K.sum(K.round(K.clip(y_true * y_pred, 0, 1)))\n",
    "    predicted_positives = K.sum(K.round(K.clip(y_pred, 0, 1)))\n",
    "    precision = true_positives / (predicted_positives + K.epsilon())\n",
    "    return precision\n",
    "\n",
    "def f1_m(y_true, y_pred):\n",
    "    precision = precision_m(y_true, y_pred)\n",
    "    recall = recall_m(y_true, y_pred)\n",
    "    return 2*((precision*recall)/(precision+recall+K.epsilon()))"
   ],
   "metadata": {
    "collapsed": false,
    "pycharm": {
     "name": "#%%\n"
    }
   }
  },
  {
   "cell_type": "code",
   "execution_count": 77,
   "outputs": [],
   "source": [
    "def create_mfcc(filepath:str, n_fft:int, hop_length: int, n_mfcc:int = 13):\n",
    "    \"\"\"\n",
    "    Creates MFCC for file at filepath\n",
    "\n",
    "    :param filepath: Location of file to be used\n",
    "    :param n_fft: Number of Fast Fourier Transforms\n",
    "    :param hop_length: Number of Hops within samples\n",
    "    :param n_mfcc: Number of MFCC's to be outputted\n",
    "    :return: Array containing mean of all MFCC's\n",
    "    \"\"\"\n",
    "    signal, sample_rate = librosa.load(filepath)\n",
    "    mfccs = librosa.feature.mfcc(y=signal, sr=sample_rate, n_fft=n_fft, hop_length=hop_length, n_mfcc=n_mfcc)\n",
    "    mean_mfccs = np.mean(mfccs.T,axis=0)\n",
    "    return mean_mfccs"
   ],
   "metadata": {
    "collapsed": false,
    "pycharm": {
     "name": "#%%\n"
    }
   }
  },
  {
   "cell_type": "code",
   "execution_count": 51,
   "outputs": [],
   "source": [
    "def create_mfcc_features(data):\n",
    "    \"\"\"\n",
    "    Creates a list of Mel-Frequency Co-Efficients\n",
    "    \"\"\"\n",
    "    hop_length = 512\n",
    "    n_fft = 2048\n",
    "\n",
    "    _mfcc_df = pd.DataFrame(columns=[\"features\", \"sarcasm_state\"])\n",
    "\n",
    "    tqdm_data = tqdm(zip(data[\"file_name\"], data[\"sarcasm\"]))\n",
    "\n",
    "    for file_name,sarcasm_state in tqdm_data:\n",
    "        tqdm_data.set_description(f\"Creating MFCC for {file_name}\")\n",
    "        fp = f\"{audio_data_fp}/{str(file_name)}\"\n",
    "        mean_mfccs = create_mfcc(fp, n_fft, hop_length)\n",
    "        _mfcc_df = _mfcc_df.append({\n",
    "            \"features\": mean_mfccs,\n",
    "            \"sarcasm_state\": sarcasm_state\n",
    "        }, ignore_index=True)\n",
    "\n",
    "    return _mfcc_df"
   ],
   "metadata": {
    "collapsed": false,
    "pycharm": {
     "name": "#%%\n"
    }
   }
  },
  {
   "cell_type": "code",
   "execution_count": 38,
   "outputs": [
    {
     "name": "stderr",
     "output_type": "stream",
     "text": [
      "Creating MFCC for 2_524.wav: : 690it [02:44,  4.19it/s]  \n"
     ]
    }
   ],
   "source": [
    "dataset_df = pd.read_csv(dataset_csv_path)\n",
    "mfcc_df = create_mfcc_features(dataset_df)"
   ],
   "metadata": {
    "collapsed": false,
    "pycharm": {
     "name": "#%%\n"
    }
   }
  },
  {
   "cell_type": "code",
   "execution_count": 71,
   "outputs": [
    {
     "data": {
      "text/plain": "                                            features sarcasm_state\n0  [-146.32887, 99.83219, -50.631638, 9.274939, -...          True\n1  [-147.90367, 104.595116, -39.535, 4.108271, -2...          True\n2  [-21.120022, 86.11223, -35.381474, 22.640253, ...         False\n3  [-23.78374, 70.78856, -34.25742, 23.38274, -16...         False\n4  [1.6350226, 82.73289, -46.96253, 14.140306, -2...          True",
      "text/html": "<div>\n<style scoped>\n    .dataframe tbody tr th:only-of-type {\n        vertical-align: middle;\n    }\n\n    .dataframe tbody tr th {\n        vertical-align: top;\n    }\n\n    .dataframe thead th {\n        text-align: right;\n    }\n</style>\n<table border=\"1\" class=\"dataframe\">\n  <thead>\n    <tr style=\"text-align: right;\">\n      <th></th>\n      <th>features</th>\n      <th>sarcasm_state</th>\n    </tr>\n  </thead>\n  <tbody>\n    <tr>\n      <th>0</th>\n      <td>[-146.32887, 99.83219, -50.631638, 9.274939, -...</td>\n      <td>True</td>\n    </tr>\n    <tr>\n      <th>1</th>\n      <td>[-147.90367, 104.595116, -39.535, 4.108271, -2...</td>\n      <td>True</td>\n    </tr>\n    <tr>\n      <th>2</th>\n      <td>[-21.120022, 86.11223, -35.381474, 22.640253, ...</td>\n      <td>False</td>\n    </tr>\n    <tr>\n      <th>3</th>\n      <td>[-23.78374, 70.78856, -34.25742, 23.38274, -16...</td>\n      <td>False</td>\n    </tr>\n    <tr>\n      <th>4</th>\n      <td>[1.6350226, 82.73289, -46.96253, 14.140306, -2...</td>\n      <td>True</td>\n    </tr>\n  </tbody>\n</table>\n</div>"
     },
     "execution_count": 71,
     "metadata": {},
     "output_type": "execute_result"
    }
   ],
   "source": [
    "mfcc_df.head()"
   ],
   "metadata": {
    "collapsed": false,
    "pycharm": {
     "name": "#%%\n"
    }
   }
  },
  {
   "cell_type": "code",
   "execution_count": 72,
   "outputs": [],
   "source": [
    "X = np.array(mfcc_df['features'].tolist())\n",
    "y = np.array(mfcc_df['sarcasm_state'].tolist())"
   ],
   "metadata": {
    "collapsed": false,
    "pycharm": {
     "name": "#%%\n"
    }
   }
  },
  {
   "cell_type": "code",
   "execution_count": 73,
   "outputs": [
    {
     "data": {
      "text/plain": "(690, 13)"
     },
     "execution_count": 73,
     "metadata": {},
     "output_type": "execute_result"
    }
   ],
   "source": [
    "X.shape"
   ],
   "metadata": {
    "collapsed": false,
    "pycharm": {
     "name": "#%%\n"
    }
   }
  },
  {
   "cell_type": "code",
   "execution_count": 75,
   "outputs": [],
   "source": [
    "# Label Encoder for getting sarcasm state\n",
    "label_encoder = LabelEncoder()\n",
    "y = to_categorical(label_encoder.fit_transform(y))"
   ],
   "metadata": {
    "collapsed": false,
    "pycharm": {
     "name": "#%%\n"
    }
   }
  },
  {
   "cell_type": "code",
   "execution_count": 76,
   "outputs": [
    {
     "data": {
      "text/plain": "(690, 2)"
     },
     "execution_count": 76,
     "metadata": {},
     "output_type": "execute_result"
    }
   ],
   "source": [
    "y.shape"
   ],
   "metadata": {
    "collapsed": false,
    "pycharm": {
     "name": "#%%\n"
    }
   }
  },
  {
   "cell_type": "code",
   "execution_count": 84,
   "outputs": [],
   "source": [
    "X_train, X_test, y_train, y_test = train_test_split(X,y, test_size=0.2,random_state=0)"
   ],
   "metadata": {
    "collapsed": false,
    "pycharm": {
     "name": "#%%\n"
    }
   }
  },
  {
   "cell_type": "code",
   "execution_count": 85,
   "outputs": [],
   "source": [
    "# Number of Classes\n",
    "label_count = y.shape[1]"
   ],
   "metadata": {
    "collapsed": false,
    "pycharm": {
     "name": "#%%\n"
    }
   }
  },
  {
   "cell_type": "code",
   "execution_count": 86,
   "outputs": [
    {
     "name": "stdout",
     "output_type": "stream",
     "text": [
      "Model: \"sequential_21\"\n",
      "_________________________________________________________________\n",
      "Layer (type)                 Output Shape              Param #   \n",
      "=================================================================\n",
      "dense_47 (Dense)             (None, 100)               1400      \n",
      "_________________________________________________________________\n",
      "activation_35 (Activation)   (None, 100)               0         \n",
      "_________________________________________________________________\n",
      "dropout_35 (Dropout)         (None, 100)               0         \n",
      "_________________________________________________________________\n",
      "dense_48 (Dense)             (None, 200)               20200     \n",
      "_________________________________________________________________\n",
      "activation_36 (Activation)   (None, 200)               0         \n",
      "_________________________________________________________________\n",
      "dropout_36 (Dropout)         (None, 200)               0         \n",
      "_________________________________________________________________\n",
      "dense_49 (Dense)             (None, 100)               20100     \n",
      "_________________________________________________________________\n",
      "activation_37 (Activation)   (None, 100)               0         \n",
      "_________________________________________________________________\n",
      "dropout_37 (Dropout)         (None, 100)               0         \n",
      "_________________________________________________________________\n",
      "dense_50 (Dense)             (None, 2)                 202       \n",
      "_________________________________________________________________\n",
      "activation_38 (Activation)   (None, 2)                 0         \n",
      "=================================================================\n",
      "Total params: 41,902\n",
      "Trainable params: 41,902\n",
      "Non-trainable params: 0\n",
      "_________________________________________________________________\n"
     ]
    }
   ],
   "source": [
    "model = Sequential()\n",
    "model.add(Dense(100, input_shape=(13,)))\n",
    "model.add(Activation('relu'))\n",
    "model.add(Dropout(0.5))\n",
    "\n",
    "model.add(Dense(200))\n",
    "model.add(Activation('relu'))\n",
    "model.add(Dropout(0.5))\n",
    "\n",
    "model.add(Dense(100))\n",
    "model.add(Activation('relu'))\n",
    "model.add(Dropout(0.5))\n",
    "\n",
    "model.add(Dense(label_count))\n",
    "model.add(Activation('softmax'))\n",
    "\n",
    "model.summary()"
   ],
   "metadata": {
    "collapsed": false,
    "pycharm": {
     "name": "#%%\n"
    }
   }
  },
  {
   "cell_type": "code",
   "execution_count": 96,
   "outputs": [],
   "source": [
    "model.compile(loss=\"categorical_crossentropy\", metrics=['accuracy',f1_m,precision_m,recall_m], optimizer='adam')"
   ],
   "metadata": {
    "collapsed": false,
    "pycharm": {
     "name": "#%%\n"
    }
   }
  },
  {
   "cell_type": "code",
   "execution_count": 97,
   "outputs": [
    {
     "name": "stdout",
     "output_type": "stream",
     "text": [
      "Train on 552 samples\n",
      "Epoch 1/100\n",
      "320/552 [================>.............] - ETA: 0s - loss: 0.5507 - accuracy: 0.7469 - f1_m: 0.7469 - precision_m: 0.7469 - recall_m: 0.7469 WARNING:tensorflow:Can save best model only with val_loss available, skipping.\n",
      "552/552 [==============================] - 1s 2ms/sample - loss: 0.5340 - accuracy: 0.7373 - f1_m: 0.7431 - precision_m: 0.7431 - recall_m: 0.7431\n",
      "Epoch 2/100\n",
      "320/552 [================>.............] - ETA: 0s - loss: 0.5563 - accuracy: 0.7500 - f1_m: 0.7500 - precision_m: 0.7500 - recall_m: 0.7500WARNING:tensorflow:Can save best model only with val_loss available, skipping.\n",
      "552/552 [==============================] - 0s 192us/sample - loss: 0.5366 - accuracy: 0.7301 - f1_m: 0.7361 - precision_m: 0.7361 - recall_m: 0.7361\n",
      "Epoch 3/100\n",
      "320/552 [================>.............] - ETA: 0s - loss: 0.5363 - accuracy: 0.7156 - f1_m: 0.7156 - precision_m: 0.7156 - recall_m: 0.7156WARNING:tensorflow:Can save best model only with val_loss available, skipping.\n",
      "552/552 [==============================] - 0s 198us/sample - loss: 0.5307 - accuracy: 0.7301 - f1_m: 0.7257 - precision_m: 0.7257 - recall_m: 0.7257\n",
      "Epoch 4/100\n",
      "320/552 [================>.............] - ETA: 0s - loss: 0.5300 - accuracy: 0.7469 - f1_m: 0.7469 - precision_m: 0.7469 - recall_m: 0.7469WARNING:tensorflow:Can save best model only with val_loss available, skipping.\n",
      "552/552 [==============================] - 0s 193us/sample - loss: 0.5260 - accuracy: 0.7319 - f1_m: 0.7274 - precision_m: 0.7274 - recall_m: 0.7274\n",
      "Epoch 5/100\n",
      "288/552 [==============>...............] - ETA: 0s - loss: 0.5314 - accuracy: 0.7118 - f1_m: 0.7118 - precision_m: 0.7118 - recall_m: 0.7118WARNING:tensorflow:Can save best model only with val_loss available, skipping.\n",
      "552/552 [==============================] - 0s 201us/sample - loss: 0.5173 - accuracy: 0.7373 - f1_m: 0.7483 - precision_m: 0.7483 - recall_m: 0.7483\n",
      "Epoch 6/100\n",
      "352/552 [==================>...........] - ETA: 0s - loss: 0.5374 - accuracy: 0.7330 - f1_m: 0.7330 - precision_m: 0.7330 - recall_m: 0.7330WARNING:tensorflow:Can save best model only with val_loss available, skipping.\n",
      "552/552 [==============================] - 0s 189us/sample - loss: 0.5302 - accuracy: 0.7428 - f1_m: 0.7535 - precision_m: 0.7535 - recall_m: 0.7535\n",
      "Epoch 7/100\n",
      "320/552 [================>.............] - ETA: 0s - loss: 0.5471 - accuracy: 0.7125 - f1_m: 0.7125 - precision_m: 0.7125 - recall_m: 0.7125WARNING:tensorflow:Can save best model only with val_loss available, skipping.\n",
      "552/552 [==============================] - 0s 190us/sample - loss: 0.5181 - accuracy: 0.7373 - f1_m: 0.7326 - precision_m: 0.7326 - recall_m: 0.7326\n",
      "Epoch 8/100\n",
      "352/552 [==================>...........] - ETA: 0s - loss: 0.5073 - accuracy: 0.7415 - f1_m: 0.7415 - precision_m: 0.7415 - recall_m: 0.7415WARNING:tensorflow:Can save best model only with val_loss available, skipping.\n",
      "552/552 [==============================] - 0s 187us/sample - loss: 0.5223 - accuracy: 0.7264 - f1_m: 0.7222 - precision_m: 0.7222 - recall_m: 0.7222\n",
      "Epoch 9/100\n",
      "352/552 [==================>...........] - ETA: 0s - loss: 0.4909 - accuracy: 0.7642 - f1_m: 0.7642 - precision_m: 0.7642 - recall_m: 0.7642WARNING:tensorflow:Can save best model only with val_loss available, skipping.\n",
      "552/552 [==============================] - 0s 184us/sample - loss: 0.5260 - accuracy: 0.7337 - f1_m: 0.7344 - precision_m: 0.7344 - recall_m: 0.7344\n",
      "Epoch 10/100\n",
      "352/552 [==================>...........] - ETA: 0s - loss: 0.5277 - accuracy: 0.7472 - f1_m: 0.7472 - precision_m: 0.7472 - recall_m: 0.7472WARNING:tensorflow:Can save best model only with val_loss available, skipping.\n",
      "552/552 [==============================] - 0s 191us/sample - loss: 0.5168 - accuracy: 0.7536 - f1_m: 0.7535 - precision_m: 0.7535 - recall_m: 0.7535\n",
      "Epoch 11/100\n",
      "320/552 [================>.............] - ETA: 0s - loss: 0.5474 - accuracy: 0.7219 - f1_m: 0.7219 - precision_m: 0.7219 - recall_m: 0.7219WARNING:tensorflow:Can save best model only with val_loss available, skipping.\n",
      "552/552 [==============================] - 0s 197us/sample - loss: 0.5314 - accuracy: 0.7319 - f1_m: 0.7222 - precision_m: 0.7222 - recall_m: 0.7222\n",
      "Epoch 12/100\n",
      "320/552 [================>.............] - ETA: 0s - loss: 0.5055 - accuracy: 0.7406 - f1_m: 0.7406 - precision_m: 0.7406 - recall_m: 0.7406WARNING:tensorflow:Can save best model only with val_loss available, skipping.\n",
      "552/552 [==============================] - 0s 202us/sample - loss: 0.5169 - accuracy: 0.7228 - f1_m: 0.7083 - precision_m: 0.7083 - recall_m: 0.7083\n",
      "Epoch 13/100\n",
      "288/552 [==============>...............] - ETA: 0s - loss: 0.5612 - accuracy: 0.7083 - f1_m: 0.7083 - precision_m: 0.7083 - recall_m: 0.7083WARNING:tensorflow:Can save best model only with val_loss available, skipping.\n",
      "552/552 [==============================] - 0s 201us/sample - loss: 0.5306 - accuracy: 0.7301 - f1_m: 0.7361 - precision_m: 0.7361 - recall_m: 0.7361\n",
      "Epoch 14/100\n",
      "352/552 [==================>...........] - ETA: 0s - loss: 0.5235 - accuracy: 0.7131 - f1_m: 0.7131 - precision_m: 0.7131 - recall_m: 0.7131WARNING:tensorflow:Can save best model only with val_loss available, skipping.\n",
      "552/552 [==============================] - 0s 188us/sample - loss: 0.5212 - accuracy: 0.7228 - f1_m: 0.7240 - precision_m: 0.7240 - recall_m: 0.7240\n",
      "Epoch 15/100\n",
      "320/552 [================>.............] - ETA: 0s - loss: 0.5026 - accuracy: 0.7219 - f1_m: 0.7219 - precision_m: 0.7219 - recall_m: 0.7219WARNING:tensorflow:Can save best model only with val_loss available, skipping.\n",
      "552/552 [==============================] - 0s 198us/sample - loss: 0.4890 - accuracy: 0.7355 - f1_m: 0.7309 - precision_m: 0.7309 - recall_m: 0.7309\n",
      "Epoch 16/100\n",
      "320/552 [================>.............] - ETA: 0s - loss: 0.5168 - accuracy: 0.7656 - f1_m: 0.7656 - precision_m: 0.7656 - recall_m: 0.7656WARNING:tensorflow:Can save best model only with val_loss available, skipping.\n",
      "552/552 [==============================] - 0s 191us/sample - loss: 0.5184 - accuracy: 0.7482 - f1_m: 0.7535 - precision_m: 0.7535 - recall_m: 0.7535\n",
      "Epoch 17/100\n",
      "352/552 [==================>...........] - ETA: 0s - loss: 0.5370 - accuracy: 0.7216 - f1_m: 0.7216 - precision_m: 0.7216 - recall_m: 0.7216WARNING:tensorflow:Can save best model only with val_loss available, skipping.\n",
      "552/552 [==============================] - 0s 186us/sample - loss: 0.5268 - accuracy: 0.7210 - f1_m: 0.7118 - precision_m: 0.7118 - recall_m: 0.7118\n",
      "Epoch 18/100\n",
      "320/552 [================>.............] - ETA: 0s - loss: 0.4475 - accuracy: 0.7969 - f1_m: 0.7969 - precision_m: 0.7969 - recall_m: 0.7969WARNING:tensorflow:Can save best model only with val_loss available, skipping.\n",
      "552/552 [==============================] - 0s 191us/sample - loss: 0.4870 - accuracy: 0.7609 - f1_m: 0.7604 - precision_m: 0.7604 - recall_m: 0.7604\n",
      "Epoch 19/100\n",
      "352/552 [==================>...........] - ETA: 0s - loss: 0.4974 - accuracy: 0.7159 - f1_m: 0.7159 - precision_m: 0.7159 - recall_m: 0.7159WARNING:tensorflow:Can save best model only with val_loss available, skipping.\n",
      "552/552 [==============================] - 0s 191us/sample - loss: 0.5031 - accuracy: 0.7301 - f1_m: 0.7309 - precision_m: 0.7309 - recall_m: 0.7309\n",
      "Epoch 20/100\n",
      "352/552 [==================>...........] - ETA: 0s - loss: 0.5339 - accuracy: 0.7330 - f1_m: 0.7330 - precision_m: 0.7330 - recall_m: 0.7330WARNING:tensorflow:Can save best model only with val_loss available, skipping.\n",
      "552/552 [==============================] - 0s 184us/sample - loss: 0.5193 - accuracy: 0.7355 - f1_m: 0.7465 - precision_m: 0.7465 - recall_m: 0.7465\n",
      "Epoch 21/100\n",
      "352/552 [==================>...........] - ETA: 0s - loss: 0.5002 - accuracy: 0.7188 - f1_m: 0.7187 - precision_m: 0.7188 - recall_m: 0.7188WARNING:tensorflow:Can save best model only with val_loss available, skipping.\n",
      "552/552 [==============================] - 0s 183us/sample - loss: 0.4971 - accuracy: 0.7355 - f1_m: 0.7413 - precision_m: 0.7413 - recall_m: 0.7413\n",
      "Epoch 22/100\n",
      "352/552 [==================>...........] - ETA: 0s - loss: 0.5133 - accuracy: 0.7358 - f1_m: 0.7358 - precision_m: 0.7358 - recall_m: 0.7358WARNING:tensorflow:Can save best model only with val_loss available, skipping.\n",
      "552/552 [==============================] - 0s 185us/sample - loss: 0.5121 - accuracy: 0.7373 - f1_m: 0.7483 - precision_m: 0.7483 - recall_m: 0.7483\n",
      "Epoch 23/100\n",
      "352/552 [==================>...........] - ETA: 0s - loss: 0.4857 - accuracy: 0.7699 - f1_m: 0.7699 - precision_m: 0.7699 - recall_m: 0.7699WARNING:tensorflow:Can save best model only with val_loss available, skipping.\n",
      "552/552 [==============================] - 0s 187us/sample - loss: 0.5013 - accuracy: 0.7609 - f1_m: 0.7552 - precision_m: 0.7552 - recall_m: 0.7552\n",
      "Epoch 24/100\n",
      "352/552 [==================>...........] - ETA: 0s - loss: 0.5361 - accuracy: 0.7330 - f1_m: 0.7330 - precision_m: 0.7330 - recall_m: 0.7330WARNING:tensorflow:Can save best model only with val_loss available, skipping.\n",
      "552/552 [==============================] - 0s 193us/sample - loss: 0.5334 - accuracy: 0.7355 - f1_m: 0.7257 - precision_m: 0.7257 - recall_m: 0.7257\n",
      "Epoch 25/100\n",
      "320/552 [================>.............] - ETA: 0s - loss: 0.4892 - accuracy: 0.7375 - f1_m: 0.7375 - precision_m: 0.7375 - recall_m: 0.7375WARNING:tensorflow:Can save best model only with val_loss available, skipping.\n",
      "552/552 [==============================] - 0s 199us/sample - loss: 0.4950 - accuracy: 0.7319 - f1_m: 0.7378 - precision_m: 0.7378 - recall_m: 0.7378\n",
      "Epoch 26/100\n",
      "320/552 [================>.............] - ETA: 0s - loss: 0.5173 - accuracy: 0.7094 - f1_m: 0.7094 - precision_m: 0.7094 - recall_m: 0.7094WARNING:tensorflow:Can save best model only with val_loss available, skipping.\n",
      "552/552 [==============================] - 0s 194us/sample - loss: 0.5083 - accuracy: 0.7264 - f1_m: 0.7326 - precision_m: 0.7326 - recall_m: 0.7326\n",
      "Epoch 27/100\n",
      "352/552 [==================>...........] - ETA: 0s - loss: 0.5093 - accuracy: 0.7244 - f1_m: 0.7244 - precision_m: 0.7244 - recall_m: 0.7244WARNING:tensorflow:Can save best model only with val_loss available, skipping.\n",
      "552/552 [==============================] - 0s 188us/sample - loss: 0.5025 - accuracy: 0.7192 - f1_m: 0.7153 - precision_m: 0.7153 - recall_m: 0.7153\n",
      "Epoch 28/100\n",
      "352/552 [==================>...........] - ETA: 0s - loss: 0.5193 - accuracy: 0.7159 - f1_m: 0.7159 - precision_m: 0.7159 - recall_m: 0.7159WARNING:tensorflow:Can save best model only with val_loss available, skipping.\n",
      "552/552 [==============================] - 0s 184us/sample - loss: 0.5057 - accuracy: 0.7391 - f1_m: 0.7344 - precision_m: 0.7344 - recall_m: 0.7344\n",
      "Epoch 29/100\n",
      "320/552 [================>.............] - ETA: 0s - loss: 0.4912 - accuracy: 0.7375 - f1_m: 0.7375 - precision_m: 0.7375 - recall_m: 0.7375WARNING:tensorflow:Can save best model only with val_loss available, skipping.\n",
      "552/552 [==============================] - 0s 194us/sample - loss: 0.5014 - accuracy: 0.7337 - f1_m: 0.7344 - precision_m: 0.7344 - recall_m: 0.7344\n",
      "Epoch 30/100\n",
      "320/552 [================>.............] - ETA: 0s - loss: 0.5133 - accuracy: 0.7250 - f1_m: 0.7250 - precision_m: 0.7250 - recall_m: 0.7250WARNING:tensorflow:Can save best model only with val_loss available, skipping.\n",
      "552/552 [==============================] - 0s 203us/sample - loss: 0.5235 - accuracy: 0.7210 - f1_m: 0.7274 - precision_m: 0.7274 - recall_m: 0.7274\n",
      "Epoch 31/100\n",
      "320/552 [================>.............] - ETA: 0s - loss: 0.5069 - accuracy: 0.7125 - f1_m: 0.7125 - precision_m: 0.7125 - recall_m: 0.7125WARNING:tensorflow:Can save best model only with val_loss available, skipping.\n",
      "552/552 [==============================] - 0s 201us/sample - loss: 0.5249 - accuracy: 0.7101 - f1_m: 0.7066 - precision_m: 0.7066 - recall_m: 0.7066\n",
      "Epoch 32/100\n",
      "320/552 [================>.............] - ETA: 0s - loss: 0.5090 - accuracy: 0.7406 - f1_m: 0.7406 - precision_m: 0.7406 - recall_m: 0.7406WARNING:tensorflow:Can save best model only with val_loss available, skipping.\n",
      "552/552 [==============================] - 0s 205us/sample - loss: 0.5069 - accuracy: 0.7373 - f1_m: 0.7170 - precision_m: 0.7170 - recall_m: 0.7170\n",
      "Epoch 33/100\n",
      "320/552 [================>.............] - ETA: 0s - loss: 0.4928 - accuracy: 0.7188 - f1_m: 0.7187 - precision_m: 0.7188 - recall_m: 0.7188WARNING:tensorflow:Can save best model only with val_loss available, skipping.\n",
      "552/552 [==============================] - 0s 204us/sample - loss: 0.5015 - accuracy: 0.7210 - f1_m: 0.7274 - precision_m: 0.7274 - recall_m: 0.7274\n",
      "Epoch 34/100\n",
      "320/552 [================>.............] - ETA: 0s - loss: 0.5420 - accuracy: 0.7250 - f1_m: 0.7250 - precision_m: 0.7250 - recall_m: 0.7250WARNING:tensorflow:Can save best model only with val_loss available, skipping.\n",
      "552/552 [==============================] - 0s 201us/sample - loss: 0.5075 - accuracy: 0.7428 - f1_m: 0.7535 - precision_m: 0.7535 - recall_m: 0.7535\n",
      "Epoch 35/100\n",
      "320/552 [================>.............] - ETA: 0s - loss: 0.5071 - accuracy: 0.7469 - f1_m: 0.7469 - precision_m: 0.7469 - recall_m: 0.7469WARNING:tensorflow:Can save best model only with val_loss available, skipping.\n",
      "552/552 [==============================] - 0s 207us/sample - loss: 0.5241 - accuracy: 0.7446 - f1_m: 0.7396 - precision_m: 0.7396 - recall_m: 0.7396\n",
      "Epoch 36/100\n",
      "320/552 [================>.............] - ETA: 0s - loss: 0.5385 - accuracy: 0.7188 - f1_m: 0.7187 - precision_m: 0.7188 - recall_m: 0.7188WARNING:tensorflow:Can save best model only with val_loss available, skipping.\n",
      "552/552 [==============================] - 0s 209us/sample - loss: 0.5206 - accuracy: 0.7156 - f1_m: 0.7170 - precision_m: 0.7170 - recall_m: 0.7170\n",
      "Epoch 37/100\n",
      "288/552 [==============>...............] - ETA: 0s - loss: 0.4842 - accuracy: 0.7569 - f1_m: 0.7569 - precision_m: 0.7569 - recall_m: 0.7569WARNING:tensorflow:Can save best model only with val_loss available, skipping.\n",
      "552/552 [==============================] - 0s 210us/sample - loss: 0.5028 - accuracy: 0.7337 - f1_m: 0.7396 - precision_m: 0.7396 - recall_m: 0.7396\n",
      "Epoch 38/100\n",
      "544/552 [============================>.] - ETA: 0s - loss: 0.4872 - accuracy: 0.7482 - f1_m: 0.7482 - precision_m: 0.7482 - recall_m: 0.7482WARNING:tensorflow:Can save best model only with val_loss available, skipping.\n",
      "552/552 [==============================] - 0s 221us/sample - loss: 0.4866 - accuracy: 0.7500 - f1_m: 0.7552 - precision_m: 0.7552 - recall_m: 0.7552\n",
      "Epoch 39/100\n",
      "288/552 [==============>...............] - ETA: 0s - loss: 0.5170 - accuracy: 0.7153 - f1_m: 0.7153 - precision_m: 0.7153 - recall_m: 0.7153WARNING:tensorflow:Can save best model only with val_loss available, skipping.\n",
      "552/552 [==============================] - 0s 213us/sample - loss: 0.5095 - accuracy: 0.7264 - f1_m: 0.7274 - precision_m: 0.7274 - recall_m: 0.7274\n",
      "Epoch 40/100\n",
      "320/552 [================>.............] - ETA: 0s - loss: 0.5310 - accuracy: 0.7750 - f1_m: 0.7750 - precision_m: 0.7750 - recall_m: 0.7750WARNING:tensorflow:Can save best model only with val_loss available, skipping.\n",
      "552/552 [==============================] - 0s 207us/sample - loss: 0.5346 - accuracy: 0.7391 - f1_m: 0.7344 - precision_m: 0.7344 - recall_m: 0.7344\n",
      "Epoch 41/100\n",
      "320/552 [================>.............] - ETA: 0s - loss: 0.4824 - accuracy: 0.7500 - f1_m: 0.7500 - precision_m: 0.7500 - recall_m: 0.7500WARNING:tensorflow:Can save best model only with val_loss available, skipping.\n",
      "552/552 [==============================] - 0s 205us/sample - loss: 0.4965 - accuracy: 0.7246 - f1_m: 0.7257 - precision_m: 0.7257 - recall_m: 0.7257\n",
      "Epoch 42/100\n",
      "320/552 [================>.............] - ETA: 0s - loss: 0.5130 - accuracy: 0.7563 - f1_m: 0.7562 - precision_m: 0.7563 - recall_m: 0.7563WARNING:tensorflow:Can save best model only with val_loss available, skipping.\n",
      "552/552 [==============================] - 0s 210us/sample - loss: 0.5209 - accuracy: 0.7264 - f1_m: 0.7170 - precision_m: 0.7170 - recall_m: 0.7170\n",
      "Epoch 43/100\n",
      "320/552 [================>.............] - ETA: 0s - loss: 0.5418 - accuracy: 0.6719 - f1_m: 0.6719 - precision_m: 0.6719 - recall_m: 0.6719WARNING:tensorflow:Can save best model only with val_loss available, skipping.\n",
      "552/552 [==============================] - 0s 208us/sample - loss: 0.5091 - accuracy: 0.7174 - f1_m: 0.7240 - precision_m: 0.7240 - recall_m: 0.7240\n",
      "Epoch 44/100\n",
      "320/552 [================>.............] - ETA: 0s - loss: 0.5071 - accuracy: 0.7469 - f1_m: 0.7469 - precision_m: 0.7469 - recall_m: 0.7469WARNING:tensorflow:Can save best model only with val_loss available, skipping.\n",
      "552/552 [==============================] - 0s 207us/sample - loss: 0.5134 - accuracy: 0.7319 - f1_m: 0.7274 - precision_m: 0.7274 - recall_m: 0.7274\n",
      "Epoch 45/100\n",
      "320/552 [================>.............] - ETA: 0s - loss: 0.4999 - accuracy: 0.7375 - f1_m: 0.7375 - precision_m: 0.7375 - recall_m: 0.7375WARNING:tensorflow:Can save best model only with val_loss available, skipping.\n",
      "552/552 [==============================] - 0s 208us/sample - loss: 0.5195 - accuracy: 0.7319 - f1_m: 0.7378 - precision_m: 0.7378 - recall_m: 0.7378\n",
      "Epoch 46/100\n",
      "320/552 [================>.............] - ETA: 0s - loss: 0.5011 - accuracy: 0.7344 - f1_m: 0.7344 - precision_m: 0.7344 - recall_m: 0.7344WARNING:tensorflow:Can save best model only with val_loss available, skipping.\n",
      "552/552 [==============================] - 0s 209us/sample - loss: 0.5086 - accuracy: 0.7319 - f1_m: 0.7274 - precision_m: 0.7274 - recall_m: 0.7274\n",
      "Epoch 47/100\n",
      "544/552 [============================>.] - ETA: 0s - loss: 0.5115 - accuracy: 0.7243 - f1_m: 0.7243 - precision_m: 0.7243 - recall_m: 0.7243WARNING:tensorflow:Can save best model only with val_loss available, skipping.\n",
      "552/552 [==============================] - 0s 224us/sample - loss: 0.5098 - accuracy: 0.7246 - f1_m: 0.7257 - precision_m: 0.7257 - recall_m: 0.7257\n",
      "Epoch 48/100\n",
      "288/552 [==============>...............] - ETA: 0s - loss: 0.4789 - accuracy: 0.7326 - f1_m: 0.7326 - precision_m: 0.7326 - recall_m: 0.7326WARNING:tensorflow:Can save best model only with val_loss available, skipping.\n",
      "552/552 [==============================] - 0s 226us/sample - loss: 0.5130 - accuracy: 0.7120 - f1_m: 0.7083 - precision_m: 0.7083 - recall_m: 0.7083\n",
      "Epoch 49/100\n",
      "512/552 [==========================>...] - ETA: 0s - loss: 0.4764 - accuracy: 0.7285 - f1_m: 0.7285 - precision_m: 0.7285 - recall_m: 0.7285WARNING:tensorflow:Can save best model only with val_loss available, skipping.\n",
      "552/552 [==============================] - 0s 234us/sample - loss: 0.4795 - accuracy: 0.7264 - f1_m: 0.7222 - precision_m: 0.7222 - recall_m: 0.7222\n",
      "Epoch 50/100\n",
      "544/552 [============================>.] - ETA: 0s - loss: 0.4817 - accuracy: 0.7555 - f1_m: 0.7555 - precision_m: 0.7555 - recall_m: 0.7555WARNING:tensorflow:Can save best model only with val_loss available, skipping.\n",
      "552/552 [==============================] - 0s 235us/sample - loss: 0.4809 - accuracy: 0.7572 - f1_m: 0.7622 - precision_m: 0.7622 - recall_m: 0.7622\n",
      "Epoch 51/100\n",
      "544/552 [============================>.] - ETA: 0s - loss: 0.5027 - accuracy: 0.7371 - f1_m: 0.7371 - precision_m: 0.7371 - recall_m: 0.7371WARNING:tensorflow:Can save best model only with val_loss available, skipping.\n",
      "552/552 [==============================] - 0s 232us/sample - loss: 0.4996 - accuracy: 0.7373 - f1_m: 0.7378 - precision_m: 0.7378 - recall_m: 0.7378\n",
      "Epoch 52/100\n",
      "544/552 [============================>.] - ETA: 0s - loss: 0.4767 - accuracy: 0.7463 - f1_m: 0.7463 - precision_m: 0.7463 - recall_m: 0.7463WARNING:tensorflow:Can save best model only with val_loss available, skipping.\n",
      "552/552 [==============================] - 0s 229us/sample - loss: 0.4765 - accuracy: 0.7464 - f1_m: 0.7465 - precision_m: 0.7465 - recall_m: 0.7465\n",
      "Epoch 53/100\n",
      "544/552 [============================>.] - ETA: 0s - loss: 0.5070 - accuracy: 0.7647 - f1_m: 0.7647 - precision_m: 0.7647 - recall_m: 0.7647WARNING:tensorflow:Can save best model only with val_loss available, skipping.\n",
      "552/552 [==============================] - 0s 228us/sample - loss: 0.5088 - accuracy: 0.7627 - f1_m: 0.7569 - precision_m: 0.7569 - recall_m: 0.7569\n",
      "Epoch 54/100\n",
      "512/552 [==========================>...] - ETA: 0s - loss: 0.5173 - accuracy: 0.7422 - f1_m: 0.7422 - precision_m: 0.7422 - recall_m: 0.7422WARNING:tensorflow:Can save best model only with val_loss available, skipping.\n",
      "552/552 [==============================] - 0s 232us/sample - loss: 0.5132 - accuracy: 0.7428 - f1_m: 0.7378 - precision_m: 0.7378 - recall_m: 0.7378\n",
      "Epoch 55/100\n",
      "320/552 [================>.............] - ETA: 0s - loss: 0.5117 - accuracy: 0.7281 - f1_m: 0.7281 - precision_m: 0.7281 - recall_m: 0.7281WARNING:tensorflow:Can save best model only with val_loss available, skipping.\n",
      "552/552 [==============================] - 0s 200us/sample - loss: 0.5066 - accuracy: 0.7319 - f1_m: 0.7431 - precision_m: 0.7431 - recall_m: 0.7431\n",
      "Epoch 56/100\n",
      "320/552 [================>.............] - ETA: 0s - loss: 0.5090 - accuracy: 0.7531 - f1_m: 0.7531 - precision_m: 0.7531 - recall_m: 0.7531WARNING:tensorflow:Can save best model only with val_loss available, skipping.\n",
      "552/552 [==============================] - 0s 197us/sample - loss: 0.5117 - accuracy: 0.7536 - f1_m: 0.7587 - precision_m: 0.7587 - recall_m: 0.7587\n",
      "Epoch 57/100\n",
      "320/552 [================>.............] - ETA: 0s - loss: 0.5000 - accuracy: 0.7469 - f1_m: 0.7469 - precision_m: 0.7469 - recall_m: 0.7469WARNING:tensorflow:Can save best model only with val_loss available, skipping.\n",
      "552/552 [==============================] - 0s 199us/sample - loss: 0.5064 - accuracy: 0.7319 - f1_m: 0.7326 - precision_m: 0.7326 - recall_m: 0.7326\n",
      "Epoch 58/100\n",
      "320/552 [================>.............] - ETA: 0s - loss: 0.4902 - accuracy: 0.7344 - f1_m: 0.7344 - precision_m: 0.7344 - recall_m: 0.7344WARNING:tensorflow:Can save best model only with val_loss available, skipping.\n",
      "552/552 [==============================] - 0s 199us/sample - loss: 0.4796 - accuracy: 0.7482 - f1_m: 0.7378 - precision_m: 0.7378 - recall_m: 0.7378\n",
      "Epoch 59/100\n",
      "320/552 [================>.............] - ETA: 0s - loss: 0.5096 - accuracy: 0.7250 - f1_m: 0.7250 - precision_m: 0.7250 - recall_m: 0.7250WARNING:tensorflow:Can save best model only with val_loss available, skipping.\n",
      "552/552 [==============================] - 0s 200us/sample - loss: 0.5169 - accuracy: 0.7210 - f1_m: 0.7222 - precision_m: 0.7222 - recall_m: 0.7222\n",
      "Epoch 60/100\n",
      "320/552 [================>.............] - ETA: 0s - loss: 0.4534 - accuracy: 0.7937 - f1_m: 0.7937 - precision_m: 0.7937 - recall_m: 0.7937WARNING:tensorflow:Can save best model only with val_loss available, skipping.\n",
      "552/552 [==============================] - 0s 196us/sample - loss: 0.4691 - accuracy: 0.7717 - f1_m: 0.7812 - precision_m: 0.7812 - recall_m: 0.7812\n",
      "Epoch 61/100\n",
      "320/552 [================>.............] - ETA: 0s - loss: 0.5078 - accuracy: 0.7375 - f1_m: 0.7375 - precision_m: 0.7375 - recall_m: 0.7375WARNING:tensorflow:Can save best model only with val_loss available, skipping.\n",
      "552/552 [==============================] - 0s 195us/sample - loss: 0.5080 - accuracy: 0.7355 - f1_m: 0.7361 - precision_m: 0.7361 - recall_m: 0.7361\n",
      "Epoch 62/100\n",
      "320/552 [================>.............] - ETA: 0s - loss: 0.4646 - accuracy: 0.7719 - f1_m: 0.7719 - precision_m: 0.7719 - recall_m: 0.7719WARNING:tensorflow:Can save best model only with val_loss available, skipping.\n",
      "552/552 [==============================] - 0s 201us/sample - loss: 0.4802 - accuracy: 0.7409 - f1_m: 0.7465 - precision_m: 0.7465 - recall_m: 0.7465\n",
      "Epoch 63/100\n",
      "288/552 [==============>...............] - ETA: 0s - loss: 0.4690 - accuracy: 0.7431 - f1_m: 0.7431 - precision_m: 0.7431 - recall_m: 0.7431WARNING:tensorflow:Can save best model only with val_loss available, skipping.\n",
      "552/552 [==============================] - 0s 208us/sample - loss: 0.4947 - accuracy: 0.7500 - f1_m: 0.7500 - precision_m: 0.7500 - recall_m: 0.7500\n",
      "Epoch 64/100\n",
      "320/552 [================>.............] - ETA: 0s - loss: 0.4928 - accuracy: 0.7688 - f1_m: 0.7687 - precision_m: 0.7688 - recall_m: 0.7688WARNING:tensorflow:Can save best model only with val_loss available, skipping.\n",
      "552/552 [==============================] - 0s 199us/sample - loss: 0.5019 - accuracy: 0.7446 - f1_m: 0.7292 - precision_m: 0.7292 - recall_m: 0.7292\n",
      "Epoch 65/100\n",
      "320/552 [================>.............] - ETA: 0s - loss: 0.5004 - accuracy: 0.7406 - f1_m: 0.7406 - precision_m: 0.7406 - recall_m: 0.7406WARNING:tensorflow:Can save best model only with val_loss available, skipping.\n",
      "552/552 [==============================] - 0s 198us/sample - loss: 0.4915 - accuracy: 0.7373 - f1_m: 0.7274 - precision_m: 0.7274 - recall_m: 0.7274\n",
      "Epoch 66/100\n",
      "320/552 [================>.............] - ETA: 0s - loss: 0.4728 - accuracy: 0.7563 - f1_m: 0.7562 - precision_m: 0.7563 - recall_m: 0.7563WARNING:tensorflow:Can save best model only with val_loss available, skipping.\n",
      "552/552 [==============================] - 0s 201us/sample - loss: 0.4814 - accuracy: 0.7373 - f1_m: 0.7326 - precision_m: 0.7326 - recall_m: 0.7326\n",
      "Epoch 67/100\n",
      "320/552 [================>.............] - ETA: 0s - loss: 0.5136 - accuracy: 0.7344 - f1_m: 0.7344 - precision_m: 0.7344 - recall_m: 0.7344WARNING:tensorflow:Can save best model only with val_loss available, skipping.\n",
      "552/552 [==============================] - 0s 193us/sample - loss: 0.4962 - accuracy: 0.7391 - f1_m: 0.7344 - precision_m: 0.7344 - recall_m: 0.7344\n",
      "Epoch 68/100\n",
      "320/552 [================>.............] - ETA: 0s - loss: 0.4846 - accuracy: 0.7250 - f1_m: 0.7250 - precision_m: 0.7250 - recall_m: 0.7250WARNING:tensorflow:Can save best model only with val_loss available, skipping.\n",
      "552/552 [==============================] - 0s 205us/sample - loss: 0.4805 - accuracy: 0.7391 - f1_m: 0.7344 - precision_m: 0.7344 - recall_m: 0.7344\n",
      "Epoch 69/100\n",
      "320/552 [================>.............] - ETA: 0s - loss: 0.5576 - accuracy: 0.7156 - f1_m: 0.7156 - precision_m: 0.7156 - recall_m: 0.7156WARNING:tensorflow:Can save best model only with val_loss available, skipping.\n",
      "552/552 [==============================] - 0s 204us/sample - loss: 0.5253 - accuracy: 0.7210 - f1_m: 0.7118 - precision_m: 0.7118 - recall_m: 0.7118\n",
      "Epoch 70/100\n",
      "544/552 [============================>.] - ETA: 0s - loss: 0.5066 - accuracy: 0.7206 - f1_m: 0.7206 - precision_m: 0.7206 - recall_m: 0.7206WARNING:tensorflow:Can save best model only with val_loss available, skipping.\n",
      "552/552 [==============================] - 0s 218us/sample - loss: 0.5042 - accuracy: 0.7246 - f1_m: 0.7361 - precision_m: 0.7361 - recall_m: 0.7361\n",
      "Epoch 71/100\n",
      "320/552 [================>.............] - ETA: 0s - loss: 0.5076 - accuracy: 0.7188 - f1_m: 0.7187 - precision_m: 0.7188 - recall_m: 0.7188WARNING:tensorflow:Can save best model only with val_loss available, skipping.\n",
      "552/552 [==============================] - 0s 205us/sample - loss: 0.4919 - accuracy: 0.7192 - f1_m: 0.7153 - precision_m: 0.7153 - recall_m: 0.7153\n",
      "Epoch 72/100\n",
      "288/552 [==============>...............] - ETA: 0s - loss: 0.5125 - accuracy: 0.7222 - f1_m: 0.7222 - precision_m: 0.7222 - recall_m: 0.7222WARNING:tensorflow:Can save best model only with val_loss available, skipping.\n",
      "552/552 [==============================] - 0s 210us/sample - loss: 0.4912 - accuracy: 0.7337 - f1_m: 0.7396 - precision_m: 0.7396 - recall_m: 0.7396\n",
      "Epoch 73/100\n",
      "320/552 [================>.............] - ETA: 0s - loss: 0.5169 - accuracy: 0.7594 - f1_m: 0.7594 - precision_m: 0.7594 - recall_m: 0.7594WARNING:tensorflow:Can save best model only with val_loss available, skipping.\n",
      "552/552 [==============================] - 0s 199us/sample - loss: 0.5079 - accuracy: 0.7554 - f1_m: 0.7604 - precision_m: 0.7604 - recall_m: 0.7604\n",
      "Epoch 74/100\n",
      "320/552 [================>.............] - ETA: 0s - loss: 0.5164 - accuracy: 0.7188 - f1_m: 0.7187 - precision_m: 0.7188 - recall_m: 0.7188WARNING:tensorflow:Can save best model only with val_loss available, skipping.\n",
      "552/552 [==============================] - 0s 199us/sample - loss: 0.5074 - accuracy: 0.7192 - f1_m: 0.7257 - precision_m: 0.7257 - recall_m: 0.7257\n",
      "Epoch 75/100\n",
      "320/552 [================>.............] - ETA: 0s - loss: 0.4825 - accuracy: 0.7531 - f1_m: 0.7531 - precision_m: 0.7531 - recall_m: 0.7531WARNING:tensorflow:Can save best model only with val_loss available, skipping.\n",
      "552/552 [==============================] - 0s 202us/sample - loss: 0.4992 - accuracy: 0.7373 - f1_m: 0.7222 - precision_m: 0.7222 - recall_m: 0.7222\n",
      "Epoch 76/100\n",
      "320/552 [================>.............] - ETA: 0s - loss: 0.4913 - accuracy: 0.7437 - f1_m: 0.7437 - precision_m: 0.7437 - recall_m: 0.7437WARNING:tensorflow:Can save best model only with val_loss available, skipping.\n",
      "552/552 [==============================] - 0s 200us/sample - loss: 0.4903 - accuracy: 0.7446 - f1_m: 0.7500 - precision_m: 0.7500 - recall_m: 0.7500\n",
      "Epoch 77/100\n",
      "320/552 [================>.............] - ETA: 0s - loss: 0.4684 - accuracy: 0.7344 - f1_m: 0.7344 - precision_m: 0.7344 - recall_m: 0.7344WARNING:tensorflow:Can save best model only with val_loss available, skipping.\n",
      "552/552 [==============================] - 0s 203us/sample - loss: 0.4934 - accuracy: 0.7228 - f1_m: 0.7240 - precision_m: 0.7240 - recall_m: 0.7240\n",
      "Epoch 78/100\n",
      "544/552 [============================>.] - ETA: 0s - loss: 0.5007 - accuracy: 0.7353 - f1_m: 0.7353 - precision_m: 0.7353 - recall_m: 0.7353WARNING:tensorflow:Can save best model only with val_loss available, skipping.\n",
      "552/552 [==============================] - 0s 216us/sample - loss: 0.5018 - accuracy: 0.7337 - f1_m: 0.7292 - precision_m: 0.7292 - recall_m: 0.7292\n",
      "Epoch 79/100\n",
      "320/552 [================>.............] - ETA: 0s - loss: 0.5155 - accuracy: 0.7188 - f1_m: 0.7187 - precision_m: 0.7188 - recall_m: 0.7188WARNING:tensorflow:Can save best model only with val_loss available, skipping.\n",
      "552/552 [==============================] - 0s 201us/sample - loss: 0.5135 - accuracy: 0.7283 - f1_m: 0.7292 - precision_m: 0.7292 - recall_m: 0.7292\n",
      "Epoch 80/100\n",
      "320/552 [================>.............] - ETA: 0s - loss: 0.5056 - accuracy: 0.7000 - f1_m: 0.7000 - precision_m: 0.7000 - recall_m: 0.7000WARNING:tensorflow:Can save best model only with val_loss available, skipping.\n",
      "552/552 [==============================] - 0s 201us/sample - loss: 0.5076 - accuracy: 0.7192 - f1_m: 0.7153 - precision_m: 0.7153 - recall_m: 0.7153\n",
      "Epoch 81/100\n",
      "320/552 [================>.............] - ETA: 0s - loss: 0.5155 - accuracy: 0.7312 - f1_m: 0.7312 - precision_m: 0.7312 - recall_m: 0.7312WARNING:tensorflow:Can save best model only with val_loss available, skipping.\n",
      "552/552 [==============================] - 0s 207us/sample - loss: 0.5102 - accuracy: 0.7246 - f1_m: 0.7205 - precision_m: 0.7205 - recall_m: 0.7205\n",
      "Epoch 82/100\n",
      "320/552 [================>.............] - ETA: 0s - loss: 0.5143 - accuracy: 0.7344 - f1_m: 0.7344 - precision_m: 0.7344 - recall_m: 0.7344WARNING:tensorflow:Can save best model only with val_loss available, skipping.\n",
      "552/552 [==============================] - 0s 199us/sample - loss: 0.5072 - accuracy: 0.7391 - f1_m: 0.7396 - precision_m: 0.7396 - recall_m: 0.7396\n",
      "Epoch 83/100\n",
      "320/552 [================>.............] - ETA: 0s - loss: 0.4985 - accuracy: 0.7469 - f1_m: 0.7469 - precision_m: 0.7469 - recall_m: 0.7469WARNING:tensorflow:Can save best model only with val_loss available, skipping.\n",
      "552/552 [==============================] - 0s 197us/sample - loss: 0.5059 - accuracy: 0.7446 - f1_m: 0.7448 - precision_m: 0.7448 - recall_m: 0.7448\n",
      "Epoch 84/100\n",
      "320/552 [================>.............] - ETA: 0s - loss: 0.5017 - accuracy: 0.7594 - f1_m: 0.7594 - precision_m: 0.7594 - recall_m: 0.7594WARNING:tensorflow:Can save best model only with val_loss available, skipping.\n",
      "552/552 [==============================] - 0s 196us/sample - loss: 0.5087 - accuracy: 0.7446 - f1_m: 0.7396 - precision_m: 0.7396 - recall_m: 0.7396\n",
      "Epoch 85/100\n",
      "320/552 [================>.............] - ETA: 0s - loss: 0.4966 - accuracy: 0.7063 - f1_m: 0.7062 - precision_m: 0.7063 - recall_m: 0.7063WARNING:tensorflow:Can save best model only with val_loss available, skipping.\n",
      "552/552 [==============================] - 0s 198us/sample - loss: 0.5067 - accuracy: 0.7210 - f1_m: 0.7222 - precision_m: 0.7222 - recall_m: 0.7222\n",
      "Epoch 86/100\n",
      "320/552 [================>.............] - ETA: 0s - loss: 0.5032 - accuracy: 0.7344 - f1_m: 0.7344 - precision_m: 0.7344 - recall_m: 0.7344WARNING:tensorflow:Can save best model only with val_loss available, skipping.\n",
      "552/552 [==============================] - 0s 199us/sample - loss: 0.5060 - accuracy: 0.7283 - f1_m: 0.7240 - precision_m: 0.7240 - recall_m: 0.7240\n",
      "Epoch 87/100\n",
      "320/552 [================>.............] - ETA: 0s - loss: 0.5228 - accuracy: 0.7125 - f1_m: 0.7125 - precision_m: 0.7125 - recall_m: 0.7125WARNING:tensorflow:Can save best model only with val_loss available, skipping.\n",
      "552/552 [==============================] - 0s 201us/sample - loss: 0.5154 - accuracy: 0.7156 - f1_m: 0.7066 - precision_m: 0.7066 - recall_m: 0.7066\n",
      "Epoch 88/100\n",
      "320/552 [================>.............] - ETA: 0s - loss: 0.4849 - accuracy: 0.7406 - f1_m: 0.7406 - precision_m: 0.7406 - recall_m: 0.7406WARNING:tensorflow:Can save best model only with val_loss available, skipping.\n",
      "552/552 [==============================] - 0s 198us/sample - loss: 0.4922 - accuracy: 0.7428 - f1_m: 0.7326 - precision_m: 0.7326 - recall_m: 0.7326\n",
      "Epoch 89/100\n",
      "320/552 [================>.............] - ETA: 0s - loss: 0.4529 - accuracy: 0.7875 - f1_m: 0.7875 - precision_m: 0.7875 - recall_m: 0.7875WARNING:tensorflow:Can save best model only with val_loss available, skipping.\n",
      "552/552 [==============================] - 0s 205us/sample - loss: 0.4801 - accuracy: 0.7482 - f1_m: 0.7535 - precision_m: 0.7535 - recall_m: 0.7535\n",
      "Epoch 90/100\n",
      "320/552 [================>.............] - ETA: 0s - loss: 0.4954 - accuracy: 0.7469 - f1_m: 0.7469 - precision_m: 0.7469 - recall_m: 0.7469WARNING:tensorflow:Can save best model only with val_loss available, skipping.\n",
      "552/552 [==============================] - 0s 201us/sample - loss: 0.4879 - accuracy: 0.7554 - f1_m: 0.7552 - precision_m: 0.7552 - recall_m: 0.7552\n",
      "Epoch 91/100\n",
      "320/552 [================>.............] - ETA: 0s - loss: 0.4790 - accuracy: 0.7625 - f1_m: 0.7625 - precision_m: 0.7625 - recall_m: 0.7625WARNING:tensorflow:Can save best model only with val_loss available, skipping.\n",
      "552/552 [==============================] - 0s 200us/sample - loss: 0.5110 - accuracy: 0.7391 - f1_m: 0.7448 - precision_m: 0.7448 - recall_m: 0.7448\n",
      "Epoch 92/100\n",
      "320/552 [================>.............] - ETA: 0s - loss: 0.4646 - accuracy: 0.7625 - f1_m: 0.7625 - precision_m: 0.7625 - recall_m: 0.7625WARNING:tensorflow:Can save best model only with val_loss available, skipping.\n",
      "552/552 [==============================] - 0s 196us/sample - loss: 0.4593 - accuracy: 0.7772 - f1_m: 0.7656 - precision_m: 0.7656 - recall_m: 0.7656\n",
      "Epoch 93/100\n",
      "320/552 [================>.............] - ETA: 0s - loss: 0.4966 - accuracy: 0.7406 - f1_m: 0.7406 - precision_m: 0.7406 - recall_m: 0.7406WARNING:tensorflow:Can save best model only with val_loss available, skipping.\n",
      "552/552 [==============================] - 0s 197us/sample - loss: 0.4912 - accuracy: 0.7446 - f1_m: 0.7396 - precision_m: 0.7396 - recall_m: 0.7396\n",
      "Epoch 94/100\n",
      "320/552 [================>.............] - ETA: 0s - loss: 0.4684 - accuracy: 0.7437 - f1_m: 0.7437 - precision_m: 0.7437 - recall_m: 0.7437WARNING:tensorflow:Can save best model only with val_loss available, skipping.\n",
      "552/552 [==============================] - 0s 199us/sample - loss: 0.4792 - accuracy: 0.7446 - f1_m: 0.7448 - precision_m: 0.7448 - recall_m: 0.7448\n",
      "Epoch 95/100\n",
      "320/552 [================>.............] - ETA: 0s - loss: 0.4874 - accuracy: 0.7375 - f1_m: 0.7375 - precision_m: 0.7375 - recall_m: 0.7375WARNING:tensorflow:Can save best model only with val_loss available, skipping.\n",
      "552/552 [==============================] - 0s 195us/sample - loss: 0.4845 - accuracy: 0.7373 - f1_m: 0.7431 - precision_m: 0.7431 - recall_m: 0.7431\n",
      "Epoch 96/100\n",
      "320/552 [================>.............] - ETA: 0s - loss: 0.4843 - accuracy: 0.7219 - f1_m: 0.7219 - precision_m: 0.7219 - recall_m: 0.7219WARNING:tensorflow:Can save best model only with val_loss available, skipping.\n",
      "552/552 [==============================] - 0s 196us/sample - loss: 0.4546 - accuracy: 0.7355 - f1_m: 0.7361 - precision_m: 0.7361 - recall_m: 0.7361\n",
      "Epoch 97/100\n",
      "320/552 [================>.............] - ETA: 0s - loss: 0.4583 - accuracy: 0.7531 - f1_m: 0.7531 - precision_m: 0.7531 - recall_m: 0.7531WARNING:tensorflow:Can save best model only with val_loss available, skipping.\n",
      "552/552 [==============================] - 0s 194us/sample - loss: 0.4784 - accuracy: 0.7518 - f1_m: 0.7413 - precision_m: 0.7413 - recall_m: 0.7413\n",
      "Epoch 98/100\n",
      "320/552 [================>.............] - ETA: 0s - loss: 0.5045 - accuracy: 0.7594 - f1_m: 0.7594 - precision_m: 0.7594 - recall_m: 0.7594WARNING:tensorflow:Can save best model only with val_loss available, skipping.\n",
      "552/552 [==============================] - 0s 194us/sample - loss: 0.5138 - accuracy: 0.7337 - f1_m: 0.7344 - precision_m: 0.7344 - recall_m: 0.7344\n",
      "Epoch 99/100\n",
      "320/552 [================>.............] - ETA: 0s - loss: 0.5105 - accuracy: 0.7188 - f1_m: 0.7187 - precision_m: 0.7188 - recall_m: 0.7188WARNING:tensorflow:Can save best model only with val_loss available, skipping.\n",
      "552/552 [==============================] - 0s 205us/sample - loss: 0.5080 - accuracy: 0.7246 - f1_m: 0.7257 - precision_m: 0.7257 - recall_m: 0.7257\n",
      "Epoch 100/100\n",
      "288/552 [==============>...............] - ETA: 0s - loss: 0.4839 - accuracy: 0.7292 - f1_m: 0.7292 - precision_m: 0.7292 - recall_m: 0.7292WARNING:tensorflow:Can save best model only with val_loss available, skipping.\n",
      "552/552 [==============================] - 0s 210us/sample - loss: 0.4798 - accuracy: 0.7482 - f1_m: 0.7587 - precision_m: 0.7587 - recall_m: 0.7587\n"
     ]
    },
    {
     "data": {
      "text/plain": "<tensorflow.python.keras.callbacks.History at 0x7f89badd7d50>"
     },
     "execution_count": 97,
     "metadata": {},
     "output_type": "execute_result"
    }
   ],
   "source": [
    "num_epochs = 100\n",
    "num_batch_size = 32\n",
    "\n",
    "checkpointer = ModelCheckpoint(filepath=\"../models/audio_model.h5\", verbose=True, save_best_only=True)\n",
    "\n",
    "model.fit(X_train, y_train, batch_size=num_batch_size, epochs=num_epochs, callbacks=[checkpointer])"
   ],
   "metadata": {
    "collapsed": false,
    "pycharm": {
     "name": "#%%\n"
    }
   }
  },
  {
   "cell_type": "markdown",
   "source": [
    "## Testing Model"
   ],
   "metadata": {
    "collapsed": false,
    "pycharm": {
     "name": "#%% md\n"
    }
   }
  },
  {
   "cell_type": "code",
   "execution_count": 99,
   "outputs": [
    {
     "name": "stdout",
     "output_type": "stream",
     "text": [
      "loss: 0.8415306720180787\n",
      "accuracy:0.6449275612831116\n",
      "f1_score:0.6662499308586121\n",
      "precision:0.6662499904632568\n",
      "recall:0.6662499904632568\n"
     ]
    }
   ],
   "source": [
    "loss, accuracy, f1_score, precision, recall = model.evaluate(X_test, y_test, verbose=0)\n",
    "print(f\"loss: {loss}\\naccuracy:{accuracy}\\nf1_score:{f1_score}\\nprecision:{precision}\\nrecall:{recall}\")"
   ],
   "metadata": {
    "collapsed": false,
    "pycharm": {
     "name": "#%%\n"
    }
   }
  },
  {
   "cell_type": "code",
   "execution_count": 85,
   "outputs": [],
   "source": [
    "test_file_path = \"../mmsd_raw_data/converted_utterances/2_626.wav\"\n",
    "audio, sample_rate = librosa.load(test_file_path)\n",
    "mfcc_features = librosa.feature.mfcc(y=audio, sr=sample_rate, n_mfcc=13)\n",
    "mfcc_scaled_features = np.mean(mfcc_features.T, axis=0)\n",
    "\n",
    "mfcc_scaled_features = mfcc_scaled_features.reshape(1, -1)"
   ],
   "metadata": {
    "collapsed": false,
    "pycharm": {
     "name": "#%%\n"
    }
   }
  },
  {
   "cell_type": "code",
   "execution_count": 90,
   "outputs": [
    {
     "name": "stdout",
     "output_type": "stream",
     "text": [
      "Sarcastic: False\n"
     ]
    }
   ],
   "source": [
    "predicted_label = model.predict_classes(mfcc_scaled_features)\n",
    "predicted_class = label_encoder.inverse_transform(predicted_label)\n",
    "print(f\"Sarcastic: {predicted_class[0]}\")"
   ],
   "metadata": {
    "collapsed": false,
    "pycharm": {
     "name": "#%%\n"
    }
   }
  }
 ],
 "metadata": {
  "kernelspec": {
   "display_name": "Python 3",
   "language": "python",
   "name": "python3"
  },
  "language_info": {
   "codemirror_mode": {
    "name": "ipython",
    "version": 2
   },
   "file_extension": ".py",
   "mimetype": "text/x-python",
   "name": "python",
   "nbconvert_exporter": "python",
   "pygments_lexer": "ipython2",
   "version": "2.7.6"
  }
 },
 "nbformat": 4,
 "nbformat_minor": 0
}